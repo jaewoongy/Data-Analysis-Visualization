{
  "metadata": {
    "kernelspec": {
      "name": "python",
      "display_name": "Python (Pyodide)",
      "language": "python"
    },
    "language_info": {
      "codemirror_mode": {
        "name": "python",
        "version": 3
      },
      "file_extension": ".py",
      "mimetype": "text/x-python",
      "name": "python",
      "nbconvert_exporter": "python",
      "pygments_lexer": "ipython3",
      "version": "3.8"
    }
  },
  "nbformat_minor": 4,
  "nbformat": 4,
  "cells": [
    {
      "cell_type": "markdown",
      "source": "# Data Analysis and Visualization Project",
      "metadata": {}
    },
    {
      "cell_type": "markdown",
      "source": "Here is a description of the columns in our dataset, with the help of the World Happiness Report webpage: https://worldhappiness.report/\n\nName | Variable description | Type | Units of measurement\n---|---|---|---\nCountry | Name of country | Categorical | None \nYear | Year ranging from 2008 to present | Numeric | Year \nLife Ladder | Average Survey Response ranging from 0-10, with the best possible life for them being a 10 and the worst possible life being a 0 | Numeric | None\nLog GDP per Capita | measure of the economic output of a nation per person | Numeric | Log \nSocial Support | the national average of the binary responses (either 0 or 1) to the Gallup World Poll (GWP) question “If you were in trouble, do you have relatives or friends you can count on to help you whenever you need them, or not?” (higher value means higher proportion of \"yes\") | Numeric | None\nLife Expectancy | statistical measure of the estimate of the span of a life at birth | Numeric | Years\nLife Choice Freedom | national average of binary responses to the GWP question “Are you satisfied or dissatisfied with your freedom to choose what you do with your life?” (higher value means higher proportion of \"yes\") | Numeric | None\nGenerosity | the residual of regressing the national average of GWP responses to the question “Have you donated money to a charity in the past month?” on GDP per capita  (higher value means higher proportion of \"yes\") | Numeric | None\nCorruption | the average of binary answers to two GWP questions: “Is corruption widespread throughout the government or not?” and “Is corruption widespread within businesses or not?” in terms of individual's perception (higher value means higher proportion of \"yes\") | Numeric | None\nPositive Affect | average measure in a year of the overall level of positive emotional well-being including yes or no questions centered around laughter, enjoyment, and learning or doing something interesting (higher value means higher proportion of \"yes\")  | Numeric | None\nNegative Affect | average measure of negative emotional well-being in their day-to-day experiences including yes or no questions centered around worry, sadness, and anger  (higher value means higher proportion of \"yes\") | Numeric | None\nPolitical Stability | internal political stability of the country during the time period from 2010 to 2020, reflected by the rankings from https://www.theglobaleconomy.com/rankings/wb_political_stability/ where a country is considered stable if their political stability is greater than or equal to 0 | Categorical | None",
      "metadata": {
        "tags": []
      }
    },
    {
      "cell_type": "markdown",
      "source": "### **Data Description** \n\nThe World Happiness Report is a renowned survey that provides valuable insights into the global state of happiness. It has gained widespread recognition and is increasingly utilized by governments, organizations, and society to help guide policy-making decisions on the wellbeing of their citizens. This report brings together experts from various disciplines, including economics, psychology, survey analysis, national statistics, health, and public policy, who collaborate to demonstrate how well-being measurements can effectively assess a nation's progress. By analyzing the current state of happiness worldwide, the report offers a comprehensive understanding of personal and national variations in happiness, utilizing the emerging field of happiness science. This interdisciplinary approach sheds light on the factors that contribute to individual and societal well-being, ultimately enabling a more informed and evidence-based approach to promoting happiness and enhancing overall quality of life across the world.\n\nThe happiness scores of different individuals are calculated using a survey approach and various factors such as economic production, social support, life expectancy, freedom in life choices, perception of corruption, and generosity.\n\nAfter cleaning, the World Happiness Report dataset has 152 rows and 12 columns.\n\nWe will categorize each country based on if they are politically stable or not based on their political stability index from the website: https://www.theglobaleconomy.com/rankings/wb_political_stability, and compare their combined factors that lead to each groups' Life Ladder.\n\n### **Question of Interest:** \n\n*Question:* Based on the World Happiness Report data, which factors contribute most to the response variable 'Life Ladder' for politically stable and unstable countries from 2010 to 2020, and are there differences between the factors that contribute to Life Ladder between politically stable and unstable countries from this period?",
      "metadata": {}
    },
    {
      "cell_type": "code",
      "source": "# Install necessary packages\n!pip install -q geopandas",
      "metadata": {},
      "execution_count": 1,
      "outputs": []
    },
    {
      "cell_type": "code",
      "source": "# Import necessary packages\nimport pandas as pd\nimport numpy as np\nimport altair as alt\nimport statsmodels.api as sm\nimport geopandas as gpd\nimport warnings\nimport matplotlib.pyplot as plt\nimport seaborn as sns\n\n# disable row limit for plotting\nalt.data_transformers.disable_max_rows()\n# uncomment to ensure graphics display with pdf export\nalt.renderers.enable('mimetype')",
      "metadata": {
        "tags": []
      },
      "execution_count": 2,
      "outputs": [
        {
          "execution_count": 2,
          "output_type": "execute_result",
          "data": {
            "text/plain": [
              "RendererRegistry.enable('mimetype')"
            ]
          },
          "metadata": {}
        }
      ]
    },
    {
      "cell_type": "markdown",
      "source": "# Data Import",
      "metadata": {}
    },
    {
      "cell_type": "code",
      "source": "# Import dataset\nwhr = pd.read_csv('data/whr-2023.csv')\nwhr.head()",
      "metadata": {
        "tags": []
      },
      "execution_count": 3,
      "outputs": [
        {
          "execution_count": 3,
          "output_type": "execute_result",
          "data": {
            "text/html": [
              "<div>\n",
              "<style scoped>\n",
              "    .dataframe tbody tr th:only-of-type {\n",
              "        vertical-align: middle;\n",
              "    }\n",
              "\n",
              "    .dataframe tbody tr th {\n",
              "        vertical-align: top;\n",
              "    }\n",
              "\n",
              "    .dataframe thead th {\n",
              "        text-align: right;\n",
              "    }\n",
              "</style>\n",
              "<table border=\"1\" class=\"dataframe\">\n",
              "  <thead>\n",
              "    <tr style=\"text-align: right;\">\n",
              "      <th></th>\n",
              "      <th>Country name</th>\n",
              "      <th>year</th>\n",
              "      <th>Life Ladder</th>\n",
              "      <th>Log GDP per capita</th>\n",
              "      <th>Social support</th>\n",
              "      <th>Healthy life expectancy at birth</th>\n",
              "      <th>Freedom to make life choices</th>\n",
              "      <th>Generosity</th>\n",
              "      <th>Perceptions of corruption</th>\n",
              "      <th>Positive affect</th>\n",
              "      <th>Negative affect</th>\n",
              "    </tr>\n",
              "  </thead>\n",
              "  <tbody>\n",
              "    <tr>\n",
              "      <th>0</th>\n",
              "      <td>Afghanistan</td>\n",
              "      <td>2008</td>\n",
              "      <td>3.724</td>\n",
              "      <td>7.350</td>\n",
              "      <td>0.451</td>\n",
              "      <td>50.5</td>\n",
              "      <td>0.718</td>\n",
              "      <td>0.168</td>\n",
              "      <td>0.882</td>\n",
              "      <td>0.414</td>\n",
              "      <td>0.258</td>\n",
              "    </tr>\n",
              "    <tr>\n",
              "      <th>1</th>\n",
              "      <td>Afghanistan</td>\n",
              "      <td>2009</td>\n",
              "      <td>4.402</td>\n",
              "      <td>7.509</td>\n",
              "      <td>0.552</td>\n",
              "      <td>50.8</td>\n",
              "      <td>0.679</td>\n",
              "      <td>0.191</td>\n",
              "      <td>0.850</td>\n",
              "      <td>0.481</td>\n",
              "      <td>0.237</td>\n",
              "    </tr>\n",
              "    <tr>\n",
              "      <th>2</th>\n",
              "      <td>Afghanistan</td>\n",
              "      <td>2010</td>\n",
              "      <td>4.758</td>\n",
              "      <td>7.614</td>\n",
              "      <td>0.539</td>\n",
              "      <td>51.1</td>\n",
              "      <td>0.600</td>\n",
              "      <td>0.121</td>\n",
              "      <td>0.707</td>\n",
              "      <td>0.517</td>\n",
              "      <td>0.275</td>\n",
              "    </tr>\n",
              "    <tr>\n",
              "      <th>3</th>\n",
              "      <td>Afghanistan</td>\n",
              "      <td>2011</td>\n",
              "      <td>3.832</td>\n",
              "      <td>7.581</td>\n",
              "      <td>0.521</td>\n",
              "      <td>51.4</td>\n",
              "      <td>0.496</td>\n",
              "      <td>0.164</td>\n",
              "      <td>0.731</td>\n",
              "      <td>0.480</td>\n",
              "      <td>0.267</td>\n",
              "    </tr>\n",
              "    <tr>\n",
              "      <th>4</th>\n",
              "      <td>Afghanistan</td>\n",
              "      <td>2012</td>\n",
              "      <td>3.783</td>\n",
              "      <td>7.661</td>\n",
              "      <td>0.521</td>\n",
              "      <td>51.7</td>\n",
              "      <td>0.531</td>\n",
              "      <td>0.238</td>\n",
              "      <td>0.776</td>\n",
              "      <td>0.614</td>\n",
              "      <td>0.268</td>\n",
              "    </tr>\n",
              "  </tbody>\n",
              "</table>\n",
              "</div>"
            ],
            "text/plain": [
              "  Country name  year  Life Ladder  Log GDP per capita  Social support   \n",
              "0  Afghanistan  2008        3.724               7.350           0.451  \\\n",
              "1  Afghanistan  2009        4.402               7.509           0.552   \n",
              "2  Afghanistan  2010        4.758               7.614           0.539   \n",
              "3  Afghanistan  2011        3.832               7.581           0.521   \n",
              "4  Afghanistan  2012        3.783               7.661           0.521   \n",
              "\n",
              "   Healthy life expectancy at birth  Freedom to make life choices  Generosity   \n",
              "0                              50.5                         0.718       0.168  \\\n",
              "1                              50.8                         0.679       0.191   \n",
              "2                              51.1                         0.600       0.121   \n",
              "3                              51.4                         0.496       0.164   \n",
              "4                              51.7                         0.531       0.238   \n",
              "\n",
              "   Perceptions of corruption  Positive affect  Negative affect  \n",
              "0                      0.882            0.414            0.258  \n",
              "1                      0.850            0.481            0.237  \n",
              "2                      0.707            0.517            0.275  \n",
              "3                      0.731            0.480            0.267  \n",
              "4                      0.776            0.614            0.268  "
            ]
          },
          "metadata": {}
        }
      ]
    },
    {
      "cell_type": "markdown",
      "source": "# Data Preprocessing and Cleaning",
      "metadata": {
        "tags": []
      }
    },
    {
      "cell_type": "markdown",
      "source": "**In order to answer our Question of Interest, preprocessing data is needed for several reasons from our dataset:**\n\n* Taking out all NA values for regression and visualization to work.\n* Filtering out 2010 to 2020 to see a decade span.\n* Categorize each country as stable or not stable.",
      "metadata": {}
    },
    {
      "cell_type": "code",
      "source": "# Rename Columns\nnew_dict = {'Country name': 'Country', \n            'year': 'Year', \n            'Life Ladder' : 'Life Ladder',\n            'Log GDP per capita': 'Log GDP per Capita', \n            'Social support': 'Social Support',\n            'Healthy life expectancy at birth': 'Life Expectancy', \n            'Freedom to make life choices': 'Life Choice Freedom', \n            'Generosity': 'Generosity', \n            'Perceptions of corruption': 'Corruption',\n            'Positive affect': 'Positive Affect',\n            'Negative affect': 'Negative Affect'}\n\n# specify order of columns\nnew_order = ['Country', 'Year', 'Life Ladder', 'Log GDP per Capita', 'Social Support', 'Life Expectancy', 'Life Choice Freedom', 'Generosity', 'Corruption', 'Positive Affect', 'Negative Affect']\n\n# rename and reorder\nwhr = whr.rename(columns=new_dict)[new_order]\n\nwhr.head()",
      "metadata": {
        "tags": []
      },
      "execution_count": 4,
      "outputs": [
        {
          "execution_count": 4,
          "output_type": "execute_result",
          "data": {
            "text/html": [
              "<div>\n",
              "<style scoped>\n",
              "    .dataframe tbody tr th:only-of-type {\n",
              "        vertical-align: middle;\n",
              "    }\n",
              "\n",
              "    .dataframe tbody tr th {\n",
              "        vertical-align: top;\n",
              "    }\n",
              "\n",
              "    .dataframe thead th {\n",
              "        text-align: right;\n",
              "    }\n",
              "</style>\n",
              "<table border=\"1\" class=\"dataframe\">\n",
              "  <thead>\n",
              "    <tr style=\"text-align: right;\">\n",
              "      <th></th>\n",
              "      <th>Country</th>\n",
              "      <th>Year</th>\n",
              "      <th>Life Ladder</th>\n",
              "      <th>Log GDP per Capita</th>\n",
              "      <th>Social Support</th>\n",
              "      <th>Life Expectancy</th>\n",
              "      <th>Life Choice Freedom</th>\n",
              "      <th>Generosity</th>\n",
              "      <th>Corruption</th>\n",
              "      <th>Positive Affect</th>\n",
              "      <th>Negative Affect</th>\n",
              "    </tr>\n",
              "  </thead>\n",
              "  <tbody>\n",
              "    <tr>\n",
              "      <th>0</th>\n",
              "      <td>Afghanistan</td>\n",
              "      <td>2008</td>\n",
              "      <td>3.724</td>\n",
              "      <td>7.350</td>\n",
              "      <td>0.451</td>\n",
              "      <td>50.5</td>\n",
              "      <td>0.718</td>\n",
              "      <td>0.168</td>\n",
              "      <td>0.882</td>\n",
              "      <td>0.414</td>\n",
              "      <td>0.258</td>\n",
              "    </tr>\n",
              "    <tr>\n",
              "      <th>1</th>\n",
              "      <td>Afghanistan</td>\n",
              "      <td>2009</td>\n",
              "      <td>4.402</td>\n",
              "      <td>7.509</td>\n",
              "      <td>0.552</td>\n",
              "      <td>50.8</td>\n",
              "      <td>0.679</td>\n",
              "      <td>0.191</td>\n",
              "      <td>0.850</td>\n",
              "      <td>0.481</td>\n",
              "      <td>0.237</td>\n",
              "    </tr>\n",
              "    <tr>\n",
              "      <th>2</th>\n",
              "      <td>Afghanistan</td>\n",
              "      <td>2010</td>\n",
              "      <td>4.758</td>\n",
              "      <td>7.614</td>\n",
              "      <td>0.539</td>\n",
              "      <td>51.1</td>\n",
              "      <td>0.600</td>\n",
              "      <td>0.121</td>\n",
              "      <td>0.707</td>\n",
              "      <td>0.517</td>\n",
              "      <td>0.275</td>\n",
              "    </tr>\n",
              "    <tr>\n",
              "      <th>3</th>\n",
              "      <td>Afghanistan</td>\n",
              "      <td>2011</td>\n",
              "      <td>3.832</td>\n",
              "      <td>7.581</td>\n",
              "      <td>0.521</td>\n",
              "      <td>51.4</td>\n",
              "      <td>0.496</td>\n",
              "      <td>0.164</td>\n",
              "      <td>0.731</td>\n",
              "      <td>0.480</td>\n",
              "      <td>0.267</td>\n",
              "    </tr>\n",
              "    <tr>\n",
              "      <th>4</th>\n",
              "      <td>Afghanistan</td>\n",
              "      <td>2012</td>\n",
              "      <td>3.783</td>\n",
              "      <td>7.661</td>\n",
              "      <td>0.521</td>\n",
              "      <td>51.7</td>\n",
              "      <td>0.531</td>\n",
              "      <td>0.238</td>\n",
              "      <td>0.776</td>\n",
              "      <td>0.614</td>\n",
              "      <td>0.268</td>\n",
              "    </tr>\n",
              "  </tbody>\n",
              "</table>\n",
              "</div>"
            ],
            "text/plain": [
              "       Country  Year  Life Ladder  Log GDP per Capita  Social Support   \n",
              "0  Afghanistan  2008        3.724               7.350           0.451  \\\n",
              "1  Afghanistan  2009        4.402               7.509           0.552   \n",
              "2  Afghanistan  2010        4.758               7.614           0.539   \n",
              "3  Afghanistan  2011        3.832               7.581           0.521   \n",
              "4  Afghanistan  2012        3.783               7.661           0.521   \n",
              "\n",
              "   Life Expectancy  Life Choice Freedom  Generosity  Corruption   \n",
              "0             50.5                0.718       0.168       0.882  \\\n",
              "1             50.8                0.679       0.191       0.850   \n",
              "2             51.1                0.600       0.121       0.707   \n",
              "3             51.4                0.496       0.164       0.731   \n",
              "4             51.7                0.531       0.238       0.776   \n",
              "\n",
              "   Positive Affect  Negative Affect  \n",
              "0            0.414            0.258  \n",
              "1            0.481            0.237  \n",
              "2            0.517            0.275  \n",
              "3            0.480            0.267  \n",
              "4            0.614            0.268  "
            ]
          },
          "metadata": {}
        }
      ]
    },
    {
      "cell_type": "code",
      "source": "# Filter out only to 2010 to 2020 data\nwhr_new = whr[(whr['Year'] >= 2010) & (whr['Year'] <= 2020)]\nwhr_new.Year.unique()",
      "metadata": {
        "tags": []
      },
      "execution_count": 5,
      "outputs": [
        {
          "execution_count": 5,
          "output_type": "execute_result",
          "data": {
            "text/plain": [
              "array([2010, 2011, 2012, 2013, 2014, 2015, 2016, 2017, 2018, 2019, 2020])"
            ]
          },
          "metadata": {}
        }
      ]
    },
    {
      "cell_type": "code",
      "source": "# Check if any NA. Drop if there are\nwhr.isna().sum().sum()",
      "metadata": {
        "tags": []
      },
      "execution_count": 6,
      "outputs": [
        {
          "execution_count": 6,
          "output_type": "execute_result",
          "data": {
            "text/plain": [
              "349"
            ]
          },
          "metadata": {}
        }
      ]
    },
    {
      "cell_type": "code",
      "source": "# Drop NA Values\nwhr_new2 = whr_new.dropna()",
      "metadata": {
        "tags": []
      },
      "execution_count": 7,
      "outputs": []
    },
    {
      "cell_type": "code",
      "source": "# Check for any NA\nwhr_new2.isna().sum().sum()",
      "metadata": {
        "tags": []
      },
      "execution_count": 8,
      "outputs": [
        {
          "execution_count": 8,
          "output_type": "execute_result",
          "data": {
            "text/plain": [
              "0"
            ]
          },
          "metadata": {}
        }
      ]
    },
    {
      "cell_type": "code",
      "source": "# Group by each country's mean statistics\nwhr_final = whr_new2.groupby(['Country']).mean().reset_index().drop('Year', axis = 1)\nwhr_final.head()",
      "metadata": {
        "tags": []
      },
      "execution_count": 9,
      "outputs": [
        {
          "execution_count": 9,
          "output_type": "execute_result",
          "data": {
            "text/html": [
              "<div>\n",
              "<style scoped>\n",
              "    .dataframe tbody tr th:only-of-type {\n",
              "        vertical-align: middle;\n",
              "    }\n",
              "\n",
              "    .dataframe tbody tr th {\n",
              "        vertical-align: top;\n",
              "    }\n",
              "\n",
              "    .dataframe thead th {\n",
              "        text-align: right;\n",
              "    }\n",
              "</style>\n",
              "<table border=\"1\" class=\"dataframe\">\n",
              "  <thead>\n",
              "    <tr style=\"text-align: right;\">\n",
              "      <th></th>\n",
              "      <th>Country</th>\n",
              "      <th>Life Ladder</th>\n",
              "      <th>Log GDP per Capita</th>\n",
              "      <th>Social Support</th>\n",
              "      <th>Life Expectancy</th>\n",
              "      <th>Life Choice Freedom</th>\n",
              "      <th>Generosity</th>\n",
              "      <th>Corruption</th>\n",
              "      <th>Positive Affect</th>\n",
              "      <th>Negative Affect</th>\n",
              "    </tr>\n",
              "  </thead>\n",
              "  <tbody>\n",
              "    <tr>\n",
              "      <th>0</th>\n",
              "      <td>Afghanistan</td>\n",
              "      <td>3.501000</td>\n",
              "      <td>7.643000</td>\n",
              "      <td>0.509800</td>\n",
              "      <td>52.475000</td>\n",
              "      <td>0.482100</td>\n",
              "      <td>0.050200</td>\n",
              "      <td>0.838800</td>\n",
              "      <td>0.478600</td>\n",
              "      <td>0.342300</td>\n",
              "    </tr>\n",
              "    <tr>\n",
              "      <th>1</th>\n",
              "      <td>Albania</td>\n",
              "      <td>5.012091</td>\n",
              "      <td>9.398364</td>\n",
              "      <td>0.696091</td>\n",
              "      <td>68.652273</td>\n",
              "      <td>0.687636</td>\n",
              "      <td>-0.084273</td>\n",
              "      <td>0.869364</td>\n",
              "      <td>0.564091</td>\n",
              "      <td>0.305909</td>\n",
              "    </tr>\n",
              "    <tr>\n",
              "      <th>2</th>\n",
              "      <td>Algeria</td>\n",
              "      <td>5.232833</td>\n",
              "      <td>9.340833</td>\n",
              "      <td>0.821000</td>\n",
              "      <td>66.116667</td>\n",
              "      <td>0.516000</td>\n",
              "      <td>-0.134167</td>\n",
              "      <td>0.708667</td>\n",
              "      <td>0.533333</td>\n",
              "      <td>0.265500</td>\n",
              "    </tr>\n",
              "    <tr>\n",
              "      <th>3</th>\n",
              "      <td>Angola</td>\n",
              "      <td>4.420250</td>\n",
              "      <td>8.985750</td>\n",
              "      <td>0.738250</td>\n",
              "      <td>52.150000</td>\n",
              "      <td>0.456250</td>\n",
              "      <td>-0.090500</td>\n",
              "      <td>0.866750</td>\n",
              "      <td>0.625750</td>\n",
              "      <td>0.351250</td>\n",
              "    </tr>\n",
              "    <tr>\n",
              "      <th>4</th>\n",
              "      <td>Argentina</td>\n",
              "      <td>6.352818</td>\n",
              "      <td>10.051273</td>\n",
              "      <td>0.905000</td>\n",
              "      <td>66.804545</td>\n",
              "      <td>0.802000</td>\n",
              "      <td>-0.170909</td>\n",
              "      <td>0.831636</td>\n",
              "      <td>0.743091</td>\n",
              "      <td>0.281636</td>\n",
              "    </tr>\n",
              "  </tbody>\n",
              "</table>\n",
              "</div>"
            ],
            "text/plain": [
              "       Country  Life Ladder  Log GDP per Capita  Social Support   \n",
              "0  Afghanistan     3.501000            7.643000        0.509800  \\\n",
              "1      Albania     5.012091            9.398364        0.696091   \n",
              "2      Algeria     5.232833            9.340833        0.821000   \n",
              "3       Angola     4.420250            8.985750        0.738250   \n",
              "4    Argentina     6.352818           10.051273        0.905000   \n",
              "\n",
              "   Life Expectancy  Life Choice Freedom  Generosity  Corruption   \n",
              "0        52.475000             0.482100    0.050200    0.838800  \\\n",
              "1        68.652273             0.687636   -0.084273    0.869364   \n",
              "2        66.116667             0.516000   -0.134167    0.708667   \n",
              "3        52.150000             0.456250   -0.090500    0.866750   \n",
              "4        66.804545             0.802000   -0.170909    0.831636   \n",
              "\n",
              "   Positive Affect  Negative Affect  \n",
              "0         0.478600         0.342300  \n",
              "1         0.564091         0.305909  \n",
              "2         0.533333         0.265500  \n",
              "3         0.625750         0.351250  \n",
              "4         0.743091         0.281636  "
            ]
          },
          "metadata": {}
        }
      ]
    },
    {
      "cell_type": "code",
      "source": "# number of countries in our dataset\nprint(whr_new2['Country'].nunique())\n\n# names of countries in our dataset\nwhr_new2['Country'].unique()",
      "metadata": {
        "tags": []
      },
      "execution_count": 10,
      "outputs": [
        {
          "name": "stdout",
          "output_type": "stream",
          "text": "152\n"
        },
        {
          "execution_count": 10,
          "output_type": "execute_result",
          "data": {
            "text/plain": [
              "array(['Afghanistan', 'Albania', 'Algeria', 'Angola', 'Argentina',\n",
              "       'Armenia', 'Australia', 'Austria', 'Azerbaijan', 'Bahrain',\n",
              "       'Bangladesh', 'Belarus', 'Belgium', 'Belize', 'Benin', 'Bhutan',\n",
              "       'Bolivia', 'Bosnia and Herzegovina', 'Botswana', 'Brazil',\n",
              "       'Bulgaria', 'Burkina Faso', 'Burundi', 'Cambodia', 'Cameroon',\n",
              "       'Canada', 'Central African Republic', 'Chad', 'Chile', 'Colombia',\n",
              "       'Comoros', 'Congo (Brazzaville)', 'Congo (Kinshasa)', 'Costa Rica',\n",
              "       'Croatia', 'Cyprus', 'Czechia', 'Denmark', 'Djibouti',\n",
              "       'Dominican Republic', 'Ecuador', 'Egypt', 'El Salvador', 'Estonia',\n",
              "       'Eswatini', 'Ethiopia', 'Finland', 'France', 'Gabon', 'Gambia',\n",
              "       'Georgia', 'Germany', 'Ghana', 'Greece', 'Guatemala', 'Guinea',\n",
              "       'Haiti', 'Honduras', 'Hungary', 'Iceland', 'India', 'Indonesia',\n",
              "       'Iran', 'Iraq', 'Ireland', 'Israel', 'Italy', 'Ivory Coast',\n",
              "       'Jamaica', 'Japan', 'Kazakhstan', 'Kenya', 'Kuwait', 'Kyrgyzstan',\n",
              "       'Laos', 'Latvia', 'Lebanon', 'Lesotho', 'Liberia', 'Libya',\n",
              "       'Lithuania', 'Luxembourg', 'Madagascar', 'Malawi', 'Malaysia',\n",
              "       'Mali', 'Malta', 'Mauritania', 'Mauritius', 'Mexico', 'Moldova',\n",
              "       'Mongolia', 'Montenegro', 'Morocco', 'Mozambique', 'Myanmar',\n",
              "       'Namibia', 'Nepal', 'Netherlands', 'New Zealand', 'Nicaragua',\n",
              "       'Niger', 'Nigeria', 'North Macedonia', 'Norway', 'Pakistan',\n",
              "       'Panama', 'Paraguay', 'Peru', 'Philippines', 'Poland', 'Portugal',\n",
              "       'Romania', 'Russia', 'Rwanda', 'Senegal', 'Serbia', 'Sierra Leone',\n",
              "       'Singapore', 'Slovakia', 'Slovenia', 'Somalia', 'South Africa',\n",
              "       'South Korea', 'Spain', 'Sri Lanka', 'State of Palestine', 'Sudan',\n",
              "       'Suriname', 'Sweden', 'Switzerland', 'Syria',\n",
              "       'Taiwan Province of China', 'Tajikistan', 'Tanzania', 'Thailand',\n",
              "       'Togo', 'Trinidad and Tobago', 'Tunisia', 'Turkiye', 'Uganda',\n",
              "       'Ukraine', 'United Arab Emirates', 'United Kingdom',\n",
              "       'United States', 'Uruguay', 'Uzbekistan', 'Venezuela', 'Vietnam',\n",
              "       'Yemen', 'Zambia', 'Zimbabwe'], dtype=object)"
            ]
          },
          "metadata": {}
        }
      ]
    },
    {
      "cell_type": "code",
      "source": "# Categorize unstable countries in our dataset to this list\nunstable_countries = ['Albania', 'Algeria', 'Afghanistan', 'Angola', 'Armenia', 'Belarus', 'Belize', 'Bolivia', \n                       'Bosnia and Herzegovina', 'Burkina Faso', 'Burundi', 'Cambodia', 'Cameroon', 'Central African Republic',\n                       'Chad', 'Chile', 'Colombia', 'Comoros', 'Congo (Brazzaville)', 'Congo (Kinshasa)', 'Costa Rica', 'Cyprus', \n                       'Djibouti', 'Dominican Republic', 'Ecuador', 'Egypt', 'El Salvador', 'Ethiopia', 'Guinea', 'Haiti', \n                       'Honduras', 'Iran', 'Iraq', 'Israel', 'Lebanon','Libya', 'Madagascar', \n                       'Mali', 'Moldova', 'Montenegro', 'Mozambique', 'Myanmar', 'Niger', 'Nigeria', 'North Macedonia', 'Pakistan', \n                       'Philippines', 'Russia', 'Rwanda', 'Sierra Leone', 'Somalia', 'South Africa', 'State of Palestine',\n                       'Sudan', 'Syria', 'Tajikistan', 'Tunisia', 'Turkiye', 'Uganda', 'Ukraine', \n                       'Uzbekistan', 'Venezuela', 'Yemen', 'Zambia', 'Zimbabwe']\n\n# Categorize stable countries in our dataset to this list\nstable_countries = ['Argentina', 'Australia', 'Austria', 'Azerbaijan', 'Bahrain', 'Bangladesh', 'Belgium', 'Benin',\n                    'Bhutan', 'Botswana', 'Brazil', 'Bulgaria', 'Canada', 'Croatia', 'Czechia', 'Denmark', \n                    'Estonia', 'Eswatini', 'Finland', 'France', 'Gabon', 'Gambia', 'Georgia', 'Germany', 'Ghana', 'Greece',\n                    'Guatemala', 'Hungary', 'Iceland', 'India', 'Indonesia', 'Ireland', 'Italy', 'Ivory Coast',\n                    'Jamaica', 'Japan', 'Kazakhstan', 'Kenya', 'Kuwait', 'Kyrgyzstan', 'Laos', 'Latvia', 'Lesotho',\n                    'Liberia', 'Lithuania', 'Luxembourg', 'Malawi', 'Malaysia', 'Malta', 'Mauritania', 'Mauritius', 'Mexico',\n                    'Mongolia', 'Morocco', 'Namibia', 'Nepal', 'Netherlands', 'New Zealand', 'Nicaragua', 'Norway', 'Panama',\n                    'Paraguay', 'Peru', 'Poland', 'Portugal', 'Romania', 'Senegal', 'Serbia',\n                    'Singapore', 'Slovakia', 'Slovenia', 'South Korea', 'Spain', 'Sri Lanka',  \n                    'Suriname', 'Sweden', 'Switzerland', 'Taiwan Province of China', 'Tanzania', 'Thailand', 'Togo', 'Trinidad and Tobago',\n                    'United Arab Emirates', 'United Kingdom', 'United States', 'Uruguay', 'Vietnam']",
      "metadata": {},
      "execution_count": 11,
      "outputs": []
    },
    {
      "cell_type": "code",
      "source": "# number of unstable countries\nnum_entries = len(unstable_countries)\nprint(num_entries)",
      "metadata": {},
      "execution_count": 12,
      "outputs": [
        {
          "name": "stdout",
          "output_type": "stream",
          "text": "65\n"
        }
      ]
    },
    {
      "cell_type": "code",
      "source": "# Number of stable countries\nnum_entries2 = len(stable_countries)\nprint(num_entries2)",
      "metadata": {
        "tags": []
      },
      "execution_count": 13,
      "outputs": [
        {
          "name": "stdout",
          "output_type": "stream",
          "text": "87\n"
        }
      ]
    },
    {
      "cell_type": "code",
      "source": "# Add column classifying political stability of a country\ndef get_political_stability(country):\n    if country in unstable_countries:\n        return 'Unstable'\n    else:\n        return 'Stable'\n\n\nwhr_final.loc[:, 'Political Stability'] = whr_final['Country'].apply(get_political_stability)",
      "metadata": {},
      "execution_count": 14,
      "outputs": []
    },
    {
      "cell_type": "markdown",
      "source": "# Exploratory Data Analysis:",
      "metadata": {}
    },
    {
      "cell_type": "code",
      "source": "#Ignore deprecated warning:\nwarnings.filterwarnings(\"ignore\")\n\n# Merge a world's coordinate to visualize on a global map\nworld = gpd.read_file(gpd.datasets.get_path('naturalearth_lowres'))\nworld['name'] = world['name'].replace('United States of America', 'United States')\ndf = whr.groupby(['Country']).mean(numeric_only = True).reset_index()\ndf.loc[:, 'Internal Political Stability'] = df['Country'].apply(get_political_stability)\n\nmerged = world.merge(df, left_on='name', right_on='Country', how='left')",
      "metadata": {},
      "execution_count": 15,
      "outputs": []
    },
    {
      "cell_type": "code",
      "source": "# life ladder levels by country\nfig, ax = plt.subplots(figsize=(10, 6))\nmerged.plot(column='Life Ladder', cmap='Blues', linewidth=0.8, ax=ax, edgecolor='0.8', legend=True, legend_kwds={'label': 'Life Ladder Level'})\nax.set_title('Life Ladder by Country') # \nax.set_xlabel('Longitude')\nax.set_ylabel('Latitude')\nplt.show()",
      "metadata": {},
      "execution_count": 16,
      "outputs": [
        {
          "output_type": "display_data",
          "data": {
            "image/png": "[encoded data removed]",
            "text/plain": [
              "<Figure size 1000x600 with 2 Axes>"
            ]
          },
          "metadata": {}
        }
      ]
    },
    {
      "cell_type": "markdown",
      "source": "Our visualization shows the average life ladder levels for each country from 2010 to 2020 on the global map, where the darker the shade of blue, the higher the life ladder is for that country. \n\nWe can see that life ladder is unsurprisingly high for the North American, Western and North European countries, and Australia, since they are well-off countries with not much political or economic instabilities. Meanwhile, countries in Africa have very low levels of life ladders, which could have been through numerous factors but mainly in the economic and political aspect.\n\nSuprisingly, we see South America with a fairly high life ladder, but overall, our life ladder levels reflect our perception of the economic and political situations of certain continents on the map.",
      "metadata": {}
    },
    {
      "cell_type": "code",
      "source": "# political stability for each country\nfig, ax = plt.subplots(figsize=(10, 6))\nmerged.plot(column='Internal Political Stability', cmap='Reds', linewidth=0.8, ax=ax, edgecolor='0.8', legend=True)\nax.set_xlabel('Longitude')\nax.set_ylabel('Latitude')\nax.set_title('Political Stability By Country')\nplt.show()",
      "metadata": {},
      "execution_count": 17,
      "outputs": [
        {
          "output_type": "display_data",
          "data": {
            "image/png": "[encoded data removed]",
            "text/plain": [
              "<Figure size 1000x600 with 1 Axes>"
            ]
          },
          "metadata": {}
        }
      ]
    },
    {
      "cell_type": "markdown",
      "source": "Our visualization shows the political stability of the country from 2010 to 2020 on the global map. This is a binary classification with just two results: A lighter red represents the country is stable, while the Darker country represents the country is unstable politically.\n\nInterestingly enough, we see some South American countries under unstable political conditions, but these countries actually have relatively high life ladder levels as shown in our previous visualization. It does seem like \n\nNow, we will visualize using numerical rather than graphical analysis to delve deeper into whether political stability really affects life ladder levels.",
      "metadata": {}
    },
    {
      "cell_type": "code",
      "source": "# Average life ladder for stable and unstable countries\nstable_avg = whr_final[whr_final['Political Stability'] == 'Stable'] # setting data to stable\nprint('Average Life Ladder for Stable Countries is:', stable_avg['Life Ladder'].mean()) # average life ladder for stable countries\nunstable_avg = whr_final[whr_final['Political Stability'] == 'Unstable'] # setting data to unstable\nprint('Average Life Ladder for Unstable Countries is:', unstable_avg['Life Ladder'].mean()) # average life ladder for unstable countries",
      "metadata": {},
      "execution_count": 18,
      "outputs": [
        {
          "name": "stdout",
          "output_type": "stream",
          "text": "Average Life Ladder for Stable Countries is: 5.78752622903916\n\nAverage Life Ladder for Unstable Countries is: 4.869797393162393\n"
        }
      ]
    },
    {
      "cell_type": "code",
      "source": "# boxplot distribution of stable and unstable countries across life ladder\nboxplot = alt.Chart(whr_final).mark_boxplot(size=80).encode(\n    x='Political Stability',\n    y=alt.Y('Life Ladder', scale=alt.Scale(zero=False), title='Life Ladder'),\n).properties(\n    width=300,\n    height=300,\n    title='Life Ladder Levels (Stable vs Unstable)'\n)\n\nboxplot",
      "metadata": {
        "tags": []
      },
      "execution_count": 19,
      "outputs": [
        {
          "execution_count": 19,
          "output_type": "execute_result",
          "data": {
            "application/vnd.vegalite.v4+json": {
              "$schema": "https://vega.github.io/schema/vega-lite/v4.17.0.json",
              "config": {
                "view": {
                  "continuousHeight": 300,
                  "continuousWidth": 400
                }
              },
              "data": {
                "name": "data-7f1c5516e7f5d62847a1a9de95b45e50"
              },
              "datasets": {
                "data-7f1c5516e7f5d62847a1a9de95b45e50": [
                  {
                    "Corruption": 0.8388,
                    "Country": "Afghanistan",
                    "Generosity": 0.0502,
                    "Life Choice Freedom": 0.4821,
                    "Life Expectancy": 52.475,
                    "Life Ladder": 3.501,
                    "Log GDP per Capita": 7.643000000000001,
                    "Negative Affect": 0.3423,
                    "Political Stability": "Unstable",
                    "Positive Affect": 0.47859999999999997,
                    "Social Support": 0.5098
                  },
                  {
                    "Corruption": 0.8693636363636364,
                    "Country": "Albania",
                    "Generosity": -0.08427272727272728,
                    "Life Choice Freedom": 0.6876363636363636,
                    "Life Expectancy": 68.65227272727272,
                    "Life Ladder": 5.012090909090909,
                    "Log GDP per Capita": 9.398363636363637,
                    "Negative Affect": 0.3059090909090909,
                    "Political Stability": "Unstable",
                    "Positive Affect": 0.5640909090909091,
                    "Social Support": 0.6960909090909091
                  },
                  {
                    "Corruption": 0.7086666666666667,
                    "Country": "Algeria",
                    "Generosity": -0.13416666666666666,
                    "Life Choice Freedom": 0.516,
                    "Life Expectancy": 66.11666666666666,
                    "Life Ladder": 5.232833333333333,
                    "Log GDP per Capita": 9.340833333333334,
                    "Negative Affect": 0.2655,
                    "Political Stability": "Unstable",
                    "Positive Affect": 0.5333333333333333,
                    "Social Support": 0.8210000000000001
                  },
                  {
                    "Corruption": 0.86675,
                    "Country": "Angola",
                    "Generosity": -0.09050000000000001,
                    "Life Choice Freedom": 0.45625,
                    "Life Expectancy": 52.15,
                    "Life Ladder": 4.42025,
                    "Log GDP per Capita": 8.98575,
                    "Negative Affect": 0.35125,
                    "Political Stability": "Unstable",
                    "Positive Affect": 0.62575,
                    "Social Support": 0.73825
                  },
                  {
                    "Corruption": 0.8316363636363636,
                    "Country": "Argentina",
                    "Generosity": -0.1709090909090909,
                    "Life Choice Freedom": 0.8019999999999999,
                    "Life Expectancy": 66.80454545454546,
                    "Life Ladder": 6.352818181818182,
                    "Log GDP per Capita": 10.051272727272728,
                    "Negative Affect": 0.28163636363636363,
                    "Political Stability": "Stable",
                    "Positive Affect": 0.743090909090909,
                    "Social Support": 0.905
                  },
                  {
                    "Corruption": 0.8426,
                    "Country": "Armenia",
                    "Generosity": -0.1923,
                    "Life Choice Freedom": 0.5864,
                    "Life Expectancy": 65.91499999999999,
                    "Life Ladder": 4.5189,
                    "Log GDP per Capita": 9.3308,
                    "Negative Affect": 0.44000000000000006,
                    "Political Stability": "Unstable",
                    "Positive Affect": 0.4998,
                    "Social Support": 0.7229
                  },
                  {
                    "Corruption": 0.4075454545454545,
                    "Country": "Australia",
                    "Generosity": 0.26081818181818184,
                    "Life Choice Freedom": 0.9238181818181819,
                    "Life Expectancy": 70.59318181818182,
                    "Life Ladder": 7.279,
                    "Log GDP per Capita": 10.766909090909092,
                    "Negative Affect": 0.21054545454545454,
                    "Political Stability": "Stable",
                    "Positive Affect": 0.736090909090909,
                    "Social Support": 0.9439090909090908
                  },
                  {
                    "Corruption": 0.5735454545454546,
                    "Country": "Austria",
                    "Generosity": 0.09627272727272727,
                    "Life Choice Freedom": 0.9054545454545455,
                    "Life Expectancy": 70.43409090909091,
                    "Life Ladder": 7.258727272727273,
                    "Log GDP per Capita": 10.885909090909092,
                    "Negative Affect": 0.17900000000000002,
                    "Political Stability": "Stable",
                    "Positive Affect": 0.7125454545454546,
                    "Social Support": 0.9284545454545455
                  },
                  {
                    "Corruption": 0.6663,
                    "Country": "Azerbaijan",
                    "Generosity": -0.1847,
                    "Life Choice Freedom": 0.6876,
                    "Life Expectancy": 62.80499999999999,
                    "Life Ladder": 5.0487,
                    "Log GDP per Capita": 9.5706,
                    "Negative Affect": 0.22080000000000002,
                    "Political Stability": "Stable",
                    "Positive Affect": 0.5224,
                    "Social Support": 0.7761
                  },
                  {
                    "Corruption": 0.649,
                    "Country": "Bahrain",
                    "Generosity": -0.0325,
                    "Life Choice Freedom": 0.866,
                    "Life Expectancy": 65.12,
                    "Life Ladder": 5.3805,
                    "Log GDP per Capita": 10.7385,
                    "Negative Affect": 0.4685,
                    "Political Stability": "Stable",
                    "Positive Affect": 0.5735,
                    "Social Support": 0.8925000000000001
                  },
                  {
                    "Corruption": 0.7182000000000001,
                    "Country": "Bangladesh",
                    "Generosity": -0.0518,
                    "Life Choice Freedom": 0.8073,
                    "Life Expectancy": 63.2595,
                    "Life Ladder": 4.762,
                    "Log GDP per Capita": 8.3886,
                    "Negative Affect": 0.2693,
                    "Political Stability": "Stable",
                    "Positive Affect": 0.4793,
                    "Social Support": 0.6348
                  },
                  {
                    "Corruption": 0.6621,
                    "Country": "Belarus",
                    "Generosity": -0.1508,
                    "Life Choice Freedom": 0.6574,
                    "Life Expectancy": 64.485,
                    "Life Ladder": 5.5693,
                    "Log GDP per Capita": 9.825,
                    "Negative Affect": 0.20779999999999998,
                    "Political Stability": "Unstable",
                    "Positive Affect": 0.5179,
                    "Social Support": 0.9106
                  },
                  {
                    "Corruption": 0.6088181818181818,
                    "Country": "Belgium",
                    "Generosity": -0.042909090909090904,
                    "Life Choice Freedom": 0.8397272727272728,
                    "Life Expectancy": 69.98636363636363,
                    "Life Ladder": 6.922090909090909,
                    "Log GDP per Capita": 10.806727272727272,
                    "Negative Affect": 0.24181818181818182,
                    "Political Stability": "Stable",
                    "Positive Affect": 0.7187272727272727,
                    "Social Support": 0.9183636363636364
                  },
                  {
                    "Corruption": 0.782,
                    "Country": "Belize",
                    "Generosity": 0.001,
                    "Life Choice Freedom": 0.874,
                    "Life Expectancy": 65,
                    "Life Ladder": 5.956,
                    "Log GDP per Capita": 9.135,
                    "Negative Affect": 0.282,
                    "Political Stability": "Unstable",
                    "Positive Affect": 0.735,
                    "Social Support": 0.757
                  },
                  {
                    "Corruption": 0.7798,
                    "Country": "Benin",
                    "Generosity": -0.0682,
                    "Life Choice Freedom": 0.7607,
                    "Life Expectancy": 54.489999999999995,
                    "Life Ladder": 4.1578,
                    "Log GDP per Capita": 7.971299999999999,
                    "Negative Affect": 0.344,
                    "Political Stability": "Stable",
                    "Positive Affect": 0.5892000000000001,
                    "Social Support": 0.4899
                  },
                  {
                    "Corruption": 0.6953333333333335,
                    "Country": "Bhutan",
                    "Generosity": 0.29833333333333334,
                    "Life Choice Freedom": 0.8246666666666668,
                    "Life Expectancy": 62.419999999999995,
                    "Life Ladder": 5.196666666666666,
                    "Log GDP per Capita": 9.146,
                    "Negative Affect": 0.2843333333333333,
                    "Political Stability": "Stable",
                    "Positive Affect": 0.7206666666666667,
                    "Social Support": 0.8489999999999999
                  },
                  {
                    "Corruption": 0.8304545454545454,
                    "Country": "Bolivia",
                    "Generosity": -0.05572727272727273,
                    "Life Choice Freedom": 0.8495454545454546,
                    "Life Expectancy": 62.63181818181818,
                    "Life Ladder": 5.783181818181818,
                    "Log GDP per Capita": 8.934818181818182,
                    "Negative Affect": 0.3926363636363636,
                    "Political Stability": "Unstable",
                    "Positive Affect": 0.7157272727272727,
                    "Social Support": 0.8044545454545454
                  },
                  {
                    "Corruption": 0.9444545454545454,
                    "Country": "Bosnia and Herzegovina",
                    "Generosity": 0.05454545454545456,
                    "Life Choice Freedom": 0.5335454545454545,
                    "Life Expectancy": 67.06818181818181,
                    "Life Ladder": 5.237909090909091,
                    "Log GDP per Capita": 9.427181818181818,
                    "Negative Affect": 0.30463636363636365,
                    "Political Stability": "Unstable",
                    "Positive Affect": 0.5235454545454545,
                    "Social Support": 0.789
                  },
                  {
                    "Corruption": 0.7855,
                    "Country": "Botswana",
                    "Generosity": -0.1886,
                    "Life Choice Freedom": 0.8173,
                    "Life Expectancy": 52.415,
                    "Life Ladder": 3.7765999999999997,
                    "Log GDP per Capita": 9.5486,
                    "Negative Affect": 0.23210000000000003,
                    "Political Stability": "Stable",
                    "Positive Affect": 0.6554,
                    "Social Support": 0.8199
                  },
                  {
                    "Corruption": 0.7335,
                    "Country": "Brazil",
                    "Generosity": -0.0891,
                    "Life Choice Freedom": 0.7877,
                    "Life Expectancy": 64.7705,
                    "Life Ladder": 6.6003,
                    "Log GDP per Capita": 9.6069,
                    "Negative Affect": 0.3079,
                    "Political Stability": "Stable",
                    "Positive Affect": 0.6965,
                    "Social Support": 0.8966000000000001
                  },
                  {
                    "Corruption": 0.9389090909090908,
                    "Country": "Bulgaria",
                    "Generosity": -0.15109090909090908,
                    "Life Choice Freedom": 0.6744545454545454,
                    "Life Expectancy": 65.84545454545456,
                    "Life Ladder": 4.640454545454546,
                    "Log GDP per Capita": 9.918363636363637,
                    "Negative Affect": 0.22227272727272726,
                    "Political Stability": "Stable",
                    "Positive Affect": 0.5461818181818182,
                    "Social Support": 0.8927272727272727
                  },
                  {
                    "Corruption": 0.7456363636363637,
                    "Country": "Burkina Faso",
                    "Generosity": -0.015636363636363636,
                    "Life Choice Freedom": 0.6774545454545454,
                    "Life Expectancy": 53.31136363636363,
                    "Life Ladder": 4.287545454545454,
                    "Log GDP per Capita": 7.543909090909091,
                    "Negative Affect": 0.3100909090909091,
                    "Political Stability": "Unstable",
                    "Positive Affect": 0.588,
                    "Social Support": 0.7258181818181818
                  },
                  {
                    "Corruption": 0.6946666666666667,
                    "Country": "Burundi",
                    "Generosity": -0.04566666666666667,
                    "Life Choice Freedom": 0.5223333333333333,
                    "Life Expectancy": 53.366666666666674,
                    "Life Ladder": 3.4619999999999997,
                    "Log GDP per Capita": 6.674666666666667,
                    "Negative Affect": 0.268,
                    "Political Stability": "Unstable",
                    "Positive Affect": 0.61,
                    "Social Support": 0.49066666666666664
                  },
                  {
                    "Corruption": 0.8393,
                    "Country": "Cambodia",
                    "Generosity": 0.1835,
                    "Life Choice Freedom": 0.95,
                    "Life Expectancy": 60.42999999999999,
                    "Life Ladder": 4.2341999999999995,
                    "Log GDP per Capita": 8.1533,
                    "Negative Affect": 0.3989,
                    "Political Stability": "Unstable",
                    "Positive Affect": 0.6952,
                    "Social Support": 0.7086
                  },
                  {
                    "Corruption": 0.8631818181818182,
                    "Country": "Cameroon",
                    "Generosity": -0.011181818181818183,
                    "Life Choice Freedom": 0.7670909090909092,
                    "Life Expectancy": 52.12045454545455,
                    "Life Ladder": 4.736454545454546,
                    "Log GDP per Capita": 8.174545454545454,
                    "Negative Affect": 0.31563636363636366,
                    "Political Stability": "Unstable",
                    "Positive Affect": 0.6196363636363637,
                    "Social Support": 0.7169090909090909
                  },
                  {
                    "Corruption": 0.416,
                    "Country": "Canada",
                    "Generosity": 0.2008181818181818,
                    "Life Choice Freedom": 0.9264545454545455,
                    "Life Expectancy": 71.08636363636364,
                    "Life Ladder": 7.342818181818182,
                    "Log GDP per Capita": 10.760727272727273,
                    "Negative Affect": 0.2567272727272727,
                    "Political Stability": "Stable",
                    "Positive Affect": 0.7829999999999999,
                    "Social Support": 0.9321818181818181
                  },
                  {
                    "Corruption": 0.857,
                    "Country": "Central African Republic",
                    "Generosity": 0.017499999999999998,
                    "Life Choice Freedom": 0.68475,
                    "Life Expectancy": 43.8475,
                    "Life Ladder": 3.35375,
                    "Log GDP per Capita": 6.882,
                    "Negative Affect": 0.40675,
                    "Political Stability": "Unstable",
                    "Positive Affect": 0.53325,
                    "Social Support": 0.37
                  },
                  {
                    "Corruption": 0.8477,
                    "Country": "Chad",
                    "Generosity": 0.00030000000000000024,
                    "Life Choice Freedom": 0.5464,
                    "Life Expectancy": 50.305,
                    "Life Ladder": 4.0785,
                    "Log GDP per Capita": 7.4423,
                    "Negative Affect": 0.3903,
                    "Political Stability": "Unstable",
                    "Positive Affect": 0.5427,
                    "Social Support": 0.6918
                  },
                  {
                    "Corruption": 0.7936363636363637,
                    "Country": "Chile",
                    "Generosity": 0.05863636363636364,
                    "Life Choice Freedom": 0.7391818181818182,
                    "Life Expectancy": 69.35909090909091,
                    "Life Ladder": 6.482363636363636,
                    "Log GDP per Capita": 10.075909090909091,
                    "Negative Affect": 0.302,
                    "Political Stability": "Unstable",
                    "Positive Affect": 0.763909090909091,
                    "Social Support": 0.859090909090909
                  },
                  {
                    "Corruption": 0.858909090909091,
                    "Country": "Colombia",
                    "Generosity": -0.09909090909090908,
                    "Life Choice Freedom": 0.8249090909090909,
                    "Life Expectancy": 68.23863636363636,
                    "Life Ladder": 6.284090909090909,
                    "Log GDP per Capita": 9.519454545454545,
                    "Negative Affect": 0.2953636363636364,
                    "Political Stability": "Unstable",
                    "Positive Affect": 0.794,
                    "Social Support": 0.8855454545454545
                  },
                  {
                    "Corruption": 0.736,
                    "Country": "Comoros",
                    "Generosity": -0.011600000000000004,
                    "Life Choice Freedom": 0.5322,
                    "Life Expectancy": 57.86900000000001,
                    "Life Ladder": 4.037599999999999,
                    "Log GDP per Capita": 8.0584,
                    "Negative Affect": 0.2472,
                    "Political Stability": "Unstable",
                    "Positive Affect": 0.651,
                    "Social Support": 0.683
                  },
                  {
                    "Corruption": 0.7794000000000001,
                    "Country": "Congo (Brazzaville)",
                    "Generosity": -0.10540000000000001,
                    "Life Choice Freedom": 0.7466,
                    "Life Expectancy": 55.00750000000001,
                    "Life Ladder": 4.5916,
                    "Log GDP per Capita": 8.398100000000001,
                    "Negative Affect": 0.3537,
                    "Political Stability": "Unstable",
                    "Positive Affect": 0.5757,
                    "Social Support": 0.638
                  },
                  {
                    "Corruption": 0.8485714285714286,
                    "Country": "Congo (Kinshasa)",
                    "Generosity": -0.004714285714285714,
                    "Life Choice Freedom": 0.5912857142857143,
                    "Life Expectancy": 51.86785714285714,
                    "Life Ladder": 4.400428571428572,
                    "Log GDP per Capita": 6.875714285714286,
                    "Negative Affect": 0.2652857142857143,
                    "Political Stability": "Unstable",
                    "Positive Affect": 0.5650000000000001,
                    "Social Support": 0.7809999999999999
                  },
                  {
                    "Corruption": 0.7879999999999999,
                    "Country": "Costa Rica",
                    "Generosity": -0.049090909090909095,
                    "Life Choice Freedom": 0.9122727272727272,
                    "Life Expectancy": 69.78181818181818,
                    "Life Ladder": 7.079,
                    "Log GDP per Capita": 9.84509090909091,
                    "Negative Affect": 0.28563636363636363,
                    "Political Stability": "Unstable",
                    "Positive Affect": 0.8043636363636364,
                    "Social Support": 0.8947272727272728
                  },
                  {
                    "Corruption": 0.9246363636363636,
                    "Country": "Croatia",
                    "Generosity": -0.12945454545454546,
                    "Life Choice Freedom": 0.6470909090909092,
                    "Life Expectancy": 67.97500000000001,
                    "Life Ladder": 5.628181818181818,
                    "Log GDP per Capita": 10.157727272727273,
                    "Negative Affect": 0.2878181818181818,
                    "Political Stability": "Stable",
                    "Positive Affect": 0.5664545454545454,
                    "Social Support": 0.8058181818181819
                  },
                  {
                    "Corruption": 0.8591818181818183,
                    "Country": "Cyprus",
                    "Generosity": 0.043,
                    "Life Choice Freedom": 0.7353636363636364,
                    "Life Expectancy": 71.65454545454546,
                    "Life Ladder": 6.0266363636363645,
                    "Log GDP per Capita": 10.522090909090908,
                    "Negative Affect": 0.33145454545454545,
                    "Political Stability": "Unstable",
                    "Positive Affect": 0.6676363636363637,
                    "Social Support": 0.7936363636363637
                  },
                  {
                    "Corruption": 0.9034000000000001,
                    "Country": "Czechia",
                    "Generosity": -0.1609,
                    "Life Choice Freedom": 0.8018000000000001,
                    "Life Expectancy": 68.25750000000001,
                    "Life Ladder": 6.616200000000001,
                    "Log GDP per Capita": 10.4886,
                    "Negative Affect": 0.2344,
                    "Political Stability": "Stable",
                    "Positive Affect": 0.6693,
                    "Social Support": 0.9162000000000001
                  },
                  {
                    "Corruption": 0.1918181818181818,
                    "Country": "Denmark",
                    "Generosity": 0.14272727272727273,
                    "Life Choice Freedom": 0.9412727272727271,
                    "Life Expectancy": 70.37045454545455,
                    "Life Ladder": 7.609,
                    "Log GDP per Capita": 10.885454545454545,
                    "Negative Affect": 0.20118181818181818,
                    "Political Stability": "Stable",
                    "Positive Affect": 0.7865454545454547,
                    "Social Support": 0.9580000000000001
                  },
                  {
                    "Corruption": 0.519,
                    "Country": "Djibouti",
                    "Generosity": -0.079,
                    "Life Choice Freedom": 0.746,
                    "Life Expectancy": 55.08,
                    "Life Ladder": 4.369,
                    "Log GDP per Capita": 8.15,
                    "Negative Affect": 0.181,
                    "Political Stability": "Unstable",
                    "Positive Affect": 0.543,
                    "Social Support": 0.633
                  },
                  {
                    "Corruption": 0.7457272727272727,
                    "Country": "Dominican Republic",
                    "Generosity": -0.07400000000000001,
                    "Life Choice Freedom": 0.8608181818181818,
                    "Life Expectancy": 63.8,
                    "Life Ladder": 5.2544545454545455,
                    "Log GDP per Capita": 9.617909090909091,
                    "Negative Affect": 0.29009090909090907,
                    "Political Stability": "Unstable",
                    "Positive Affect": 0.7298181818181818,
                    "Social Support": 0.8740000000000001
                  },
                  {
                    "Corruption": 0.7494545454545455,
                    "Country": "Ecuador",
                    "Generosity": -0.12390909090909091,
                    "Life Choice Freedom": 0.8087272727272729,
                    "Life Expectancy": 67.37727272727273,
                    "Life Ladder": 5.888090909090909,
                    "Log GDP per Capita": 9.338363636363637,
                    "Negative Affect": 0.3197272727272727,
                    "Political Stability": "Unstable",
                    "Positive Affect": 0.7951818181818182,
                    "Social Support": 0.8258181818181818
                  },
                  {
                    "Corruption": 0.8184285714285714,
                    "Country": "Egypt",
                    "Generosity": -0.12242857142857143,
                    "Life Choice Freedom": 0.5564285714285714,
                    "Life Expectancy": 61.90714285714286,
                    "Life Ladder": 4.401571428571429,
                    "Log GDP per Capita": 9.197000000000001,
                    "Negative Affect": 0.36442857142857144,
                    "Political Stability": "Unstable",
                    "Positive Affect": 0.4944285714285715,
                    "Social Support": 0.7274285714285715
                  },
                  {
                    "Corruption": 0.7441818181818182,
                    "Country": "El Salvador",
                    "Generosity": -0.1430909090909091,
                    "Life Choice Freedom": 0.777090909090909,
                    "Life Expectancy": 64.22272727272728,
                    "Life Ladder": 6.02290909090909,
                    "Log GDP per Capita": 9.013272727272728,
                    "Negative Affect": 0.3151818181818182,
                    "Political Stability": "Unstable",
                    "Positive Affect": 0.8046363636363636,
                    "Social Support": 0.7829999999999999
                  },
                  {
                    "Corruption": 0.6329,
                    "Country": "Estonia",
                    "Generosity": -0.14830000000000002,
                    "Life Choice Freedom": 0.8206,
                    "Life Expectancy": 68.3575,
                    "Life Ladder": 5.757,
                    "Log GDP per Capita": 10.3726,
                    "Negative Affect": 0.1833,
                    "Political Stability": "Stable",
                    "Positive Affect": 0.6815,
                    "Social Support": 0.9233
                  },
                  {
                    "Corruption": 0.7776666666666667,
                    "Country": "Eswatini",
                    "Generosity": -0.146,
                    "Life Choice Freedom": 0.638,
                    "Life Expectancy": 47.300000000000004,
                    "Life Ladder": 4.491666666666666,
                    "Log GDP per Capita": 8.993,
                    "Negative Affect": 0.261,
                    "Political Stability": "Stable",
                    "Positive Affect": 0.7403333333333334,
                    "Social Support": 0.7916666666666666
                  },
                  {
                    "Corruption": 0.72425,
                    "Country": "Ethiopia",
                    "Generosity": 0.0625,
                    "Life Choice Freedom": 0.741,
                    "Life Expectancy": 58.8025,
                    "Life Ladder": 4.378875,
                    "Log GDP per Capita": 7.544625,
                    "Negative Affect": 0.26475,
                    "Political Stability": "Unstable",
                    "Positive Affect": 0.58425,
                    "Social Support": 0.704
                  },
                  {
                    "Corruption": 0.2625454545454545,
                    "Country": "Finland",
                    "Generosity": -0.002727272727272727,
                    "Life Choice Freedom": 0.9375454545454546,
                    "Life Expectancy": 70.50227272727273,
                    "Life Ladder": 7.583636363636364,
                    "Log GDP per Capita": 10.747636363636362,
                    "Negative Affect": 0.19163636363636363,
                    "Political Stability": "Stable",
                    "Positive Affect": 0.747,
                    "Social Support": 0.9473636363636363
                  },
                  {
                    "Corruption": 0.6175454545454545,
                    "Country": "France",
                    "Generosity": -0.13036363636363635,
                    "Life Choice Freedom": 0.8344545454545454,
                    "Life Expectancy": 71.7,
                    "Life Ladder": 6.643454545454546,
                    "Log GDP per Capita": 10.680545454545454,
                    "Negative Affect": 0.246,
                    "Political Stability": "Stable",
                    "Positive Affect": 0.7191818181818181,
                    "Social Support": 0.9204545454545454
                  },
                  {
                    "Corruption": 0.8233,
                    "Country": "Gabon",
                    "Generosity": -0.1972,
                    "Life Choice Freedom": 0.6632,
                    "Life Expectancy": 56.3275,
                    "Life Ladder": 4.4804,
                    "Log GDP per Capita": 9.5799,
                    "Negative Affect": 0.36069999999999997,
                    "Political Stability": "Stable",
                    "Positive Affect": 0.5803,
                    "Social Support": 0.7543
                  },
                  {
                    "Corruption": 0.6869999999999999,
                    "Country": "Gambia",
                    "Generosity": 0.32366666666666666,
                    "Life Choice Freedom": 0.7360000000000001,
                    "Life Expectancy": 56.699999999999996,
                    "Life Ladder": 4.734666666666667,
                    "Log GDP per Capita": 7.604333333333334,
                    "Negative Affect": 0.35233333333333333,
                    "Political Stability": "Stable",
                    "Positive Affect": 0.749,
                    "Social Support": 0.6920000000000001
                  },
                  {
                    "Corruption": 0.5033636363636363,
                    "Country": "Georgia",
                    "Generosity": -0.2457272727272727,
                    "Life Choice Freedom": 0.7007272727272728,
                    "Life Expectancy": 64.23409090909091,
                    "Life Ladder": 4.444636363636364,
                    "Log GDP per Capita": 9.428818181818182,
                    "Negative Affect": 0.23572727272727273,
                    "Political Stability": "Stable",
                    "Positive Affect": 0.46954545454545454,
                    "Social Support": 0.5766363636363636
                  },
                  {
                    "Corruption": 0.5216363636363636,
                    "Country": "Germany",
                    "Generosity": 0.06954545454545454,
                    "Life Choice Freedom": 0.8793636363636363,
                    "Life Expectancy": 70.34545454545454,
                    "Life Ladder": 6.949727272727273,
                    "Log GDP per Capita": 10.841909090909091,
                    "Negative Affect": 0.19736363636363635,
                    "Political Stability": "Stable",
                    "Positive Affect": 0.7093636363636363,
                    "Social Support": 0.9196363636363636
                  },
                  {
                    "Corruption": 0.8712727272727272,
                    "Country": "Ghana",
                    "Generosity": 0.05,
                    "Life Choice Freedom": 0.7915454545454547,
                    "Life Expectancy": 56.41136363636363,
                    "Life Ladder": 4.851545454545454,
                    "Log GDP per Capita": 8.444818181818182,
                    "Negative Affect": 0.23881818181818185,
                    "Political Stability": "Stable",
                    "Positive Affect": 0.6806363636363636,
                    "Social Support": 0.6934545454545454
                  },
                  {
                    "Corruption": 0.8900909090909092,
                    "Country": "Greece",
                    "Generosity": -0.29118181818181815,
                    "Life Choice Freedom": 0.48863636363636365,
                    "Life Expectancy": 70.46136363636364,
                    "Life Ladder": 5.364272727272727,
                    "Log GDP per Capita": 10.274454545454546,
                    "Negative Affect": 0.3266363636363636,
                    "Political Stability": "Stable",
                    "Positive Affect": 0.5768181818181818,
                    "Social Support": 0.8096363636363637
                  },
                  {
                    "Corruption": 0.8071999999999999,
                    "Country": "Guatemala",
                    "Generosity": 0.0254,
                    "Life Choice Freedom": 0.8509,
                    "Life Expectancy": 61.279999999999994,
                    "Life Ladder": 6.2448,
                    "Log GDP per Capita": 8.9847,
                    "Negative Affect": 0.3025,
                    "Political Stability": "Stable",
                    "Positive Affect": 0.8150000000000001,
                    "Social Support": 0.8168
                  },
                  {
                    "Corruption": 0.7696,
                    "Country": "Guinea",
                    "Generosity": 0.0387,
                    "Life Choice Freedom": 0.697,
                    "Life Expectancy": 52.05499999999999,
                    "Life Ladder": 4.1985,
                    "Log GDP per Capita": 7.6991,
                    "Negative Affect": 0.35669999999999996,
                    "Political Stability": "Unstable",
                    "Positive Affect": 0.6715,
                    "Social Support": 0.625
                  },
                  {
                    "Corruption": 0.7341111111111112,
                    "Country": "Haiti",
                    "Generosity": 0.2587777777777778,
                    "Life Choice Freedom": 0.4626666666666666,
                    "Life Expectancy": 45.93333333333333,
                    "Life Ladder": 3.9884444444444447,
                    "Log GDP per Capita": 8.038111111111112,
                    "Negative Affect": 0.3174444444444445,
                    "Political Stability": "Unstable",
                    "Positive Affect": 0.5537777777777778,
                    "Social Support": 0.6005555555555556
                  },
                  {
                    "Corruption": 0.8320000000000001,
                    "Country": "Honduras",
                    "Generosity": 0.0392,
                    "Life Choice Freedom": 0.7523,
                    "Life Expectancy": 62.025,
                    "Life Ladder": 5.3549,
                    "Log GDP per Capita": 8.5519,
                    "Negative Affect": 0.2865,
                    "Political Stability": "Unstable",
                    "Positive Affect": 0.7913,
                    "Social Support": 0.7943
                  },
                  {
                    "Corruption": 0.9062727272727272,
                    "Country": "Hungary",
                    "Generosity": -0.16,
                    "Life Choice Freedom": 0.6288181818181818,
                    "Life Expectancy": 66.58636363636364,
                    "Life Ladder": 5.386636363636364,
                    "Log GDP per Capita": 10.229818181818182,
                    "Negative Affect": 0.24454545454545454,
                    "Political Stability": "Stable",
                    "Positive Affect": 0.6146363636363636,
                    "Social Support": 0.8986363636363636
                  },
                  {
                    "Corruption": 0.7001666666666666,
                    "Country": "Iceland",
                    "Generosity": 0.2505,
                    "Life Choice Freedom": 0.9346666666666666,
                    "Life Expectancy": 71.85000000000001,
                    "Life Ladder": 7.525166666666667,
                    "Log GDP per Capita": 10.861833333333335,
                    "Negative Affect": 0.16183333333333333,
                    "Political Stability": "Stable",
                    "Positive Affect": 0.8086666666666668,
                    "Social Support": 0.9768333333333333
                  },
                  {
                    "Corruption": 0.8112727272727273,
                    "Country": "India",
                    "Generosity": 0.035727272727272726,
                    "Life Choice Freedom": 0.8121818181818181,
                    "Life Expectancy": 59.01818181818182,
                    "Life Ladder": 4.277636363636364,
                    "Log GDP per Capita": 8.583363636363636,
                    "Negative Affect": 0.32736363636363636,
                    "Political Stability": "Stable",
                    "Positive Affect": 0.5982727272727273,
                    "Social Support": 0.5899090909090909
                  },
                  {
                    "Corruption": 0.9272727272727272,
                    "Country": "Indonesia",
                    "Generosity": 0.4596363636363636,
                    "Life Choice Freedom": 0.8109090909090909,
                    "Life Expectancy": 62.17045454545455,
                    "Life Ladder": 5.243545454545455,
                    "Log GDP per Capita": 9.215636363636364,
                    "Negative Affect": 0.2813636363636363,
                    "Political Stability": "Stable",
                    "Positive Affect": 0.766,
                    "Social Support": 0.8120909090909091
                  },
                  {
                    "Corruption": 0.6953333333333334,
                    "Country": "Iran",
                    "Generosity": 0.16899999999999998,
                    "Life Choice Freedom": 0.7116666666666667,
                    "Life Expectancy": 65.84111111111112,
                    "Life Ladder": 4.762111111111111,
                    "Log GDP per Capita": 9.587333333333333,
                    "Negative Affect": 0.48000000000000004,
                    "Political Stability": "Unstable",
                    "Positive Affect": 0.5422222222222222,
                    "Social Support": 0.6523333333333333
                  },
                  {
                    "Corruption": 0.8008888888888889,
                    "Country": "Iraq",
                    "Generosity": -0.033666666666666664,
                    "Life Choice Freedom": 0.5464444444444445,
                    "Life Expectancy": 61.40944444444444,
                    "Life Ladder": 4.670111111111111,
                    "Log GDP per Capita": 9.136000000000001,
                    "Negative Affect": 0.5285555555555556,
                    "Political Stability": "Unstable",
                    "Positive Affect": 0.4991111111111111,
                    "Social Support": 0.7366666666666667
                  },
                  {
                    "Corruption": 0.4528181818181818,
                    "Country": "Ireland",
                    "Generosity": 0.22036363636363634,
                    "Life Choice Freedom": 0.893,
                    "Life Expectancy": 70.67272727272727,
                    "Life Ladder": 7.017272727272727,
                    "Log GDP per Capita": 11.115636363636362,
                    "Negative Affect": 0.22118181818181817,
                    "Political Stability": "Stable",
                    "Positive Affect": 0.7525454545454546,
                    "Social Support": 0.9573636363636363
                  },
                  {
                    "Corruption": 0.8153636363636363,
                    "Country": "Israel",
                    "Generosity": 0.10372727272727272,
                    "Life Choice Freedom": 0.7357272727272727,
                    "Life Expectancy": 71.89545454545454,
                    "Life Ladder": 7.2407272727272725,
                    "Log GDP per Capita": 10.532545454545454,
                    "Negative Affect": 0.3028181818181818,
                    "Political Stability": "Unstable",
                    "Positive Affect": 0.6143636363636363,
                    "Social Support": 0.9055454545454545
                  },
                  {
                    "Corruption": 0.9005454545454546,
                    "Country": "Italy",
                    "Generosity": -0.05527272727272727,
                    "Life Choice Freedom": 0.628,
                    "Life Expectancy": 71.56590909090909,
                    "Life Ladder": 6.158,
                    "Log GDP per Capita": 10.626818181818182,
                    "Negative Affect": 0.33054545454545453,
                    "Political Stability": "Stable",
                    "Positive Affect": 0.6208181818181818,
                    "Social Support": 0.8968181818181818
                  },
                  {
                    "Corruption": 0.750125,
                    "Country": "Ivory Coast",
                    "Generosity": -0.047375,
                    "Life Choice Freedom": 0.755,
                    "Life Expectancy": 53.353125,
                    "Life Ladder": 4.6565,
                    "Log GDP per Capita": 8.431375,
                    "Negative Affect": 0.35375,
                    "Political Stability": "Stable",
                    "Positive Affect": 0.65125,
                    "Social Support": 0.6643749999999999
                  },
                  {
                    "Corruption": 0.8841666666666667,
                    "Country": "Jamaica",
                    "Generosity": -0.08816666666666667,
                    "Life Choice Freedom": 0.8358333333333334,
                    "Life Expectancy": 66.6,
                    "Life Ladder": 5.669666666666667,
                    "Log GDP per Capita": 9.188333333333334,
                    "Negative Affect": 0.2605,
                    "Political Stability": "Stable",
                    "Positive Affect": 0.7166666666666667,
                    "Social Support": 0.8758333333333334
                  },
                  {
                    "Corruption": 0.6695,
                    "Country": "Japan",
                    "Generosity": -0.1728,
                    "Life Choice Freedom": 0.8147,
                    "Life Expectancy": 73.64349999999999,
                    "Life Ladder": 5.9768,
                    "Log GDP per Capita": 10.5998,
                    "Negative Affect": 0.1842,
                    "Political Stability": "Stable",
                    "Positive Affect": 0.7006,
                    "Social Support": 0.8999
                  },
                  {
                    "Corruption": 0.7719090909090909,
                    "Country": "Kazakhstan",
                    "Generosity": -0.10972727272727273,
                    "Life Choice Freedom": 0.8105454545454546,
                    "Life Expectancy": 63.127272727272725,
                    "Life Ladder": 5.875272727272727,
                    "Log GDP per Capita": 10.084000000000001,
                    "Negative Affect": 0.161,
                    "Political Stability": "Stable",
                    "Positive Affect": 0.6551818181818182,
                    "Social Support": 0.9101818181818182
                  },
                  {
                    "Corruption": 0.861090909090909,
                    "Country": "Kenya",
                    "Generosity": 0.18336363636363637,
                    "Life Choice Freedom": 0.7486363636363635,
                    "Life Expectancy": 55.93636363636363,
                    "Life Ladder": 4.450909090909091,
                    "Log GDP per Capita": 8.33081818181818,
                    "Negative Affect": 0.2127272727272727,
                    "Political Stability": "Stable",
                    "Positive Affect": 0.7280909090909091,
                    "Social Support": 0.757
                  },
                  {
                    "Corruption": 0.486,
                    "Country": "Kuwait",
                    "Generosity": -0.037,
                    "Life Choice Freedom": 0.703,
                    "Life Expectancy": 69.2,
                    "Life Ladder": 6.798,
                    "Log GDP per Capita": 10.998,
                    "Negative Affect": 0.203,
                    "Political Stability": "Stable",
                    "Positive Affect": 0.687,
                    "Social Support": 0.893
                  },
                  {
                    "Corruption": 0.9017272727272728,
                    "Country": "Kyrgyzstan",
                    "Generosity": 0.06454545454545454,
                    "Life Choice Freedom": 0.8134545454545455,
                    "Life Expectancy": 63.84318181818182,
                    "Life Ladder": 5.309363636363636,
                    "Log GDP per Capita": 8.457818181818181,
                    "Negative Affect": 0.17300000000000001,
                    "Political Stability": "Stable",
                    "Positive Affect": 0.6151818181818182,
                    "Social Support": 0.8829090909090909
                  },
                  {
                    "Corruption": 0.6362,
                    "Country": "Laos",
                    "Generosity": 0.1728,
                    "Life Choice Freedom": 0.9002000000000001,
                    "Life Expectancy": 59.836,
                    "Life Ladder": 4.933400000000001,
                    "Log GDP per Capita": 8.854800000000001,
                    "Negative Affect": 0.313,
                    "Political Stability": "Stable",
                    "Positive Affect": 0.7202,
                    "Social Support": 0.6984
                  },
                  {
                    "Corruption": 0.8341000000000001,
                    "Country": "Latvia",
                    "Generosity": -0.10700000000000001,
                    "Life Choice Freedom": 0.6597,
                    "Life Expectancy": 65.65,
                    "Life Ladder": 5.679,
                    "Log GDP per Capita": 10.2005,
                    "Negative Affect": 0.2204,
                    "Political Stability": "Stable",
                    "Positive Affect": 0.58,
                    "Social Support": 0.8870000000000001
                  },
                  {
                    "Corruption": 0.9009090909090909,
                    "Country": "Lebanon",
                    "Generosity": -0.024909090909090912,
                    "Life Choice Freedom": 0.6120909090909091,
                    "Life Expectancy": 65.72045454545454,
                    "Life Ladder": 4.766454545454545,
                    "Log GDP per Capita": 9.770181818181818,
                    "Negative Affect": 0.33390909090909093,
                    "Political Stability": "Unstable",
                    "Positive Affect": 0.4506363636363636,
                    "Social Support": 0.7475454545454544
                  },
                  {
                    "Corruption": 0.80575,
                    "Country": "Lesotho",
                    "Generosity": -0.11324999999999999,
                    "Life Choice Freedom": 0.705,
                    "Life Expectancy": 42.7175,
                    "Life Ladder": 4.0032499999999995,
                    "Log GDP per Capita": 7.8427500000000006,
                    "Negative Affect": 0.24200000000000002,
                    "Political Stability": "Stable",
                    "Positive Affect": 0.713,
                    "Social Support": 0.79525
                  },
                  {
                    "Corruption": 0.8648571428571429,
                    "Country": "Liberia",
                    "Generosity": -0.003142857142857144,
                    "Life Choice Freedom": 0.7211428571428572,
                    "Life Expectancy": 53.28857142857142,
                    "Life Ladder": 4.072,
                    "Log GDP per Capita": 7.326428571428571,
                    "Negative Affect": 0.3961428571428572,
                    "Political Stability": "Stable",
                    "Positive Affect": 0.6058571428571428,
                    "Social Support": 0.7057142857142856
                  },
                  {
                    "Corruption": 0.6990000000000001,
                    "Country": "Libya",
                    "Generosity": -0.09699999999999999,
                    "Life Choice Freedom": 0.7585,
                    "Life Expectancy": 65.01625,
                    "Life Ladder": 5.55625,
                    "Log GDP per Capita": 10.1635,
                    "Negative Affect": 0.37375,
                    "Political Stability": "Unstable",
                    "Positive Affect": 0.635,
                    "Social Support": 0.8322499999999999
                  },
                  {
                    "Corruption": 0.9001818181818181,
                    "Country": "Lithuania",
                    "Generosity": -0.23109090909090912,
                    "Life Choice Freedom": 0.6326363636363636,
                    "Life Expectancy": 65.50454545454545,
                    "Life Ladder": 5.873181818181819,
                    "Log GDP per Capita": 10.334909090909091,
                    "Negative Affect": 0.2561818181818182,
                    "Political Stability": "Stable",
                    "Positive Affect": 0.5518181818181819,
                    "Social Support": 0.9205454545454544
                  },
                  {
                    "Corruption": 0.37170000000000003,
                    "Country": "Luxembourg",
                    "Generosity": 0.028800000000000003,
                    "Life Choice Freedom": 0.9046,
                    "Life Expectancy": 71.225,
                    "Life Ladder": 7.056100000000001,
                    "Log GDP per Capita": 11.6431,
                    "Negative Affect": 0.1981,
                    "Political Stability": "Stable",
                    "Positive Affect": 0.7165999999999999,
                    "Social Support": 0.9186
                  },
                  {
                    "Corruption": 0.8434444444444444,
                    "Country": "Madagascar",
                    "Generosity": -0.033888888888888885,
                    "Life Choice Freedom": 0.5364444444444445,
                    "Life Expectancy": 56.31111111111111,
                    "Life Ladder": 3.907666666666666,
                    "Log GDP per Capita": 7.328555555555555,
                    "Negative Affect": 0.25922222222222224,
                    "Political Stability": "Unstable",
                    "Positive Affect": 0.6457777777777778,
                    "Social Support": 0.6894444444444444
                  },
                  {
                    "Corruption": 0.8066666666666666,
                    "Country": "Malawi",
                    "Generosity": 0.04455555555555556,
                    "Life Choice Freedom": 0.7701111111111111,
                    "Life Expectancy": 54.333333333333336,
                    "Life Ladder": 3.865333333333333,
                    "Log GDP per Capita": 7.269222222222222,
                    "Negative Affect": 0.2876666666666667,
                    "Political Stability": "Stable",
                    "Positive Affect": 0.6146666666666667,
                    "Social Support": 0.5491111111111111
                  },
                  {
                    "Corruption": 0.8215555555555556,
                    "Country": "Malaysia",
                    "Generosity": 0.121,
                    "Life Choice Freedom": 0.8222222222222223,
                    "Life Expectancy": 65.63333333333334,
                    "Life Ladder": 5.790666666666667,
                    "Log GDP per Capita": 10.065888888888889,
                    "Negative Affect": 0.23111111111111113,
                    "Political Stability": "Stable",
                    "Positive Affect": 0.729,
                    "Social Support": 0.8211111111111111
                  },
                  {
                    "Corruption": 0.7996363636363636,
                    "Country": "Mali",
                    "Generosity": -0.05818181818181818,
                    "Life Choice Freedom": 0.7025454545454545,
                    "Life Expectancy": 53.08181818181818,
                    "Life Ladder": 4.309636363636364,
                    "Log GDP per Capita": 7.634090909090909,
                    "Negative Affect": 0.26281818181818184,
                    "Political Stability": "Unstable",
                    "Positive Affect": 0.6985454545454546,
                    "Social Support": 0.7686363636363637
                  },
                  {
                    "Corruption": 0.6684285714285715,
                    "Country": "Malta",
                    "Generosity": 0.2247142857142857,
                    "Life Choice Freedom": 0.9197142857142858,
                    "Life Expectancy": 71.38142857142857,
                    "Life Ladder": 6.590285714285714,
                    "Log GDP per Capita": 10.635857142857143,
                    "Negative Affect": 0.3467142857142857,
                    "Political Stability": "Stable",
                    "Positive Affect": 0.6345714285714286,
                    "Social Support": 0.9312857142857143
                  },
                  {
                    "Corruption": 0.7234,
                    "Country": "Mauritania",
                    "Generosity": -0.05689999999999999,
                    "Life Choice Freedom": 0.533,
                    "Life Expectancy": 58.675,
                    "Life Ladder": 4.4452,
                    "Log GDP per Capita": 8.532399999999999,
                    "Negative Affect": 0.2051,
                    "Political Stability": "Stable",
                    "Positive Affect": 0.7191,
                    "Social Support": 0.8003
                  },
                  {
                    "Corruption": 0.8288571428571428,
                    "Country": "Mauritius",
                    "Generosity": 0.05685714285714286,
                    "Life Choice Freedom": 0.858,
                    "Life Expectancy": 63.86071428571428,
                    "Life Ladder": 5.863857142857142,
                    "Log GDP per Capita": 9.956857142857144,
                    "Negative Affect": 0.1907142857142857,
                    "Political Stability": "Stable",
                    "Positive Affect": 0.7038571428571428,
                    "Social Support": 0.8637142857142858
                  },
                  {
                    "Corruption": 0.7257272727272728,
                    "Country": "Mexico",
                    "Generosity": -0.136,
                    "Life Choice Freedom": 0.8035454545454546,
                    "Life Expectancy": 65.60909090909091,
                    "Life Ladder": 6.688272727272727,
                    "Log GDP per Capita": 9.862727272727271,
                    "Negative Affect": 0.238,
                    "Political Stability": "Stable",
                    "Positive Affect": 0.7566363636363637,
                    "Social Support": 0.8137272727272727
                  },
                  {
                    "Corruption": 0.9362727272727273,
                    "Country": "Moldova",
                    "Generosity": -0.07790909090909091,
                    "Life Choice Freedom": 0.6619090909090909,
                    "Life Expectancy": 62.92727272727273,
                    "Life Ladder": 5.751727272727273,
                    "Log GDP per Capita": 9.265181818181818,
                    "Negative Affect": 0.2739090909090909,
                    "Political Stability": "Unstable",
                    "Positive Affect": 0.5784545454545454,
                    "Social Support": 0.8393636363636364
                  },
                  {
                    "Corruption": 0.8961818181818182,
                    "Country": "Mongolia",
                    "Generosity": 0.12054545454545455,
                    "Life Choice Freedom": 0.7059090909090909,
                    "Life Expectancy": 59.46363636363637,
                    "Life Ladder": 5.150272727272728,
                    "Log GDP per Capita": 9.263818181818182,
                    "Negative Affect": 0.1859090909090909,
                    "Political Stability": "Stable",
                    "Positive Affect": 0.5460909090909092,
                    "Social Support": 0.9301818181818181
                  },
                  {
                    "Corruption": 0.7777272727272727,
                    "Country": "Montenegro",
                    "Generosity": -0.10445454545454545,
                    "Life Choice Freedom": 0.5877272727272728,
                    "Life Expectancy": 66.62727272727273,
                    "Life Ladder": 5.3687272727272735,
                    "Log GDP per Capita": 9.820727272727272,
                    "Negative Affect": 0.36563636363636365,
                    "Political Stability": "Unstable",
                    "Positive Affect": 0.5212727272727272,
                    "Social Support": 0.8170909090909091
                  },
                  {
                    "Corruption": 0.8104444444444444,
                    "Country": "Morocco",
                    "Generosity": -0.227,
                    "Life Choice Freedom": 0.7334444444444445,
                    "Life Expectancy": 63.306666666666665,
                    "Life Ladder": 5.0905555555555555,
                    "Log GDP per Capita": 8.888444444444444,
                    "Negative Affect": 0.2865555555555555,
                    "Political Stability": "Stable",
                    "Positive Affect": 0.6053333333333334,
                    "Social Support": 0.6277777777777778
                  },
                  {
                    "Corruption": 0.6812,
                    "Country": "Mozambique",
                    "Generosity": 0.0294,
                    "Life Choice Freedom": 0.8084,
                    "Life Expectancy": 49.074,
                    "Life Ladder": 4.6774000000000004,
                    "Log GDP per Capita": 7.1256,
                    "Negative Affect": 0.34340000000000004,
                    "Political Stability": "Unstable",
                    "Positive Affect": 0.595,
                    "Social Support": 0.7283999999999999
                  },
                  {
                    "Corruption": 0.64,
                    "Country": "Myanmar",
                    "Generosity": 0.623,
                    "Life Choice Freedom": 0.8374444444444444,
                    "Life Expectancy": 59.821666666666665,
                    "Life Ladder": 4.408666666666666,
                    "Log GDP per Capita": 8.304333333333334,
                    "Negative Affect": 0.25166666666666665,
                    "Political Stability": "Unstable",
                    "Positive Affect": 0.6618888888888889,
                    "Social Support": 0.7573333333333333
                  },
                  {
                    "Corruption": 0.8311999999999999,
                    "Country": "Namibia",
                    "Generosity": -0.1688,
                    "Life Choice Freedom": 0.7636000000000001,
                    "Life Expectancy": 55.58200000000001,
                    "Life Ladder": 4.547199999999999,
                    "Log GDP per Capita": 9.213,
                    "Negative Affect": 0.252,
                    "Political Stability": "Stable",
                    "Positive Affect": 0.6824,
                    "Social Support": 0.8082
                  },
                  {
                    "Corruption": 0.8294545454545456,
                    "Country": "Nepal",
                    "Generosity": 0.11572727272727272,
                    "Life Choice Freedom": 0.7177272727272727,
                    "Life Expectancy": 60.49318181818182,
                    "Life Ladder": 4.814727272727273,
                    "Log GDP per Capita": 8.082181818181818,
                    "Negative Affect": 0.3104545454545455,
                    "Political Stability": "Stable",
                    "Positive Affect": 0.4913636363636364,
                    "Social Support": 0.7734545454545454
                  },
                  {
                    "Corruption": 0.3976363636363636,
                    "Country": "Netherlands",
                    "Generosity": 0.25827272727272726,
                    "Life Choice Freedom": 0.9112727272727273,
                    "Life Expectancy": 71.14772727272727,
                    "Life Ladder": 7.452818181818182,
                    "Log GDP per Capita": 10.888454545454545,
                    "Negative Affect": 0.214,
                    "Political Stability": "Stable",
                    "Positive Affect": 0.7439999999999999,
                    "Social Support": 0.9303636363636364
                  },
                  {
                    "Corruption": 0.26127272727272727,
                    "Country": "New Zealand",
                    "Generosity": 0.24036363636363636,
                    "Life Choice Freedom": 0.9291818181818182,
                    "Life Expectancy": 69.97500000000001,
                    "Life Ladder": 7.277636363636364,
                    "Log GDP per Capita": 10.611181818181818,
                    "Negative Affect": 0.19172727272727272,
                    "Political Stability": "Stable",
                    "Positive Affect": 0.7835454545454545,
                    "Social Support": 0.9530909090909091
                  },
                  {
                    "Corruption": 0.6944545454545454,
                    "Country": "Nicaragua",
                    "Generosity": 0.03154545454545454,
                    "Life Choice Freedom": 0.822090909090909,
                    "Life Expectancy": 65.1659090909091,
                    "Life Ladder": 5.927272727272728,
                    "Log GDP per Capita": 8.574727272727273,
                    "Negative Affect": 0.3210909090909091,
                    "Political Stability": "Stable",
                    "Positive Affect": 0.7726363636363637,
                    "Social Support": 0.8514545454545455
                  },
                  {
                    "Corruption": 0.6832,
                    "Country": "Niger",
                    "Generosity": -0.0316,
                    "Life Choice Freedom": 0.758,
                    "Life Expectancy": 53.79,
                    "Life Ladder": 4.3042,
                    "Log GDP per Capita": 7.015300000000001,
                    "Negative Affect": 0.2624,
                    "Political Stability": "Unstable",
                    "Positive Affect": 0.6838,
                    "Social Support": 0.6889000000000001
                  },
                  {
                    "Corruption": 0.8926666666666667,
                    "Country": "Nigeria",
                    "Generosity": 0.046000000000000006,
                    "Life Choice Freedom": 0.7102222222222223,
                    "Life Expectancy": 53.28611111111111,
                    "Life Ladder": 5.063,
                    "Log GDP per Capita": 8.53711111111111,
                    "Negative Affect": 0.24722222222222223,
                    "Political Stability": "Unstable",
                    "Positive Affect": 0.7257777777777777,
                    "Social Support": 0.7633333333333333
                  },
                  {
                    "Corruption": 0.8748181818181817,
                    "Country": "North Macedonia",
                    "Generosity": -0.011636363636363637,
                    "Life Choice Freedom": 0.6721818181818182,
                    "Life Expectancy": 65.46363636363637,
                    "Life Ladder": 4.997545454545454,
                    "Log GDP per Capita": 9.612727272727271,
                    "Negative Affect": 0.3267272727272727,
                    "Political Stability": "Unstable",
                    "Positive Affect": 0.5259090909090909,
                    "Social Support": 0.795
                  },
                  {
                    "Corruption": 0.31775,
                    "Country": "Norway",
                    "Generosity": 0.148375,
                    "Life Choice Freedom": 0.954625,
                    "Life Expectancy": 71.19375,
                    "Life Ladder": 7.5095,
                    "Log GDP per Capita": 11.0565,
                    "Negative Affect": 0.206375,
                    "Political Stability": "Stable",
                    "Positive Affect": 0.7937500000000001,
                    "Social Support": 0.9512499999999999
                  },
                  {
                    "Corruption": 0.7865454545454544,
                    "Country": "Pakistan",
                    "Generosity": 0.09945454545454546,
                    "Life Choice Freedom": 0.5688181818181818,
                    "Life Expectancy": 55.820454545454545,
                    "Life Ladder": 5.227363636363636,
                    "Log GDP per Capita": 8.426454545454545,
                    "Negative Affect": 0.34336363636363637,
                    "Political Stability": "Unstable",
                    "Positive Affect": 0.4862727272727273,
                    "Social Support": 0.5960909090909091
                  },
                  {
                    "Corruption": 0.8371000000000001,
                    "Country": "Panama",
                    "Generosity": -0.0632,
                    "Life Choice Freedom": 0.8446999999999999,
                    "Life Expectancy": 68.16,
                    "Life Ladder": 6.658499999999999,
                    "Log GDP per Capita": 10.2162,
                    "Negative Affect": 0.223,
                    "Political Stability": "Stable",
                    "Positive Affect": 0.8257999999999999,
                    "Social Support": 0.8936999999999999
                  },
                  {
                    "Corruption": 0.8115,
                    "Country": "Paraguay",
                    "Generosity": 0.044,
                    "Life Choice Freedom": 0.8099999999999999,
                    "Life Expectancy": 65.53999999999999,
                    "Life Ladder": 5.662100000000001,
                    "Log GDP per Capita": 9.435500000000001,
                    "Negative Affect": 0.22110000000000002,
                    "Political Stability": "Stable",
                    "Positive Affect": 0.829,
                    "Social Support": 0.9141999999999999
                  },
                  {
                    "Corruption": 0.8779090909090909,
                    "Country": "Peru",
                    "Generosity": -0.11545454545454546,
                    "Life Choice Freedom": 0.7789090909090909,
                    "Life Expectancy": 68.68409090909091,
                    "Life Ladder": 5.694636363636364,
                    "Log GDP per Capita": 9.362363636363638,
                    "Negative Affect": 0.374,
                    "Political Stability": "Stable",
                    "Positive Affect": 0.7537272727272728,
                    "Social Support": 0.7983636363636364
                  },
                  {
                    "Corruption": 0.7622727272727272,
                    "Country": "Philippines",
                    "Generosity": -0.03809090909090909,
                    "Life Choice Freedom": 0.9095454545454547,
                    "Life Expectancy": 61.85227272727273,
                    "Life Ladder": 5.365181818181818,
                    "Log GDP per Capita": 8.876454545454546,
                    "Negative Affect": 0.33745454545454545,
                    "Political Stability": "Unstable",
                    "Positive Affect": 0.791,
                    "Social Support": 0.824
                  },
                  {
                    "Corruption": 0.8195454545454546,
                    "Country": "Poland",
                    "Generosity": -0.10245454545454545,
                    "Life Choice Freedom": 0.8309090909090909,
                    "Life Expectancy": 67.99318181818181,
                    "Life Ladder": 5.978818181818181,
                    "Log GDP per Capita": 10.238181818181818,
                    "Negative Affect": 0.23,
                    "Political Stability": "Stable",
                    "Positive Affect": 0.6533636363636364,
                    "Social Support": 0.9107272727272728
                  },
                  {
                    "Corruption": 0.9238181818181818,
                    "Country": "Portugal",
                    "Generosity": -0.17827272727272725,
                    "Life Choice Freedom": 0.8381818181818183,
                    "Life Expectancy": 70.34318181818182,
                    "Life Ladder": 5.419636363636363,
                    "Log GDP per Capita": 10.369,
                    "Negative Affect": 0.32836363636363636,
                    "Political Stability": "Stable",
                    "Positive Affect": 0.6492727272727273,
                    "Social Support": 0.874909090909091
                  },
                  {
                    "Corruption": 0.9488181818181818,
                    "Country": "Romania",
                    "Generosity": -0.14754545454545454,
                    "Life Choice Freedom": 0.753,
                    "Life Expectancy": 66.22500000000001,
                    "Life Ladder": 5.71,
                    "Log GDP per Capita": 10.108909090909092,
                    "Negative Affect": 0.29454545454545455,
                    "Political Stability": "Stable",
                    "Positive Affect": 0.5867272727272727,
                    "Social Support": 0.7862727272727273
                  },
                  {
                    "Corruption": 0.8953636363636364,
                    "Country": "Russia",
                    "Generosity": -0.20863636363636362,
                    "Life Choice Freedom": 0.6855454545454546,
                    "Life Expectancy": 62.61136363636364,
                    "Life Ladder": 5.622636363636364,
                    "Log GDP per Capita": 10.160636363636364,
                    "Negative Affect": 0.17245454545454544,
                    "Political Stability": "Unstable",
                    "Positive Affect": 0.6016363636363636,
                    "Social Support": 0.9039090909090909
                  },
                  {
                    "Corruption": 0.13744444444444445,
                    "Country": "Rwanda",
                    "Generosity": 0.013777777777777778,
                    "Life Choice Freedom": 0.886888888888889,
                    "Life Expectancy": 58.59444444444445,
                    "Life Ladder": 3.4716666666666667,
                    "Log GDP per Capita": 7.509444444444444,
                    "Negative Affect": 0.24022222222222223,
                    "Political Stability": "Unstable",
                    "Positive Affect": 0.7023333333333333,
                    "Social Support": 0.63
                  },
                  {
                    "Corruption": 0.8136363636363636,
                    "Country": "Senegal",
                    "Generosity": -0.07145454545454545,
                    "Life Choice Freedom": 0.7045454545454546,
                    "Life Expectancy": 58.2,
                    "Life Ladder": 4.438818181818181,
                    "Log GDP per Capita": 8.025454545454545,
                    "Negative Affect": 0.22272727272727275,
                    "Political Stability": "Stable",
                    "Positive Affect": 0.7298181818181818,
                    "Social Support": 0.7349999999999999
                  },
                  {
                    "Corruption": 0.8922727272727272,
                    "Country": "Serbia",
                    "Generosity": -0.06845454545454545,
                    "Life Choice Freedom": 0.600909090909091,
                    "Life Expectancy": 66.37954545454546,
                    "Life Ladder": 5.368909090909091,
                    "Log GDP per Capita": 9.685,
                    "Negative Affect": 0.3407272727272727,
                    "Political Stability": "Stable",
                    "Positive Affect": 0.4870909090909091,
                    "Social Support": 0.8301818181818181
                  },
                  {
                    "Corruption": 0.8525555555555555,
                    "Country": "Sierra Leone",
                    "Generosity": 0.04288888888888889,
                    "Life Choice Freedom": 0.7052222222222222,
                    "Life Expectancy": 50.08222222222222,
                    "Life Ladder": 4.348333333333333,
                    "Log GDP per Capita": 7.389777777777777,
                    "Negative Affect": 0.4017777777777778,
                    "Political Stability": "Unstable",
                    "Positive Affect": 0.5618888888888889,
                    "Social Support": 0.7057777777777778
                  },
                  {
                    "Corruption": 0.11211111111111112,
                    "Country": "Singapore",
                    "Generosity": 0.049666666666666665,
                    "Life Choice Freedom": 0.8778888888888888,
                    "Life Expectancy": 73.07111111111111,
                    "Life Ladder": 6.496777777777778,
                    "Log GDP per Capita": 11.398,
                    "Negative Affect": 0.14222222222222222,
                    "Political Stability": "Stable",
                    "Positive Affect": 0.6671111111111112,
                    "Social Support": 0.8793333333333333
                  },
                  {
                    "Corruption": 0.9138181818181818,
                    "Country": "Slovakia",
                    "Generosity": -0.08490909090909092,
                    "Life Choice Freedom": 0.6825454545454546,
                    "Life Expectancy": 67.60681818181818,
                    "Life Ladder": 6.1365454545454545,
                    "Log GDP per Capita": 10.257727272727273,
                    "Negative Affect": 0.2639090909090909,
                    "Political Stability": "Stable",
                    "Positive Affect": 0.6433636363636364,
                    "Social Support": 0.9278181818181818
                  },
                  {
                    "Corruption": 0.8578181818181818,
                    "Country": "Slovenia",
                    "Generosity": -0.03145454545454545,
                    "Life Choice Freedom": 0.9137272727272727,
                    "Life Expectancy": 70.02045454545454,
                    "Life Ladder": 6.096,
                    "Log GDP per Capita": 10.458727272727272,
                    "Negative Affect": 0.2786363636363636,
                    "Political Stability": "Stable",
                    "Positive Affect": 0.6015454545454545,
                    "Social Support": 0.9289999999999999
                  },
                  {
                    "Corruption": 0.43566666666666665,
                    "Country": "Somalia",
                    "Generosity": 0.039,
                    "Life Choice Freedom": 0.9196666666666666,
                    "Life Expectancy": 48.086666666666666,
                    "Life Ladder": 5.183333333333334,
                    "Log GDP per Capita": 6.916,
                    "Negative Affect": 0.19566666666666666,
                    "Political Stability": "Unstable",
                    "Positive Affect": 0.742,
                    "Social Support": 0.6013333333333333
                  },
                  {
                    "Corruption": 0.8338181818181819,
                    "Country": "South Africa",
                    "Generosity": -0.12236363636363637,
                    "Life Choice Freedom": 0.7584545454545455,
                    "Life Expectancy": 53.58863636363637,
                    "Life Ladder": 4.749363636363636,
                    "Log GDP per Capita": 9.529454545454545,
                    "Negative Affect": 0.2288181818181818,
                    "Political Stability": "Unstable",
                    "Positive Affect": 0.7265454545454545,
                    "Social Support": 0.875
                  },
                  {
                    "Corruption": 0.7979,
                    "Country": "South Korea",
                    "Generosity": -0.0462,
                    "Life Choice Freedom": 0.6386000000000001,
                    "Life Expectancy": 72.1485,
                    "Life Ladder": 5.9984,
                    "Log GDP per Capita": 10.5725,
                    "Negative Affect": 0.2182,
                    "Political Stability": "Stable",
                    "Positive Affect": 0.5789,
                    "Social Support": 0.7935000000000001
                  },
                  {
                    "Corruption": 0.8153636363636363,
                    "Country": "Spain",
                    "Generosity": -0.08081818181818182,
                    "Life Choice Freedom": 0.7641818181818182,
                    "Life Expectancy": 71.60681818181818,
                    "Life Ladder": 6.364090909090908,
                    "Log GDP per Capita": 10.533545454545454,
                    "Negative Affect": 0.32990909090909093,
                    "Political Stability": "Stable",
                    "Positive Affect": 0.6528181818181819,
                    "Social Support": 0.9366363636363637
                  },
                  {
                    "Corruption": 0.8175000000000001,
                    "Country": "Sri Lanka",
                    "Generosity": 0.15940000000000001,
                    "Life Choice Freedom": 0.8278000000000001,
                    "Life Expectancy": 66.02000000000001,
                    "Life Ladder": 4.3385,
                    "Log GDP per Capita": 9.3905,
                    "Negative Affect": 0.23369999999999996,
                    "Political Stability": "Stable",
                    "Positive Affect": 0.7558,
                    "Social Support": 0.827
                  },
                  {
                    "Corruption": 0.752,
                    "Country": "State of Palestine",
                    "Generosity": -0.118,
                    "Life Choice Freedom": 0.504,
                    "Life Expectancy": 62.25,
                    "Life Ladder": 4.703,
                    "Log GDP per Capita": 8.363,
                    "Negative Affect": 0.381,
                    "Political Stability": "Unstable",
                    "Positive Affect": 0.553,
                    "Social Support": 0.822
                  },
                  {
                    "Corruption": 0.732,
                    "Country": "Sudan",
                    "Generosity": -0.0665,
                    "Life Choice Freedom": 0.50825,
                    "Life Expectancy": 58.12,
                    "Life Ladder": 4.3595,
                    "Log GDP per Capita": 8.48025,
                    "Negative Affect": 0.25375000000000003,
                    "Political Stability": "Unstable",
                    "Positive Affect": 0.52325,
                    "Social Support": 0.8242499999999999
                  },
                  {
                    "Corruption": 0.751,
                    "Country": "Suriname",
                    "Generosity": -0.086,
                    "Life Choice Freedom": 0.885,
                    "Life Expectancy": 62.84,
                    "Life Ladder": 6.269,
                    "Log GDP per Capita": 9.874,
                    "Negative Affect": 0.25,
                    "Political Stability": "Stable",
                    "Positive Affect": 0.73,
                    "Social Support": 0.797
                  },
                  {
                    "Corruption": 0.253,
                    "Country": "Sweden",
                    "Generosity": 0.14018181818181819,
                    "Life Choice Freedom": 0.9358181818181819,
                    "Life Expectancy": 71.51590909090909,
                    "Life Ladder": 7.376636363636364,
                    "Log GDP per Capita": 10.825636363636363,
                    "Negative Affect": 0.19027272727272726,
                    "Political Stability": "Stable",
                    "Positive Affect": 0.7667272727272728,
                    "Social Support": 0.9295454545454546
                  },
                  {
                    "Corruption": 0.288625,
                    "Country": "Switzerland",
                    "Generosity": 0.074125,
                    "Life Choice Freedom": 0.929625,
                    "Life Expectancy": 72.045,
                    "Life Ladder": 7.560625,
                    "Log GDP per Capita": 11.139125,
                    "Negative Affect": 0.186125,
                    "Political Stability": "Stable",
                    "Positive Affect": 0.762,
                    "Social Support": 0.943375
                  },
                  {
                    "Corruption": 0.701,
                    "Country": "Syria",
                    "Generosity": 0.1412,
                    "Life Choice Freedom": 0.5094000000000001,
                    "Life Expectancy": 61.227999999999994,
                    "Life Ladder": 3.5634,
                    "Log GDP per Capita": 8.5914,
                    "Negative Affect": 0.5382,
                    "Political Stability": "Unstable",
                    "Positive Affect": 0.4356,
                    "Social Support": 0.6294
                  },
                  {
                    "Corruption": 0.821,
                    "Country": "Taiwan Province of China",
                    "Generosity": 0.001,
                    "Life Choice Freedom": 0.677,
                    "Life Expectancy": 69.6,
                    "Life Ladder": 6.229,
                    "Log GDP per Capita": 10.681,
                    "Negative Affect": 0.136,
                    "Political Stability": "Stable",
                    "Positive Affect": 0.738,
                    "Social Support": 0.831
                  },
                  {
                    "Corruption": 0.70275,
                    "Country": "Tajikistan",
                    "Generosity": 0.0061249999999999985,
                    "Life Choice Freedom": 0.779625,
                    "Life Expectancy": 61.26875,
                    "Life Ladder": 4.882625,
                    "Log GDP per Capita": 7.929375,
                    "Negative Affect": 0.202,
                    "Political Stability": "Unstable",
                    "Positive Affect": 0.5756249999999999,
                    "Social Support": 0.76425
                  },
                  {
                    "Corruption": 0.757,
                    "Country": "Tanzania",
                    "Generosity": 0.133,
                    "Life Choice Freedom": 0.7308181818181818,
                    "Life Expectancy": 56.41363636363636,
                    "Life Ladder": 3.5842727272727273,
                    "Log GDP per Capita": 7.738272727272727,
                    "Negative Affect": 0.21327272727272728,
                    "Political Stability": "Stable",
                    "Positive Affect": 0.6721818181818182,
                    "Social Support": 0.7595454545454546
                  },
                  {
                    "Corruption": 0.9065454545454545,
                    "Country": "Thailand",
                    "Generosity": 0.3663636363636364,
                    "Life Choice Freedom": 0.8809090909090909,
                    "Life Expectancy": 67.85681818181818,
                    "Life Ladder": 6.23009090909091,
                    "Log GDP per Capita": 9.679,
                    "Negative Affect": 0.19118181818181815,
                    "Political Stability": "Stable",
                    "Positive Affect": 0.7958181818181818,
                    "Social Support": 0.8946363636363638
                  },
                  {
                    "Corruption": 0.7781428571428571,
                    "Country": "Togo",
                    "Generosity": -0.051,
                    "Life Choice Freedom": 0.6707142857142857,
                    "Life Expectancy": 54.6,
                    "Life Ladder": 3.712142857142857,
                    "Log GDP per Capita": 7.551714285714286,
                    "Negative Affect": 0.4361428571428571,
                    "Political Stability": "Stable",
                    "Positive Affect": 0.5778571428571428,
                    "Social Support": 0.4825714285714286
                  },
                  {
                    "Corruption": 0.9196666666666666,
                    "Country": "Trinidad and Tobago",
                    "Generosity": 0.071,
                    "Life Choice Freedom": 0.827,
                    "Life Expectancy": 64.60666666666667,
                    "Life Ladder": 6.293,
                    "Log GDP per Capita": 10.224333333333332,
                    "Negative Affect": 0.22266666666666665,
                    "Political Stability": "Stable",
                    "Positive Affect": 0.7846666666666667,
                    "Social Support": 0.8873333333333333
                  },
                  {
                    "Corruption": 0.8467272727272728,
                    "Country": "Tunisia",
                    "Generosity": -0.20109090909090907,
                    "Life Choice Freedom": 0.6090909090909091,
                    "Life Expectancy": 66.6590909090909,
                    "Life Ladder": 4.731363636363636,
                    "Log GDP per Capita": 9.271090909090908,
                    "Negative Affect": 0.336,
                    "Political Stability": "Unstable",
                    "Positive Affect": 0.4987272727272727,
                    "Social Support": 0.6918181818181818
                  },
                  {
                    "Corruption": 0.7458181818181818,
                    "Country": "Turkiye",
                    "Generosity": -0.15218181818181817,
                    "Life Choice Freedom": 0.5666363636363637,
                    "Life Expectancy": 67.72045454545454,
                    "Life Ladder": 5.264181818181818,
                    "Log GDP per Capita": 10.125363636363637,
                    "Negative Affect": 0.3686363636363636,
                    "Political Stability": "Unstable",
                    "Positive Affect": 0.4333636363636364,
                    "Social Support": 0.8170000000000001
                  },
                  {
                    "Corruption": 0.8455454545454546,
                    "Country": "Uganda",
                    "Generosity": 0.07400000000000001,
                    "Life Choice Freedom": 0.7426363636363637,
                    "Life Expectancy": 55.80227272727273,
                    "Life Ladder": 4.290090909090909,
                    "Log GDP per Capita": 7.645454545454545,
                    "Negative Affect": 0.3523636363636364,
                    "Political Stability": "Unstable",
                    "Positive Affect": 0.6682727272727272,
                    "Social Support": 0.8074545454545454
                  },
                  {
                    "Corruption": 0.9273636363636364,
                    "Country": "Ukraine",
                    "Generosity": -0.07909090909090909,
                    "Life Choice Freedom": 0.584,
                    "Life Expectancy": 63.53409090909091,
                    "Life Ladder": 4.64709090909091,
                    "Log GDP per Capita": 9.419272727272727,
                    "Negative Affect": 0.2289090909090909,
                    "Political Stability": "Unstable",
                    "Positive Affect": 0.5429090909090909,
                    "Social Support": 0.8850909090909092
                  },
                  {
                    "Corruption": 0.355,
                    "Country": "United Arab Emirates",
                    "Generosity": 0.053,
                    "Life Choice Freedom": 0.878,
                    "Life Expectancy": 65.1,
                    "Life Ladder": 7.097,
                    "Log GDP per Capita": 10.909,
                    "Negative Affect": 0.233,
                    "Political Stability": "Stable",
                    "Positive Affect": 0.701,
                    "Social Support": 0.912
                  },
                  {
                    "Corruption": 0.474,
                    "Country": "United Kingdom",
                    "Generosity": 0.30009090909090913,
                    "Life Choice Freedom": 0.8578181818181818,
                    "Life Expectancy": 69.75454545454545,
                    "Life Ladder": 6.916818181818181,
                    "Log GDP per Capita": 10.69909090909091,
                    "Negative Affect": 0.21818181818181817,
                    "Political Stability": "Stable",
                    "Positive Affect": 0.7335454545454545,
                    "Social Support": 0.9375454545454546
                  },
                  {
                    "Corruption": 0.7053636363636363,
                    "Country": "United States",
                    "Generosity": 0.17454545454545453,
                    "Life Choice Freedom": 0.8325454545454545,
                    "Life Expectancy": 66.45681818181818,
                    "Life Ladder": 7.02,
                    "Log GDP per Capita": 10.971,
                    "Negative Affect": 0.26754545454545453,
                    "Political Stability": "Stable",
                    "Positive Affect": 0.7577272727272728,
                    "Social Support": 0.9143636363636364
                  },
                  {
                    "Corruption": 0.5918181818181818,
                    "Country": "Uruguay",
                    "Generosity": -0.07845454545454546,
                    "Life Choice Freedom": 0.8849090909090909,
                    "Life Expectancy": 67.39090909090909,
                    "Life Ladder": 6.408,
                    "Log GDP per Capita": 9.995090909090909,
                    "Negative Affect": 0.2569090909090909,
                    "Political Stability": "Stable",
                    "Positive Affect": 0.7465454545454545,
                    "Social Support": 0.904
                  },
                  {
                    "Corruption": 0.5071111111111111,
                    "Country": "Uzbekistan",
                    "Generosity": 0.14366666666666666,
                    "Life Choice Freedom": 0.953888888888889,
                    "Life Expectancy": 63.699999999999996,
                    "Life Ladder": 6.037888888888889,
                    "Log GDP per Capita": 8.755555555555555,
                    "Negative Affect": 0.16566666666666668,
                    "Political Stability": "Unstable",
                    "Positive Affect": 0.7122222222222222,
                    "Social Support": 0.9297777777777778
                  },
                  {
                    "Corruption": 0.8147,
                    "Country": "Venezuela",
                    "Generosity": -0.0896,
                    "Life Choice Freedom": 0.6393,
                    "Life Expectancy": 64.985,
                    "Life Ladder": 5.8582,
                    "Log GDP per Capita": 8.217600000000001,
                    "Negative Affect": 0.269,
                    "Political Stability": "Unstable",
                    "Positive Affect": 0.7786,
                    "Social Support": 0.9079
                  },
                  {
                    "Corruption": 0.782125,
                    "Country": "Vietnam",
                    "Generosity": -0.04525,
                    "Life Choice Freedom": 0.890625,
                    "Life Expectancy": 64.9225,
                    "Life Ladder": 5.3635,
                    "Log GDP per Capita": 9.001,
                    "Negative Affect": 0.210125,
                    "Political Stability": "Stable",
                    "Positive Affect": 0.60725,
                    "Social Support": 0.8175
                  },
                  {
                    "Corruption": 0.82375,
                    "Country": "Yemen",
                    "Generosity": -0.142875,
                    "Life Choice Freedom": 0.628,
                    "Life Expectancy": 58.278125,
                    "Life Ladder": 3.822625,
                    "Log GDP per Capita": 7.9807500000000005,
                    "Negative Affect": 0.280875,
                    "Political Stability": "Unstable",
                    "Positive Affect": 0.46199999999999997,
                    "Social Support": 0.7165
                  },
                  {
                    "Corruption": 0.8064,
                    "Country": "Zambia",
                    "Generosity": 0.030000000000000006,
                    "Life Choice Freedom": 0.7779,
                    "Life Expectancy": 52.677499999999995,
                    "Life Ladder": 4.4912,
                    "Log GDP per Capita": 8.1089,
                    "Negative Affect": 0.33199999999999996,
                    "Political Stability": "Unstable",
                    "Positive Affect": 0.681,
                    "Social Support": 0.7436
                  },
                  {
                    "Corruption": 0.8106363636363636,
                    "Country": "Zimbabwe",
                    "Generosity": -0.06763636363636363,
                    "Life Choice Freedom": 0.6524545454545454,
                    "Life Expectancy": 50.21136363636364,
                    "Life Ladder": 3.991181818181818,
                    "Log GDP per Capita": 7.6975454545454545,
                    "Negative Affect": 0.21236363636363634,
                    "Political Stability": "Unstable",
                    "Positive Affect": 0.6664545454545455,
                    "Social Support": 0.7901818181818182
                  }
                ]
              },
              "encoding": {
                "x": {
                  "field": "Political Stability",
                  "type": "nominal"
                },
                "y": {
                  "field": "Life Ladder",
                  "scale": {
                    "zero": false
                  },
                  "title": "Life Ladder",
                  "type": "quantitative"
                }
              },
              "height": 300,
              "mark": {
                "size": 80,
                "type": "boxplot"
              },
              "title": "Life Ladder Levels (Stable vs Unstable)",
              "width": 300
            },
            "image/png": "[encoded data removed]",
            "text/plain": [
              "<VegaLite 4 object>\n",
              "\n",
              "If you see this message, it means the renderer has not been properly enabled\n",
              "for the frontend that you are using. For more information, see\n",
              "https://altair-viz.github.io/user_guide/troubleshooting.html\n"
            ]
          },
          "metadata": {}
        }
      ]
    },
    {
      "cell_type": "markdown",
      "source": "Now that we created a statistical visualization, we see the median of a stable countries' life ladder is around 5.8, with 75% of those countries having life ladders between 4.89 to 6.63. On the other hand, we see a median life ladder level of unstable countries as 4.73, with 75% of these countries having life ladders between 4.31 and 7.24.\n\nThis is quite a big difference in Life Ladder levels based on the political stability of the country based on this boxplot, where stable countries have a higher life ladder level.",
      "metadata": {}
    },
    {
      "cell_type": "code",
      "source": "# histogram of life ladder for stable and unstable countries\nhistogram = alt.Chart(whr_final).mark_bar().encode(\n    x=alt.X('Life Ladder', bin=alt.Bin(maxbins=20), title='Life Ladder'),\n    y='count()',\n    color='Political Stability:N'\n)\n# display both histograms by facet\nhistogram.properties(\n    width=400,\n    height=300,\n    title='Histogram of Life Ladder Levels (Stable vs Unstable)'\n).facet(\n    column=alt.Column('Political Stability:N', title='Political Stability')\n)",
      "metadata": {
        "tags": []
      },
      "execution_count": 20,
      "outputs": [
        {
          "execution_count": 20,
          "output_type": "execute_result",
          "data": {
            "application/vnd.vegalite.v4+json": {
              "$schema": "https://vega.github.io/schema/vega-lite/v4.17.0.json",
              "config": {
                "view": {
                  "continuousHeight": 300,
                  "continuousWidth": 400
                }
              },
              "data": {
                "name": "data-7f1c5516e7f5d62847a1a9de95b45e50"
              },
              "datasets": {
                "data-7f1c5516e7f5d62847a1a9de95b45e50": [
                  {
                    "Corruption": 0.8388,
                    "Country": "Afghanistan",
                    "Generosity": 0.0502,
                    "Life Choice Freedom": 0.4821,
                    "Life Expectancy": 52.475,
                    "Life Ladder": 3.501,
                    "Log GDP per Capita": 7.643000000000001,
                    "Negative Affect": 0.3423,
                    "Political Stability": "Unstable",
                    "Positive Affect": 0.47859999999999997,
                    "Social Support": 0.5098
                  },
                  {
                    "Corruption": 0.8693636363636364,
                    "Country": "Albania",
                    "Generosity": -0.08427272727272728,
                    "Life Choice Freedom": 0.6876363636363636,
                    "Life Expectancy": 68.65227272727272,
                    "Life Ladder": 5.012090909090909,
                    "Log GDP per Capita": 9.398363636363637,
                    "Negative Affect": 0.3059090909090909,
                    "Political Stability": "Unstable",
                    "Positive Affect": 0.5640909090909091,
                    "Social Support": 0.6960909090909091
                  },
                  {
                    "Corruption": 0.7086666666666667,
                    "Country": "Algeria",
                    "Generosity": -0.13416666666666666,
                    "Life Choice Freedom": 0.516,
                    "Life Expectancy": 66.11666666666666,
                    "Life Ladder": 5.232833333333333,
                    "Log GDP per Capita": 9.340833333333334,
                    "Negative Affect": 0.2655,
                    "Political Stability": "Unstable",
                    "Positive Affect": 0.5333333333333333,
                    "Social Support": 0.8210000000000001
                  },
                  {
                    "Corruption": 0.86675,
                    "Country": "Angola",
                    "Generosity": -0.09050000000000001,
                    "Life Choice Freedom": 0.45625,
                    "Life Expectancy": 52.15,
                    "Life Ladder": 4.42025,
                    "Log GDP per Capita": 8.98575,
                    "Negative Affect": 0.35125,
                    "Political Stability": "Unstable",
                    "Positive Affect": 0.62575,
                    "Social Support": 0.73825
                  },
                  {
                    "Corruption": 0.8316363636363636,
                    "Country": "Argentina",
                    "Generosity": -0.1709090909090909,
                    "Life Choice Freedom": 0.8019999999999999,
                    "Life Expectancy": 66.80454545454546,
                    "Life Ladder": 6.352818181818182,
                    "Log GDP per Capita": 10.051272727272728,
                    "Negative Affect": 0.28163636363636363,
                    "Political Stability": "Stable",
                    "Positive Affect": 0.743090909090909,
                    "Social Support": 0.905
                  },
                  {
                    "Corruption": 0.8426,
                    "Country": "Armenia",
                    "Generosity": -0.1923,
                    "Life Choice Freedom": 0.5864,
                    "Life Expectancy": 65.91499999999999,
                    "Life Ladder": 4.5189,
                    "Log GDP per Capita": 9.3308,
                    "Negative Affect": 0.44000000000000006,
                    "Political Stability": "Unstable",
                    "Positive Affect": 0.4998,
                    "Social Support": 0.7229
                  },
                  {
                    "Corruption": 0.4075454545454545,
                    "Country": "Australia",
                    "Generosity": 0.26081818181818184,
                    "Life Choice Freedom": 0.9238181818181819,
                    "Life Expectancy": 70.59318181818182,
                    "Life Ladder": 7.279,
                    "Log GDP per Capita": 10.766909090909092,
                    "Negative Affect": 0.21054545454545454,
                    "Political Stability": "Stable",
                    "Positive Affect": 0.736090909090909,
                    "Social Support": 0.9439090909090908
                  },
                  {
                    "Corruption": 0.5735454545454546,
                    "Country": "Austria",
                    "Generosity": 0.09627272727272727,
                    "Life Choice Freedom": 0.9054545454545455,
                    "Life Expectancy": 70.43409090909091,
                    "Life Ladder": 7.258727272727273,
                    "Log GDP per Capita": 10.885909090909092,
                    "Negative Affect": 0.17900000000000002,
                    "Political Stability": "Stable",
                    "Positive Affect": 0.7125454545454546,
                    "Social Support": 0.9284545454545455
                  },
                  {
                    "Corruption": 0.6663,
                    "Country": "Azerbaijan",
                    "Generosity": -0.1847,
                    "Life Choice Freedom": 0.6876,
                    "Life Expectancy": 62.80499999999999,
                    "Life Ladder": 5.0487,
                    "Log GDP per Capita": 9.5706,
                    "Negative Affect": 0.22080000000000002,
                    "Political Stability": "Stable",
                    "Positive Affect": 0.5224,
                    "Social Support": 0.7761
                  },
                  {
                    "Corruption": 0.649,
                    "Country": "Bahrain",
                    "Generosity": -0.0325,
                    "Life Choice Freedom": 0.866,
                    "Life Expectancy": 65.12,
                    "Life Ladder": 5.3805,
                    "Log GDP per Capita": 10.7385,
                    "Negative Affect": 0.4685,
                    "Political Stability": "Stable",
                    "Positive Affect": 0.5735,
                    "Social Support": 0.8925000000000001
                  },
                  {
                    "Corruption": 0.7182000000000001,
                    "Country": "Bangladesh",
                    "Generosity": -0.0518,
                    "Life Choice Freedom": 0.8073,
                    "Life Expectancy": 63.2595,
                    "Life Ladder": 4.762,
                    "Log GDP per Capita": 8.3886,
                    "Negative Affect": 0.2693,
                    "Political Stability": "Stable",
                    "Positive Affect": 0.4793,
                    "Social Support": 0.6348
                  },
                  {
                    "Corruption": 0.6621,
                    "Country": "Belarus",
                    "Generosity": -0.1508,
                    "Life Choice Freedom": 0.6574,
                    "Life Expectancy": 64.485,
                    "Life Ladder": 5.5693,
                    "Log GDP per Capita": 9.825,
                    "Negative Affect": 0.20779999999999998,
                    "Political Stability": "Unstable",
                    "Positive Affect": 0.5179,
                    "Social Support": 0.9106
                  },
                  {
                    "Corruption": 0.6088181818181818,
                    "Country": "Belgium",
                    "Generosity": -0.042909090909090904,
                    "Life Choice Freedom": 0.8397272727272728,
                    "Life Expectancy": 69.98636363636363,
                    "Life Ladder": 6.922090909090909,
                    "Log GDP per Capita": 10.806727272727272,
                    "Negative Affect": 0.24181818181818182,
                    "Political Stability": "Stable",
                    "Positive Affect": 0.7187272727272727,
                    "Social Support": 0.9183636363636364
                  },
                  {
                    "Corruption": 0.782,
                    "Country": "Belize",
                    "Generosity": 0.001,
                    "Life Choice Freedom": 0.874,
                    "Life Expectancy": 65,
                    "Life Ladder": 5.956,
                    "Log GDP per Capita": 9.135,
                    "Negative Affect": 0.282,
                    "Political Stability": "Unstable",
                    "Positive Affect": 0.735,
                    "Social Support": 0.757
                  },
                  {
                    "Corruption": 0.7798,
                    "Country": "Benin",
                    "Generosity": -0.0682,
                    "Life Choice Freedom": 0.7607,
                    "Life Expectancy": 54.489999999999995,
                    "Life Ladder": 4.1578,
                    "Log GDP per Capita": 7.971299999999999,
                    "Negative Affect": 0.344,
                    "Political Stability": "Stable",
                    "Positive Affect": 0.5892000000000001,
                    "Social Support": 0.4899
                  },
                  {
                    "Corruption": 0.6953333333333335,
                    "Country": "Bhutan",
                    "Generosity": 0.29833333333333334,
                    "Life Choice Freedom": 0.8246666666666668,
                    "Life Expectancy": 62.419999999999995,
                    "Life Ladder": 5.196666666666666,
                    "Log GDP per Capita": 9.146,
                    "Negative Affect": 0.2843333333333333,
                    "Political Stability": "Stable",
                    "Positive Affect": 0.7206666666666667,
                    "Social Support": 0.8489999999999999
                  },
                  {
                    "Corruption": 0.8304545454545454,
                    "Country": "Bolivia",
                    "Generosity": -0.05572727272727273,
                    "Life Choice Freedom": 0.8495454545454546,
                    "Life Expectancy": 62.63181818181818,
                    "Life Ladder": 5.783181818181818,
                    "Log GDP per Capita": 8.934818181818182,
                    "Negative Affect": 0.3926363636363636,
                    "Political Stability": "Unstable",
                    "Positive Affect": 0.7157272727272727,
                    "Social Support": 0.8044545454545454
                  },
                  {
                    "Corruption": 0.9444545454545454,
                    "Country": "Bosnia and Herzegovina",
                    "Generosity": 0.05454545454545456,
                    "Life Choice Freedom": 0.5335454545454545,
                    "Life Expectancy": 67.06818181818181,
                    "Life Ladder": 5.237909090909091,
                    "Log GDP per Capita": 9.427181818181818,
                    "Negative Affect": 0.30463636363636365,
                    "Political Stability": "Unstable",
                    "Positive Affect": 0.5235454545454545,
                    "Social Support": 0.789
                  },
                  {
                    "Corruption": 0.7855,
                    "Country": "Botswana",
                    "Generosity": -0.1886,
                    "Life Choice Freedom": 0.8173,
                    "Life Expectancy": 52.415,
                    "Life Ladder": 3.7765999999999997,
                    "Log GDP per Capita": 9.5486,
                    "Negative Affect": 0.23210000000000003,
                    "Political Stability": "Stable",
                    "Positive Affect": 0.6554,
                    "Social Support": 0.8199
                  },
                  {
                    "Corruption": 0.7335,
                    "Country": "Brazil",
                    "Generosity": -0.0891,
                    "Life Choice Freedom": 0.7877,
                    "Life Expectancy": 64.7705,
                    "Life Ladder": 6.6003,
                    "Log GDP per Capita": 9.6069,
                    "Negative Affect": 0.3079,
                    "Political Stability": "Stable",
                    "Positive Affect": 0.6965,
                    "Social Support": 0.8966000000000001
                  },
                  {
                    "Corruption": 0.9389090909090908,
                    "Country": "Bulgaria",
                    "Generosity": -0.15109090909090908,
                    "Life Choice Freedom": 0.6744545454545454,
                    "Life Expectancy": 65.84545454545456,
                    "Life Ladder": 4.640454545454546,
                    "Log GDP per Capita": 9.918363636363637,
                    "Negative Affect": 0.22227272727272726,
                    "Political Stability": "Stable",
                    "Positive Affect": 0.5461818181818182,
                    "Social Support": 0.8927272727272727
                  },
                  {
                    "Corruption": 0.7456363636363637,
                    "Country": "Burkina Faso",
                    "Generosity": -0.015636363636363636,
                    "Life Choice Freedom": 0.6774545454545454,
                    "Life Expectancy": 53.31136363636363,
                    "Life Ladder": 4.287545454545454,
                    "Log GDP per Capita": 7.543909090909091,
                    "Negative Affect": 0.3100909090909091,
                    "Political Stability": "Unstable",
                    "Positive Affect": 0.588,
                    "Social Support": 0.7258181818181818
                  },
                  {
                    "Corruption": 0.6946666666666667,
                    "Country": "Burundi",
                    "Generosity": -0.04566666666666667,
                    "Life Choice Freedom": 0.5223333333333333,
                    "Life Expectancy": 53.366666666666674,
                    "Life Ladder": 3.4619999999999997,
                    "Log GDP per Capita": 6.674666666666667,
                    "Negative Affect": 0.268,
                    "Political Stability": "Unstable",
                    "Positive Affect": 0.61,
                    "Social Support": 0.49066666666666664
                  },
                  {
                    "Corruption": 0.8393,
                    "Country": "Cambodia",
                    "Generosity": 0.1835,
                    "Life Choice Freedom": 0.95,
                    "Life Expectancy": 60.42999999999999,
                    "Life Ladder": 4.2341999999999995,
                    "Log GDP per Capita": 8.1533,
                    "Negative Affect": 0.3989,
                    "Political Stability": "Unstable",
                    "Positive Affect": 0.6952,
                    "Social Support": 0.7086
                  },
                  {
                    "Corruption": 0.8631818181818182,
                    "Country": "Cameroon",
                    "Generosity": -0.011181818181818183,
                    "Life Choice Freedom": 0.7670909090909092,
                    "Life Expectancy": 52.12045454545455,
                    "Life Ladder": 4.736454545454546,
                    "Log GDP per Capita": 8.174545454545454,
                    "Negative Affect": 0.31563636363636366,
                    "Political Stability": "Unstable",
                    "Positive Affect": 0.6196363636363637,
                    "Social Support": 0.7169090909090909
                  },
                  {
                    "Corruption": 0.416,
                    "Country": "Canada",
                    "Generosity": 0.2008181818181818,
                    "Life Choice Freedom": 0.9264545454545455,
                    "Life Expectancy": 71.08636363636364,
                    "Life Ladder": 7.342818181818182,
                    "Log GDP per Capita": 10.760727272727273,
                    "Negative Affect": 0.2567272727272727,
                    "Political Stability": "Stable",
                    "Positive Affect": 0.7829999999999999,
                    "Social Support": 0.9321818181818181
                  },
                  {
                    "Corruption": 0.857,
                    "Country": "Central African Republic",
                    "Generosity": 0.017499999999999998,
                    "Life Choice Freedom": 0.68475,
                    "Life Expectancy": 43.8475,
                    "Life Ladder": 3.35375,
                    "Log GDP per Capita": 6.882,
                    "Negative Affect": 0.40675,
                    "Political Stability": "Unstable",
                    "Positive Affect": 0.53325,
                    "Social Support": 0.37
                  },
                  {
                    "Corruption": 0.8477,
                    "Country": "Chad",
                    "Generosity": 0.00030000000000000024,
                    "Life Choice Freedom": 0.5464,
                    "Life Expectancy": 50.305,
                    "Life Ladder": 4.0785,
                    "Log GDP per Capita": 7.4423,
                    "Negative Affect": 0.3903,
                    "Political Stability": "Unstable",
                    "Positive Affect": 0.5427,
                    "Social Support": 0.6918
                  },
                  {
                    "Corruption": 0.7936363636363637,
                    "Country": "Chile",
                    "Generosity": 0.05863636363636364,
                    "Life Choice Freedom": 0.7391818181818182,
                    "Life Expectancy": 69.35909090909091,
                    "Life Ladder": 6.482363636363636,
                    "Log GDP per Capita": 10.075909090909091,
                    "Negative Affect": 0.302,
                    "Political Stability": "Unstable",
                    "Positive Affect": 0.763909090909091,
                    "Social Support": 0.859090909090909
                  },
                  {
                    "Corruption": 0.858909090909091,
                    "Country": "Colombia",
                    "Generosity": -0.09909090909090908,
                    "Life Choice Freedom": 0.8249090909090909,
                    "Life Expectancy": 68.23863636363636,
                    "Life Ladder": 6.284090909090909,
                    "Log GDP per Capita": 9.519454545454545,
                    "Negative Affect": 0.2953636363636364,
                    "Political Stability": "Unstable",
                    "Positive Affect": 0.794,
                    "Social Support": 0.8855454545454545
                  },
                  {
                    "Corruption": 0.736,
                    "Country": "Comoros",
                    "Generosity": -0.011600000000000004,
                    "Life Choice Freedom": 0.5322,
                    "Life Expectancy": 57.86900000000001,
                    "Life Ladder": 4.037599999999999,
                    "Log GDP per Capita": 8.0584,
                    "Negative Affect": 0.2472,
                    "Political Stability": "Unstable",
                    "Positive Affect": 0.651,
                    "Social Support": 0.683
                  },
                  {
                    "Corruption": 0.7794000000000001,
                    "Country": "Congo (Brazzaville)",
                    "Generosity": -0.10540000000000001,
                    "Life Choice Freedom": 0.7466,
                    "Life Expectancy": 55.00750000000001,
                    "Life Ladder": 4.5916,
                    "Log GDP per Capita": 8.398100000000001,
                    "Negative Affect": 0.3537,
                    "Political Stability": "Unstable",
                    "Positive Affect": 0.5757,
                    "Social Support": 0.638
                  },
                  {
                    "Corruption": 0.8485714285714286,
                    "Country": "Congo (Kinshasa)",
                    "Generosity": -0.004714285714285714,
                    "Life Choice Freedom": 0.5912857142857143,
                    "Life Expectancy": 51.86785714285714,
                    "Life Ladder": 4.400428571428572,
                    "Log GDP per Capita": 6.875714285714286,
                    "Negative Affect": 0.2652857142857143,
                    "Political Stability": "Unstable",
                    "Positive Affect": 0.5650000000000001,
                    "Social Support": 0.7809999999999999
                  },
                  {
                    "Corruption": 0.7879999999999999,
                    "Country": "Costa Rica",
                    "Generosity": -0.049090909090909095,
                    "Life Choice Freedom": 0.9122727272727272,
                    "Life Expectancy": 69.78181818181818,
                    "Life Ladder": 7.079,
                    "Log GDP per Capita": 9.84509090909091,
                    "Negative Affect": 0.28563636363636363,
                    "Political Stability": "Unstable",
                    "Positive Affect": 0.8043636363636364,
                    "Social Support": 0.8947272727272728
                  },
                  {
                    "Corruption": 0.9246363636363636,
                    "Country": "Croatia",
                    "Generosity": -0.12945454545454546,
                    "Life Choice Freedom": 0.6470909090909092,
                    "Life Expectancy": 67.97500000000001,
                    "Life Ladder": 5.628181818181818,
                    "Log GDP per Capita": 10.157727272727273,
                    "Negative Affect": 0.2878181818181818,
                    "Political Stability": "Stable",
                    "Positive Affect": 0.5664545454545454,
                    "Social Support": 0.8058181818181819
                  },
                  {
                    "Corruption": 0.8591818181818183,
                    "Country": "Cyprus",
                    "Generosity": 0.043,
                    "Life Choice Freedom": 0.7353636363636364,
                    "Life Expectancy": 71.65454545454546,
                    "Life Ladder": 6.0266363636363645,
                    "Log GDP per Capita": 10.522090909090908,
                    "Negative Affect": 0.33145454545454545,
                    "Political Stability": "Unstable",
                    "Positive Affect": 0.6676363636363637,
                    "Social Support": 0.7936363636363637
                  },
                  {
                    "Corruption": 0.9034000000000001,
                    "Country": "Czechia",
                    "Generosity": -0.1609,
                    "Life Choice Freedom": 0.8018000000000001,
                    "Life Expectancy": 68.25750000000001,
                    "Life Ladder": 6.616200000000001,
                    "Log GDP per Capita": 10.4886,
                    "Negative Affect": 0.2344,
                    "Political Stability": "Stable",
                    "Positive Affect": 0.6693,
                    "Social Support": 0.9162000000000001
                  },
                  {
                    "Corruption": 0.1918181818181818,
                    "Country": "Denmark",
                    "Generosity": 0.14272727272727273,
                    "Life Choice Freedom": 0.9412727272727271,
                    "Life Expectancy": 70.37045454545455,
                    "Life Ladder": 7.609,
                    "Log GDP per Capita": 10.885454545454545,
                    "Negative Affect": 0.20118181818181818,
                    "Political Stability": "Stable",
                    "Positive Affect": 0.7865454545454547,
                    "Social Support": 0.9580000000000001
                  },
                  {
                    "Corruption": 0.519,
                    "Country": "Djibouti",
                    "Generosity": -0.079,
                    "Life Choice Freedom": 0.746,
                    "Life Expectancy": 55.08,
                    "Life Ladder": 4.369,
                    "Log GDP per Capita": 8.15,
                    "Negative Affect": 0.181,
                    "Political Stability": "Unstable",
                    "Positive Affect": 0.543,
                    "Social Support": 0.633
                  },
                  {
                    "Corruption": 0.7457272727272727,
                    "Country": "Dominican Republic",
                    "Generosity": -0.07400000000000001,
                    "Life Choice Freedom": 0.8608181818181818,
                    "Life Expectancy": 63.8,
                    "Life Ladder": 5.2544545454545455,
                    "Log GDP per Capita": 9.617909090909091,
                    "Negative Affect": 0.29009090909090907,
                    "Political Stability": "Unstable",
                    "Positive Affect": 0.7298181818181818,
                    "Social Support": 0.8740000000000001
                  },
                  {
                    "Corruption": 0.7494545454545455,
                    "Country": "Ecuador",
                    "Generosity": -0.12390909090909091,
                    "Life Choice Freedom": 0.8087272727272729,
                    "Life Expectancy": 67.37727272727273,
                    "Life Ladder": 5.888090909090909,
                    "Log GDP per Capita": 9.338363636363637,
                    "Negative Affect": 0.3197272727272727,
                    "Political Stability": "Unstable",
                    "Positive Affect": 0.7951818181818182,
                    "Social Support": 0.8258181818181818
                  },
                  {
                    "Corruption": 0.8184285714285714,
                    "Country": "Egypt",
                    "Generosity": -0.12242857142857143,
                    "Life Choice Freedom": 0.5564285714285714,
                    "Life Expectancy": 61.90714285714286,
                    "Life Ladder": 4.401571428571429,
                    "Log GDP per Capita": 9.197000000000001,
                    "Negative Affect": 0.36442857142857144,
                    "Political Stability": "Unstable",
                    "Positive Affect": 0.4944285714285715,
                    "Social Support": 0.7274285714285715
                  },
                  {
                    "Corruption": 0.7441818181818182,
                    "Country": "El Salvador",
                    "Generosity": -0.1430909090909091,
                    "Life Choice Freedom": 0.777090909090909,
                    "Life Expectancy": 64.22272727272728,
                    "Life Ladder": 6.02290909090909,
                    "Log GDP per Capita": 9.013272727272728,
                    "Negative Affect": 0.3151818181818182,
                    "Political Stability": "Unstable",
                    "Positive Affect": 0.8046363636363636,
                    "Social Support": 0.7829999999999999
                  },
                  {
                    "Corruption": 0.6329,
                    "Country": "Estonia",
                    "Generosity": -0.14830000000000002,
                    "Life Choice Freedom": 0.8206,
                    "Life Expectancy": 68.3575,
                    "Life Ladder": 5.757,
                    "Log GDP per Capita": 10.3726,
                    "Negative Affect": 0.1833,
                    "Political Stability": "Stable",
                    "Positive Affect": 0.6815,
                    "Social Support": 0.9233
                  },
                  {
                    "Corruption": 0.7776666666666667,
                    "Country": "Eswatini",
                    "Generosity": -0.146,
                    "Life Choice Freedom": 0.638,
                    "Life Expectancy": 47.300000000000004,
                    "Life Ladder": 4.491666666666666,
                    "Log GDP per Capita": 8.993,
                    "Negative Affect": 0.261,
                    "Political Stability": "Stable",
                    "Positive Affect": 0.7403333333333334,
                    "Social Support": 0.7916666666666666
                  },
                  {
                    "Corruption": 0.72425,
                    "Country": "Ethiopia",
                    "Generosity": 0.0625,
                    "Life Choice Freedom": 0.741,
                    "Life Expectancy": 58.8025,
                    "Life Ladder": 4.378875,
                    "Log GDP per Capita": 7.544625,
                    "Negative Affect": 0.26475,
                    "Political Stability": "Unstable",
                    "Positive Affect": 0.58425,
                    "Social Support": 0.704
                  },
                  {
                    "Corruption": 0.2625454545454545,
                    "Country": "Finland",
                    "Generosity": -0.002727272727272727,
                    "Life Choice Freedom": 0.9375454545454546,
                    "Life Expectancy": 70.50227272727273,
                    "Life Ladder": 7.583636363636364,
                    "Log GDP per Capita": 10.747636363636362,
                    "Negative Affect": 0.19163636363636363,
                    "Political Stability": "Stable",
                    "Positive Affect": 0.747,
                    "Social Support": 0.9473636363636363
                  },
                  {
                    "Corruption": 0.6175454545454545,
                    "Country": "France",
                    "Generosity": -0.13036363636363635,
                    "Life Choice Freedom": 0.8344545454545454,
                    "Life Expectancy": 71.7,
                    "Life Ladder": 6.643454545454546,
                    "Log GDP per Capita": 10.680545454545454,
                    "Negative Affect": 0.246,
                    "Political Stability": "Stable",
                    "Positive Affect": 0.7191818181818181,
                    "Social Support": 0.9204545454545454
                  },
                  {
                    "Corruption": 0.8233,
                    "Country": "Gabon",
                    "Generosity": -0.1972,
                    "Life Choice Freedom": 0.6632,
                    "Life Expectancy": 56.3275,
                    "Life Ladder": 4.4804,
                    "Log GDP per Capita": 9.5799,
                    "Negative Affect": 0.36069999999999997,
                    "Political Stability": "Stable",
                    "Positive Affect": 0.5803,
                    "Social Support": 0.7543
                  },
                  {
                    "Corruption": 0.6869999999999999,
                    "Country": "Gambia",
                    "Generosity": 0.32366666666666666,
                    "Life Choice Freedom": 0.7360000000000001,
                    "Life Expectancy": 56.699999999999996,
                    "Life Ladder": 4.734666666666667,
                    "Log GDP per Capita": 7.604333333333334,
                    "Negative Affect": 0.35233333333333333,
                    "Political Stability": "Stable",
                    "Positive Affect": 0.749,
                    "Social Support": 0.6920000000000001
                  },
                  {
                    "Corruption": 0.5033636363636363,
                    "Country": "Georgia",
                    "Generosity": -0.2457272727272727,
                    "Life Choice Freedom": 0.7007272727272728,
                    "Life Expectancy": 64.23409090909091,
                    "Life Ladder": 4.444636363636364,
                    "Log GDP per Capita": 9.428818181818182,
                    "Negative Affect": 0.23572727272727273,
                    "Political Stability": "Stable",
                    "Positive Affect": 0.46954545454545454,
                    "Social Support": 0.5766363636363636
                  },
                  {
                    "Corruption": 0.5216363636363636,
                    "Country": "Germany",
                    "Generosity": 0.06954545454545454,
                    "Life Choice Freedom": 0.8793636363636363,
                    "Life Expectancy": 70.34545454545454,
                    "Life Ladder": 6.949727272727273,
                    "Log GDP per Capita": 10.841909090909091,
                    "Negative Affect": 0.19736363636363635,
                    "Political Stability": "Stable",
                    "Positive Affect": 0.7093636363636363,
                    "Social Support": 0.9196363636363636
                  },
                  {
                    "Corruption": 0.8712727272727272,
                    "Country": "Ghana",
                    "Generosity": 0.05,
                    "Life Choice Freedom": 0.7915454545454547,
                    "Life Expectancy": 56.41136363636363,
                    "Life Ladder": 4.851545454545454,
                    "Log GDP per Capita": 8.444818181818182,
                    "Negative Affect": 0.23881818181818185,
                    "Political Stability": "Stable",
                    "Positive Affect": 0.6806363636363636,
                    "Social Support": 0.6934545454545454
                  },
                  {
                    "Corruption": 0.8900909090909092,
                    "Country": "Greece",
                    "Generosity": -0.29118181818181815,
                    "Life Choice Freedom": 0.48863636363636365,
                    "Life Expectancy": 70.46136363636364,
                    "Life Ladder": 5.364272727272727,
                    "Log GDP per Capita": 10.274454545454546,
                    "Negative Affect": 0.3266363636363636,
                    "Political Stability": "Stable",
                    "Positive Affect": 0.5768181818181818,
                    "Social Support": 0.8096363636363637
                  },
                  {
                    "Corruption": 0.8071999999999999,
                    "Country": "Guatemala",
                    "Generosity": 0.0254,
                    "Life Choice Freedom": 0.8509,
                    "Life Expectancy": 61.279999999999994,
                    "Life Ladder": 6.2448,
                    "Log GDP per Capita": 8.9847,
                    "Negative Affect": 0.3025,
                    "Political Stability": "Stable",
                    "Positive Affect": 0.8150000000000001,
                    "Social Support": 0.8168
                  },
                  {
                    "Corruption": 0.7696,
                    "Country": "Guinea",
                    "Generosity": 0.0387,
                    "Life Choice Freedom": 0.697,
                    "Life Expectancy": 52.05499999999999,
                    "Life Ladder": 4.1985,
                    "Log GDP per Capita": 7.6991,
                    "Negative Affect": 0.35669999999999996,
                    "Political Stability": "Unstable",
                    "Positive Affect": 0.6715,
                    "Social Support": 0.625
                  },
                  {
                    "Corruption": 0.7341111111111112,
                    "Country": "Haiti",
                    "Generosity": 0.2587777777777778,
                    "Life Choice Freedom": 0.4626666666666666,
                    "Life Expectancy": 45.93333333333333,
                    "Life Ladder": 3.9884444444444447,
                    "Log GDP per Capita": 8.038111111111112,
                    "Negative Affect": 0.3174444444444445,
                    "Political Stability": "Unstable",
                    "Positive Affect": 0.5537777777777778,
                    "Social Support": 0.6005555555555556
                  },
                  {
                    "Corruption": 0.8320000000000001,
                    "Country": "Honduras",
                    "Generosity": 0.0392,
                    "Life Choice Freedom": 0.7523,
                    "Life Expectancy": 62.025,
                    "Life Ladder": 5.3549,
                    "Log GDP per Capita": 8.5519,
                    "Negative Affect": 0.2865,
                    "Political Stability": "Unstable",
                    "Positive Affect": 0.7913,
                    "Social Support": 0.7943
                  },
                  {
                    "Corruption": 0.9062727272727272,
                    "Country": "Hungary",
                    "Generosity": -0.16,
                    "Life Choice Freedom": 0.6288181818181818,
                    "Life Expectancy": 66.58636363636364,
                    "Life Ladder": 5.386636363636364,
                    "Log GDP per Capita": 10.229818181818182,
                    "Negative Affect": 0.24454545454545454,
                    "Political Stability": "Stable",
                    "Positive Affect": 0.6146363636363636,
                    "Social Support": 0.8986363636363636
                  },
                  {
                    "Corruption": 0.7001666666666666,
                    "Country": "Iceland",
                    "Generosity": 0.2505,
                    "Life Choice Freedom": 0.9346666666666666,
                    "Life Expectancy": 71.85000000000001,
                    "Life Ladder": 7.525166666666667,
                    "Log GDP per Capita": 10.861833333333335,
                    "Negative Affect": 0.16183333333333333,
                    "Political Stability": "Stable",
                    "Positive Affect": 0.8086666666666668,
                    "Social Support": 0.9768333333333333
                  },
                  {
                    "Corruption": 0.8112727272727273,
                    "Country": "India",
                    "Generosity": 0.035727272727272726,
                    "Life Choice Freedom": 0.8121818181818181,
                    "Life Expectancy": 59.01818181818182,
                    "Life Ladder": 4.277636363636364,
                    "Log GDP per Capita": 8.583363636363636,
                    "Negative Affect": 0.32736363636363636,
                    "Political Stability": "Stable",
                    "Positive Affect": 0.5982727272727273,
                    "Social Support": 0.5899090909090909
                  },
                  {
                    "Corruption": 0.9272727272727272,
                    "Country": "Indonesia",
                    "Generosity": 0.4596363636363636,
                    "Life Choice Freedom": 0.8109090909090909,
                    "Life Expectancy": 62.17045454545455,
                    "Life Ladder": 5.243545454545455,
                    "Log GDP per Capita": 9.215636363636364,
                    "Negative Affect": 0.2813636363636363,
                    "Political Stability": "Stable",
                    "Positive Affect": 0.766,
                    "Social Support": 0.8120909090909091
                  },
                  {
                    "Corruption": 0.6953333333333334,
                    "Country": "Iran",
                    "Generosity": 0.16899999999999998,
                    "Life Choice Freedom": 0.7116666666666667,
                    "Life Expectancy": 65.84111111111112,
                    "Life Ladder": 4.762111111111111,
                    "Log GDP per Capita": 9.587333333333333,
                    "Negative Affect": 0.48000000000000004,
                    "Political Stability": "Unstable",
                    "Positive Affect": 0.5422222222222222,
                    "Social Support": 0.6523333333333333
                  },
                  {
                    "Corruption": 0.8008888888888889,
                    "Country": "Iraq",
                    "Generosity": -0.033666666666666664,
                    "Life Choice Freedom": 0.5464444444444445,
                    "Life Expectancy": 61.40944444444444,
                    "Life Ladder": 4.670111111111111,
                    "Log GDP per Capita": 9.136000000000001,
                    "Negative Affect": 0.5285555555555556,
                    "Political Stability": "Unstable",
                    "Positive Affect": 0.4991111111111111,
                    "Social Support": 0.7366666666666667
                  },
                  {
                    "Corruption": 0.4528181818181818,
                    "Country": "Ireland",
                    "Generosity": 0.22036363636363634,
                    "Life Choice Freedom": 0.893,
                    "Life Expectancy": 70.67272727272727,
                    "Life Ladder": 7.017272727272727,
                    "Log GDP per Capita": 11.115636363636362,
                    "Negative Affect": 0.22118181818181817,
                    "Political Stability": "Stable",
                    "Positive Affect": 0.7525454545454546,
                    "Social Support": 0.9573636363636363
                  },
                  {
                    "Corruption": 0.8153636363636363,
                    "Country": "Israel",
                    "Generosity": 0.10372727272727272,
                    "Life Choice Freedom": 0.7357272727272727,
                    "Life Expectancy": 71.89545454545454,
                    "Life Ladder": 7.2407272727272725,
                    "Log GDP per Capita": 10.532545454545454,
                    "Negative Affect": 0.3028181818181818,
                    "Political Stability": "Unstable",
                    "Positive Affect": 0.6143636363636363,
                    "Social Support": 0.9055454545454545
                  },
                  {
                    "Corruption": 0.9005454545454546,
                    "Country": "Italy",
                    "Generosity": -0.05527272727272727,
                    "Life Choice Freedom": 0.628,
                    "Life Expectancy": 71.56590909090909,
                    "Life Ladder": 6.158,
                    "Log GDP per Capita": 10.626818181818182,
                    "Negative Affect": 0.33054545454545453,
                    "Political Stability": "Stable",
                    "Positive Affect": 0.6208181818181818,
                    "Social Support": 0.8968181818181818
                  },
                  {
                    "Corruption": 0.750125,
                    "Country": "Ivory Coast",
                    "Generosity": -0.047375,
                    "Life Choice Freedom": 0.755,
                    "Life Expectancy": 53.353125,
                    "Life Ladder": 4.6565,
                    "Log GDP per Capita": 8.431375,
                    "Negative Affect": 0.35375,
                    "Political Stability": "Stable",
                    "Positive Affect": 0.65125,
                    "Social Support": 0.6643749999999999
                  },
                  {
                    "Corruption": 0.8841666666666667,
                    "Country": "Jamaica",
                    "Generosity": -0.08816666666666667,
                    "Life Choice Freedom": 0.8358333333333334,
                    "Life Expectancy": 66.6,
                    "Life Ladder": 5.669666666666667,
                    "Log GDP per Capita": 9.188333333333334,
                    "Negative Affect": 0.2605,
                    "Political Stability": "Stable",
                    "Positive Affect": 0.7166666666666667,
                    "Social Support": 0.8758333333333334
                  },
                  {
                    "Corruption": 0.6695,
                    "Country": "Japan",
                    "Generosity": -0.1728,
                    "Life Choice Freedom": 0.8147,
                    "Life Expectancy": 73.64349999999999,
                    "Life Ladder": 5.9768,
                    "Log GDP per Capita": 10.5998,
                    "Negative Affect": 0.1842,
                    "Political Stability": "Stable",
                    "Positive Affect": 0.7006,
                    "Social Support": 0.8999
                  },
                  {
                    "Corruption": 0.7719090909090909,
                    "Country": "Kazakhstan",
                    "Generosity": -0.10972727272727273,
                    "Life Choice Freedom": 0.8105454545454546,
                    "Life Expectancy": 63.127272727272725,
                    "Life Ladder": 5.875272727272727,
                    "Log GDP per Capita": 10.084000000000001,
                    "Negative Affect": 0.161,
                    "Political Stability": "Stable",
                    "Positive Affect": 0.6551818181818182,
                    "Social Support": 0.9101818181818182
                  },
                  {
                    "Corruption": 0.861090909090909,
                    "Country": "Kenya",
                    "Generosity": 0.18336363636363637,
                    "Life Choice Freedom": 0.7486363636363635,
                    "Life Expectancy": 55.93636363636363,
                    "Life Ladder": 4.450909090909091,
                    "Log GDP per Capita": 8.33081818181818,
                    "Negative Affect": 0.2127272727272727,
                    "Political Stability": "Stable",
                    "Positive Affect": 0.7280909090909091,
                    "Social Support": 0.757
                  },
                  {
                    "Corruption": 0.486,
                    "Country": "Kuwait",
                    "Generosity": -0.037,
                    "Life Choice Freedom": 0.703,
                    "Life Expectancy": 69.2,
                    "Life Ladder": 6.798,
                    "Log GDP per Capita": 10.998,
                    "Negative Affect": 0.203,
                    "Political Stability": "Stable",
                    "Positive Affect": 0.687,
                    "Social Support": 0.893
                  },
                  {
                    "Corruption": 0.9017272727272728,
                    "Country": "Kyrgyzstan",
                    "Generosity": 0.06454545454545454,
                    "Life Choice Freedom": 0.8134545454545455,
                    "Life Expectancy": 63.84318181818182,
                    "Life Ladder": 5.309363636363636,
                    "Log GDP per Capita": 8.457818181818181,
                    "Negative Affect": 0.17300000000000001,
                    "Political Stability": "Stable",
                    "Positive Affect": 0.6151818181818182,
                    "Social Support": 0.8829090909090909
                  },
                  {
                    "Corruption": 0.6362,
                    "Country": "Laos",
                    "Generosity": 0.1728,
                    "Life Choice Freedom": 0.9002000000000001,
                    "Life Expectancy": 59.836,
                    "Life Ladder": 4.933400000000001,
                    "Log GDP per Capita": 8.854800000000001,
                    "Negative Affect": 0.313,
                    "Political Stability": "Stable",
                    "Positive Affect": 0.7202,
                    "Social Support": 0.6984
                  },
                  {
                    "Corruption": 0.8341000000000001,
                    "Country": "Latvia",
                    "Generosity": -0.10700000000000001,
                    "Life Choice Freedom": 0.6597,
                    "Life Expectancy": 65.65,
                    "Life Ladder": 5.679,
                    "Log GDP per Capita": 10.2005,
                    "Negative Affect": 0.2204,
                    "Political Stability": "Stable",
                    "Positive Affect": 0.58,
                    "Social Support": 0.8870000000000001
                  },
                  {
                    "Corruption": 0.9009090909090909,
                    "Country": "Lebanon",
                    "Generosity": -0.024909090909090912,
                    "Life Choice Freedom": 0.6120909090909091,
                    "Life Expectancy": 65.72045454545454,
                    "Life Ladder": 4.766454545454545,
                    "Log GDP per Capita": 9.770181818181818,
                    "Negative Affect": 0.33390909090909093,
                    "Political Stability": "Unstable",
                    "Positive Affect": 0.4506363636363636,
                    "Social Support": 0.7475454545454544
                  },
                  {
                    "Corruption": 0.80575,
                    "Country": "Lesotho",
                    "Generosity": -0.11324999999999999,
                    "Life Choice Freedom": 0.705,
                    "Life Expectancy": 42.7175,
                    "Life Ladder": 4.0032499999999995,
                    "Log GDP per Capita": 7.8427500000000006,
                    "Negative Affect": 0.24200000000000002,
                    "Political Stability": "Stable",
                    "Positive Affect": 0.713,
                    "Social Support": 0.79525
                  },
                  {
                    "Corruption": 0.8648571428571429,
                    "Country": "Liberia",
                    "Generosity": -0.003142857142857144,
                    "Life Choice Freedom": 0.7211428571428572,
                    "Life Expectancy": 53.28857142857142,
                    "Life Ladder": 4.072,
                    "Log GDP per Capita": 7.326428571428571,
                    "Negative Affect": 0.3961428571428572,
                    "Political Stability": "Stable",
                    "Positive Affect": 0.6058571428571428,
                    "Social Support": 0.7057142857142856
                  },
                  {
                    "Corruption": 0.6990000000000001,
                    "Country": "Libya",
                    "Generosity": -0.09699999999999999,
                    "Life Choice Freedom": 0.7585,
                    "Life Expectancy": 65.01625,
                    "Life Ladder": 5.55625,
                    "Log GDP per Capita": 10.1635,
                    "Negative Affect": 0.37375,
                    "Political Stability": "Unstable",
                    "Positive Affect": 0.635,
                    "Social Support": 0.8322499999999999
                  },
                  {
                    "Corruption": 0.9001818181818181,
                    "Country": "Lithuania",
                    "Generosity": -0.23109090909090912,
                    "Life Choice Freedom": 0.6326363636363636,
                    "Life Expectancy": 65.50454545454545,
                    "Life Ladder": 5.873181818181819,
                    "Log GDP per Capita": 10.334909090909091,
                    "Negative Affect": 0.2561818181818182,
                    "Political Stability": "Stable",
                    "Positive Affect": 0.5518181818181819,
                    "Social Support": 0.9205454545454544
                  },
                  {
                    "Corruption": 0.37170000000000003,
                    "Country": "Luxembourg",
                    "Generosity": 0.028800000000000003,
                    "Life Choice Freedom": 0.9046,
                    "Life Expectancy": 71.225,
                    "Life Ladder": 7.056100000000001,
                    "Log GDP per Capita": 11.6431,
                    "Negative Affect": 0.1981,
                    "Political Stability": "Stable",
                    "Positive Affect": 0.7165999999999999,
                    "Social Support": 0.9186
                  },
                  {
                    "Corruption": 0.8434444444444444,
                    "Country": "Madagascar",
                    "Generosity": -0.033888888888888885,
                    "Life Choice Freedom": 0.5364444444444445,
                    "Life Expectancy": 56.31111111111111,
                    "Life Ladder": 3.907666666666666,
                    "Log GDP per Capita": 7.328555555555555,
                    "Negative Affect": 0.25922222222222224,
                    "Political Stability": "Unstable",
                    "Positive Affect": 0.6457777777777778,
                    "Social Support": 0.6894444444444444
                  },
                  {
                    "Corruption": 0.8066666666666666,
                    "Country": "Malawi",
                    "Generosity": 0.04455555555555556,
                    "Life Choice Freedom": 0.7701111111111111,
                    "Life Expectancy": 54.333333333333336,
                    "Life Ladder": 3.865333333333333,
                    "Log GDP per Capita": 7.269222222222222,
                    "Negative Affect": 0.2876666666666667,
                    "Political Stability": "Stable",
                    "Positive Affect": 0.6146666666666667,
                    "Social Support": 0.5491111111111111
                  },
                  {
                    "Corruption": 0.8215555555555556,
                    "Country": "Malaysia",
                    "Generosity": 0.121,
                    "Life Choice Freedom": 0.8222222222222223,
                    "Life Expectancy": 65.63333333333334,
                    "Life Ladder": 5.790666666666667,
                    "Log GDP per Capita": 10.065888888888889,
                    "Negative Affect": 0.23111111111111113,
                    "Political Stability": "Stable",
                    "Positive Affect": 0.729,
                    "Social Support": 0.8211111111111111
                  },
                  {
                    "Corruption": 0.7996363636363636,
                    "Country": "Mali",
                    "Generosity": -0.05818181818181818,
                    "Life Choice Freedom": 0.7025454545454545,
                    "Life Expectancy": 53.08181818181818,
                    "Life Ladder": 4.309636363636364,
                    "Log GDP per Capita": 7.634090909090909,
                    "Negative Affect": 0.26281818181818184,
                    "Political Stability": "Unstable",
                    "Positive Affect": 0.6985454545454546,
                    "Social Support": 0.7686363636363637
                  },
                  {
                    "Corruption": 0.6684285714285715,
                    "Country": "Malta",
                    "Generosity": 0.2247142857142857,
                    "Life Choice Freedom": 0.9197142857142858,
                    "Life Expectancy": 71.38142857142857,
                    "Life Ladder": 6.590285714285714,
                    "Log GDP per Capita": 10.635857142857143,
                    "Negative Affect": 0.3467142857142857,
                    "Political Stability": "Stable",
                    "Positive Affect": 0.6345714285714286,
                    "Social Support": 0.9312857142857143
                  },
                  {
                    "Corruption": 0.7234,
                    "Country": "Mauritania",
                    "Generosity": -0.05689999999999999,
                    "Life Choice Freedom": 0.533,
                    "Life Expectancy": 58.675,
                    "Life Ladder": 4.4452,
                    "Log GDP per Capita": 8.532399999999999,
                    "Negative Affect": 0.2051,
                    "Political Stability": "Stable",
                    "Positive Affect": 0.7191,
                    "Social Support": 0.8003
                  },
                  {
                    "Corruption": 0.8288571428571428,
                    "Country": "Mauritius",
                    "Generosity": 0.05685714285714286,
                    "Life Choice Freedom": 0.858,
                    "Life Expectancy": 63.86071428571428,
                    "Life Ladder": 5.863857142857142,
                    "Log GDP per Capita": 9.956857142857144,
                    "Negative Affect": 0.1907142857142857,
                    "Political Stability": "Stable",
                    "Positive Affect": 0.7038571428571428,
                    "Social Support": 0.8637142857142858
                  },
                  {
                    "Corruption": 0.7257272727272728,
                    "Country": "Mexico",
                    "Generosity": -0.136,
                    "Life Choice Freedom": 0.8035454545454546,
                    "Life Expectancy": 65.60909090909091,
                    "Life Ladder": 6.688272727272727,
                    "Log GDP per Capita": 9.862727272727271,
                    "Negative Affect": 0.238,
                    "Political Stability": "Stable",
                    "Positive Affect": 0.7566363636363637,
                    "Social Support": 0.8137272727272727
                  },
                  {
                    "Corruption": 0.9362727272727273,
                    "Country": "Moldova",
                    "Generosity": -0.07790909090909091,
                    "Life Choice Freedom": 0.6619090909090909,
                    "Life Expectancy": 62.92727272727273,
                    "Life Ladder": 5.751727272727273,
                    "Log GDP per Capita": 9.265181818181818,
                    "Negative Affect": 0.2739090909090909,
                    "Political Stability": "Unstable",
                    "Positive Affect": 0.5784545454545454,
                    "Social Support": 0.8393636363636364
                  },
                  {
                    "Corruption": 0.8961818181818182,
                    "Country": "Mongolia",
                    "Generosity": 0.12054545454545455,
                    "Life Choice Freedom": 0.7059090909090909,
                    "Life Expectancy": 59.46363636363637,
                    "Life Ladder": 5.150272727272728,
                    "Log GDP per Capita": 9.263818181818182,
                    "Negative Affect": 0.1859090909090909,
                    "Political Stability": "Stable",
                    "Positive Affect": 0.5460909090909092,
                    "Social Support": 0.9301818181818181
                  },
                  {
                    "Corruption": 0.7777272727272727,
                    "Country": "Montenegro",
                    "Generosity": -0.10445454545454545,
                    "Life Choice Freedom": 0.5877272727272728,
                    "Life Expectancy": 66.62727272727273,
                    "Life Ladder": 5.3687272727272735,
                    "Log GDP per Capita": 9.820727272727272,
                    "Negative Affect": 0.36563636363636365,
                    "Political Stability": "Unstable",
                    "Positive Affect": 0.5212727272727272,
                    "Social Support": 0.8170909090909091
                  },
                  {
                    "Corruption": 0.8104444444444444,
                    "Country": "Morocco",
                    "Generosity": -0.227,
                    "Life Choice Freedom": 0.7334444444444445,
                    "Life Expectancy": 63.306666666666665,
                    "Life Ladder": 5.0905555555555555,
                    "Log GDP per Capita": 8.888444444444444,
                    "Negative Affect": 0.2865555555555555,
                    "Political Stability": "Stable",
                    "Positive Affect": 0.6053333333333334,
                    "Social Support": 0.6277777777777778
                  },
                  {
                    "Corruption": 0.6812,
                    "Country": "Mozambique",
                    "Generosity": 0.0294,
                    "Life Choice Freedom": 0.8084,
                    "Life Expectancy": 49.074,
                    "Life Ladder": 4.6774000000000004,
                    "Log GDP per Capita": 7.1256,
                    "Negative Affect": 0.34340000000000004,
                    "Political Stability": "Unstable",
                    "Positive Affect": 0.595,
                    "Social Support": 0.7283999999999999
                  },
                  {
                    "Corruption": 0.64,
                    "Country": "Myanmar",
                    "Generosity": 0.623,
                    "Life Choice Freedom": 0.8374444444444444,
                    "Life Expectancy": 59.821666666666665,
                    "Life Ladder": 4.408666666666666,
                    "Log GDP per Capita": 8.304333333333334,
                    "Negative Affect": 0.25166666666666665,
                    "Political Stability": "Unstable",
                    "Positive Affect": 0.6618888888888889,
                    "Social Support": 0.7573333333333333
                  },
                  {
                    "Corruption": 0.8311999999999999,
                    "Country": "Namibia",
                    "Generosity": -0.1688,
                    "Life Choice Freedom": 0.7636000000000001,
                    "Life Expectancy": 55.58200000000001,
                    "Life Ladder": 4.547199999999999,
                    "Log GDP per Capita": 9.213,
                    "Negative Affect": 0.252,
                    "Political Stability": "Stable",
                    "Positive Affect": 0.6824,
                    "Social Support": 0.8082
                  },
                  {
                    "Corruption": 0.8294545454545456,
                    "Country": "Nepal",
                    "Generosity": 0.11572727272727272,
                    "Life Choice Freedom": 0.7177272727272727,
                    "Life Expectancy": 60.49318181818182,
                    "Life Ladder": 4.814727272727273,
                    "Log GDP per Capita": 8.082181818181818,
                    "Negative Affect": 0.3104545454545455,
                    "Political Stability": "Stable",
                    "Positive Affect": 0.4913636363636364,
                    "Social Support": 0.7734545454545454
                  },
                  {
                    "Corruption": 0.3976363636363636,
                    "Country": "Netherlands",
                    "Generosity": 0.25827272727272726,
                    "Life Choice Freedom": 0.9112727272727273,
                    "Life Expectancy": 71.14772727272727,
                    "Life Ladder": 7.452818181818182,
                    "Log GDP per Capita": 10.888454545454545,
                    "Negative Affect": 0.214,
                    "Political Stability": "Stable",
                    "Positive Affect": 0.7439999999999999,
                    "Social Support": 0.9303636363636364
                  },
                  {
                    "Corruption": 0.26127272727272727,
                    "Country": "New Zealand",
                    "Generosity": 0.24036363636363636,
                    "Life Choice Freedom": 0.9291818181818182,
                    "Life Expectancy": 69.97500000000001,
                    "Life Ladder": 7.277636363636364,
                    "Log GDP per Capita": 10.611181818181818,
                    "Negative Affect": 0.19172727272727272,
                    "Political Stability": "Stable",
                    "Positive Affect": 0.7835454545454545,
                    "Social Support": 0.9530909090909091
                  },
                  {
                    "Corruption": 0.6944545454545454,
                    "Country": "Nicaragua",
                    "Generosity": 0.03154545454545454,
                    "Life Choice Freedom": 0.822090909090909,
                    "Life Expectancy": 65.1659090909091,
                    "Life Ladder": 5.927272727272728,
                    "Log GDP per Capita": 8.574727272727273,
                    "Negative Affect": 0.3210909090909091,
                    "Political Stability": "Stable",
                    "Positive Affect": 0.7726363636363637,
                    "Social Support": 0.8514545454545455
                  },
                  {
                    "Corruption": 0.6832,
                    "Country": "Niger",
                    "Generosity": -0.0316,
                    "Life Choice Freedom": 0.758,
                    "Life Expectancy": 53.79,
                    "Life Ladder": 4.3042,
                    "Log GDP per Capita": 7.015300000000001,
                    "Negative Affect": 0.2624,
                    "Political Stability": "Unstable",
                    "Positive Affect": 0.6838,
                    "Social Support": 0.6889000000000001
                  },
                  {
                    "Corruption": 0.8926666666666667,
                    "Country": "Nigeria",
                    "Generosity": 0.046000000000000006,
                    "Life Choice Freedom": 0.7102222222222223,
                    "Life Expectancy": 53.28611111111111,
                    "Life Ladder": 5.063,
                    "Log GDP per Capita": 8.53711111111111,
                    "Negative Affect": 0.24722222222222223,
                    "Political Stability": "Unstable",
                    "Positive Affect": 0.7257777777777777,
                    "Social Support": 0.7633333333333333
                  },
                  {
                    "Corruption": 0.8748181818181817,
                    "Country": "North Macedonia",
                    "Generosity": -0.011636363636363637,
                    "Life Choice Freedom": 0.6721818181818182,
                    "Life Expectancy": 65.46363636363637,
                    "Life Ladder": 4.997545454545454,
                    "Log GDP per Capita": 9.612727272727271,
                    "Negative Affect": 0.3267272727272727,
                    "Political Stability": "Unstable",
                    "Positive Affect": 0.5259090909090909,
                    "Social Support": 0.795
                  },
                  {
                    "Corruption": 0.31775,
                    "Country": "Norway",
                    "Generosity": 0.148375,
                    "Life Choice Freedom": 0.954625,
                    "Life Expectancy": 71.19375,
                    "Life Ladder": 7.5095,
                    "Log GDP per Capita": 11.0565,
                    "Negative Affect": 0.206375,
                    "Political Stability": "Stable",
                    "Positive Affect": 0.7937500000000001,
                    "Social Support": 0.9512499999999999
                  },
                  {
                    "Corruption": 0.7865454545454544,
                    "Country": "Pakistan",
                    "Generosity": 0.09945454545454546,
                    "Life Choice Freedom": 0.5688181818181818,
                    "Life Expectancy": 55.820454545454545,
                    "Life Ladder": 5.227363636363636,
                    "Log GDP per Capita": 8.426454545454545,
                    "Negative Affect": 0.34336363636363637,
                    "Political Stability": "Unstable",
                    "Positive Affect": 0.4862727272727273,
                    "Social Support": 0.5960909090909091
                  },
                  {
                    "Corruption": 0.8371000000000001,
                    "Country": "Panama",
                    "Generosity": -0.0632,
                    "Life Choice Freedom": 0.8446999999999999,
                    "Life Expectancy": 68.16,
                    "Life Ladder": 6.658499999999999,
                    "Log GDP per Capita": 10.2162,
                    "Negative Affect": 0.223,
                    "Political Stability": "Stable",
                    "Positive Affect": 0.8257999999999999,
                    "Social Support": 0.8936999999999999
                  },
                  {
                    "Corruption": 0.8115,
                    "Country": "Paraguay",
                    "Generosity": 0.044,
                    "Life Choice Freedom": 0.8099999999999999,
                    "Life Expectancy": 65.53999999999999,
                    "Life Ladder": 5.662100000000001,
                    "Log GDP per Capita": 9.435500000000001,
                    "Negative Affect": 0.22110000000000002,
                    "Political Stability": "Stable",
                    "Positive Affect": 0.829,
                    "Social Support": 0.9141999999999999
                  },
                  {
                    "Corruption": 0.8779090909090909,
                    "Country": "Peru",
                    "Generosity": -0.11545454545454546,
                    "Life Choice Freedom": 0.7789090909090909,
                    "Life Expectancy": 68.68409090909091,
                    "Life Ladder": 5.694636363636364,
                    "Log GDP per Capita": 9.362363636363638,
                    "Negative Affect": 0.374,
                    "Political Stability": "Stable",
                    "Positive Affect": 0.7537272727272728,
                    "Social Support": 0.7983636363636364
                  },
                  {
                    "Corruption": 0.7622727272727272,
                    "Country": "Philippines",
                    "Generosity": -0.03809090909090909,
                    "Life Choice Freedom": 0.9095454545454547,
                    "Life Expectancy": 61.85227272727273,
                    "Life Ladder": 5.365181818181818,
                    "Log GDP per Capita": 8.876454545454546,
                    "Negative Affect": 0.33745454545454545,
                    "Political Stability": "Unstable",
                    "Positive Affect": 0.791,
                    "Social Support": 0.824
                  },
                  {
                    "Corruption": 0.8195454545454546,
                    "Country": "Poland",
                    "Generosity": -0.10245454545454545,
                    "Life Choice Freedom": 0.8309090909090909,
                    "Life Expectancy": 67.99318181818181,
                    "Life Ladder": 5.978818181818181,
                    "Log GDP per Capita": 10.238181818181818,
                    "Negative Affect": 0.23,
                    "Political Stability": "Stable",
                    "Positive Affect": 0.6533636363636364,
                    "Social Support": 0.9107272727272728
                  },
                  {
                    "Corruption": 0.9238181818181818,
                    "Country": "Portugal",
                    "Generosity": -0.17827272727272725,
                    "Life Choice Freedom": 0.8381818181818183,
                    "Life Expectancy": 70.34318181818182,
                    "Life Ladder": 5.419636363636363,
                    "Log GDP per Capita": 10.369,
                    "Negative Affect": 0.32836363636363636,
                    "Political Stability": "Stable",
                    "Positive Affect": 0.6492727272727273,
                    "Social Support": 0.874909090909091
                  },
                  {
                    "Corruption": 0.9488181818181818,
                    "Country": "Romania",
                    "Generosity": -0.14754545454545454,
                    "Life Choice Freedom": 0.753,
                    "Life Expectancy": 66.22500000000001,
                    "Life Ladder": 5.71,
                    "Log GDP per Capita": 10.108909090909092,
                    "Negative Affect": 0.29454545454545455,
                    "Political Stability": "Stable",
                    "Positive Affect": 0.5867272727272727,
                    "Social Support": 0.7862727272727273
                  },
                  {
                    "Corruption": 0.8953636363636364,
                    "Country": "Russia",
                    "Generosity": -0.20863636363636362,
                    "Life Choice Freedom": 0.6855454545454546,
                    "Life Expectancy": 62.61136363636364,
                    "Life Ladder": 5.622636363636364,
                    "Log GDP per Capita": 10.160636363636364,
                    "Negative Affect": 0.17245454545454544,
                    "Political Stability": "Unstable",
                    "Positive Affect": 0.6016363636363636,
                    "Social Support": 0.9039090909090909
                  },
                  {
                    "Corruption": 0.13744444444444445,
                    "Country": "Rwanda",
                    "Generosity": 0.013777777777777778,
                    "Life Choice Freedom": 0.886888888888889,
                    "Life Expectancy": 58.59444444444445,
                    "Life Ladder": 3.4716666666666667,
                    "Log GDP per Capita": 7.509444444444444,
                    "Negative Affect": 0.24022222222222223,
                    "Political Stability": "Unstable",
                    "Positive Affect": 0.7023333333333333,
                    "Social Support": 0.63
                  },
                  {
                    "Corruption": 0.8136363636363636,
                    "Country": "Senegal",
                    "Generosity": -0.07145454545454545,
                    "Life Choice Freedom": 0.7045454545454546,
                    "Life Expectancy": 58.2,
                    "Life Ladder": 4.438818181818181,
                    "Log GDP per Capita": 8.025454545454545,
                    "Negative Affect": 0.22272727272727275,
                    "Political Stability": "Stable",
                    "Positive Affect": 0.7298181818181818,
                    "Social Support": 0.7349999999999999
                  },
                  {
                    "Corruption": 0.8922727272727272,
                    "Country": "Serbia",
                    "Generosity": -0.06845454545454545,
                    "Life Choice Freedom": 0.600909090909091,
                    "Life Expectancy": 66.37954545454546,
                    "Life Ladder": 5.368909090909091,
                    "Log GDP per Capita": 9.685,
                    "Negative Affect": 0.3407272727272727,
                    "Political Stability": "Stable",
                    "Positive Affect": 0.4870909090909091,
                    "Social Support": 0.8301818181818181
                  },
                  {
                    "Corruption": 0.8525555555555555,
                    "Country": "Sierra Leone",
                    "Generosity": 0.04288888888888889,
                    "Life Choice Freedom": 0.7052222222222222,
                    "Life Expectancy": 50.08222222222222,
                    "Life Ladder": 4.348333333333333,
                    "Log GDP per Capita": 7.389777777777777,
                    "Negative Affect": 0.4017777777777778,
                    "Political Stability": "Unstable",
                    "Positive Affect": 0.5618888888888889,
                    "Social Support": 0.7057777777777778
                  },
                  {
                    "Corruption": 0.11211111111111112,
                    "Country": "Singapore",
                    "Generosity": 0.049666666666666665,
                    "Life Choice Freedom": 0.8778888888888888,
                    "Life Expectancy": 73.07111111111111,
                    "Life Ladder": 6.496777777777778,
                    "Log GDP per Capita": 11.398,
                    "Negative Affect": 0.14222222222222222,
                    "Political Stability": "Stable",
                    "Positive Affect": 0.6671111111111112,
                    "Social Support": 0.8793333333333333
                  },
                  {
                    "Corruption": 0.9138181818181818,
                    "Country": "Slovakia",
                    "Generosity": -0.08490909090909092,
                    "Life Choice Freedom": 0.6825454545454546,
                    "Life Expectancy": 67.60681818181818,
                    "Life Ladder": 6.1365454545454545,
                    "Log GDP per Capita": 10.257727272727273,
                    "Negative Affect": 0.2639090909090909,
                    "Political Stability": "Stable",
                    "Positive Affect": 0.6433636363636364,
                    "Social Support": 0.9278181818181818
                  },
                  {
                    "Corruption": 0.8578181818181818,
                    "Country": "Slovenia",
                    "Generosity": -0.03145454545454545,
                    "Life Choice Freedom": 0.9137272727272727,
                    "Life Expectancy": 70.02045454545454,
                    "Life Ladder": 6.096,
                    "Log GDP per Capita": 10.458727272727272,
                    "Negative Affect": 0.2786363636363636,
                    "Political Stability": "Stable",
                    "Positive Affect": 0.6015454545454545,
                    "Social Support": 0.9289999999999999
                  },
                  {
                    "Corruption": 0.43566666666666665,
                    "Country": "Somalia",
                    "Generosity": 0.039,
                    "Life Choice Freedom": 0.9196666666666666,
                    "Life Expectancy": 48.086666666666666,
                    "Life Ladder": 5.183333333333334,
                    "Log GDP per Capita": 6.916,
                    "Negative Affect": 0.19566666666666666,
                    "Political Stability": "Unstable",
                    "Positive Affect": 0.742,
                    "Social Support": 0.6013333333333333
                  },
                  {
                    "Corruption": 0.8338181818181819,
                    "Country": "South Africa",
                    "Generosity": -0.12236363636363637,
                    "Life Choice Freedom": 0.7584545454545455,
                    "Life Expectancy": 53.58863636363637,
                    "Life Ladder": 4.749363636363636,
                    "Log GDP per Capita": 9.529454545454545,
                    "Negative Affect": 0.2288181818181818,
                    "Political Stability": "Unstable",
                    "Positive Affect": 0.7265454545454545,
                    "Social Support": 0.875
                  },
                  {
                    "Corruption": 0.7979,
                    "Country": "South Korea",
                    "Generosity": -0.0462,
                    "Life Choice Freedom": 0.6386000000000001,
                    "Life Expectancy": 72.1485,
                    "Life Ladder": 5.9984,
                    "Log GDP per Capita": 10.5725,
                    "Negative Affect": 0.2182,
                    "Political Stability": "Stable",
                    "Positive Affect": 0.5789,
                    "Social Support": 0.7935000000000001
                  },
                  {
                    "Corruption": 0.8153636363636363,
                    "Country": "Spain",
                    "Generosity": -0.08081818181818182,
                    "Life Choice Freedom": 0.7641818181818182,
                    "Life Expectancy": 71.60681818181818,
                    "Life Ladder": 6.364090909090908,
                    "Log GDP per Capita": 10.533545454545454,
                    "Negative Affect": 0.32990909090909093,
                    "Political Stability": "Stable",
                    "Positive Affect": 0.6528181818181819,
                    "Social Support": 0.9366363636363637
                  },
                  {
                    "Corruption": 0.8175000000000001,
                    "Country": "Sri Lanka",
                    "Generosity": 0.15940000000000001,
                    "Life Choice Freedom": 0.8278000000000001,
                    "Life Expectancy": 66.02000000000001,
                    "Life Ladder": 4.3385,
                    "Log GDP per Capita": 9.3905,
                    "Negative Affect": 0.23369999999999996,
                    "Political Stability": "Stable",
                    "Positive Affect": 0.7558,
                    "Social Support": 0.827
                  },
                  {
                    "Corruption": 0.752,
                    "Country": "State of Palestine",
                    "Generosity": -0.118,
                    "Life Choice Freedom": 0.504,
                    "Life Expectancy": 62.25,
                    "Life Ladder": 4.703,
                    "Log GDP per Capita": 8.363,
                    "Negative Affect": 0.381,
                    "Political Stability": "Unstable",
                    "Positive Affect": 0.553,
                    "Social Support": 0.822
                  },
                  {
                    "Corruption": 0.732,
                    "Country": "Sudan",
                    "Generosity": -0.0665,
                    "Life Choice Freedom": 0.50825,
                    "Life Expectancy": 58.12,
                    "Life Ladder": 4.3595,
                    "Log GDP per Capita": 8.48025,
                    "Negative Affect": 0.25375000000000003,
                    "Political Stability": "Unstable",
                    "Positive Affect": 0.52325,
                    "Social Support": 0.8242499999999999
                  },
                  {
                    "Corruption": 0.751,
                    "Country": "Suriname",
                    "Generosity": -0.086,
                    "Life Choice Freedom": 0.885,
                    "Life Expectancy": 62.84,
                    "Life Ladder": 6.269,
                    "Log GDP per Capita": 9.874,
                    "Negative Affect": 0.25,
                    "Political Stability": "Stable",
                    "Positive Affect": 0.73,
                    "Social Support": 0.797
                  },
                  {
                    "Corruption": 0.253,
                    "Country": "Sweden",
                    "Generosity": 0.14018181818181819,
                    "Life Choice Freedom": 0.9358181818181819,
                    "Life Expectancy": 71.51590909090909,
                    "Life Ladder": 7.376636363636364,
                    "Log GDP per Capita": 10.825636363636363,
                    "Negative Affect": 0.19027272727272726,
                    "Political Stability": "Stable",
                    "Positive Affect": 0.7667272727272728,
                    "Social Support": 0.9295454545454546
                  },
                  {
                    "Corruption": 0.288625,
                    "Country": "Switzerland",
                    "Generosity": 0.074125,
                    "Life Choice Freedom": 0.929625,
                    "Life Expectancy": 72.045,
                    "Life Ladder": 7.560625,
                    "Log GDP per Capita": 11.139125,
                    "Negative Affect": 0.186125,
                    "Political Stability": "Stable",
                    "Positive Affect": 0.762,
                    "Social Support": 0.943375
                  },
                  {
                    "Corruption": 0.701,
                    "Country": "Syria",
                    "Generosity": 0.1412,
                    "Life Choice Freedom": 0.5094000000000001,
                    "Life Expectancy": 61.227999999999994,
                    "Life Ladder": 3.5634,
                    "Log GDP per Capita": 8.5914,
                    "Negative Affect": 0.5382,
                    "Political Stability": "Unstable",
                    "Positive Affect": 0.4356,
                    "Social Support": 0.6294
                  },
                  {
                    "Corruption": 0.821,
                    "Country": "Taiwan Province of China",
                    "Generosity": 0.001,
                    "Life Choice Freedom": 0.677,
                    "Life Expectancy": 69.6,
                    "Life Ladder": 6.229,
                    "Log GDP per Capita": 10.681,
                    "Negative Affect": 0.136,
                    "Political Stability": "Stable",
                    "Positive Affect": 0.738,
                    "Social Support": 0.831
                  },
                  {
                    "Corruption": 0.70275,
                    "Country": "Tajikistan",
                    "Generosity": 0.0061249999999999985,
                    "Life Choice Freedom": 0.779625,
                    "Life Expectancy": 61.26875,
                    "Life Ladder": 4.882625,
                    "Log GDP per Capita": 7.929375,
                    "Negative Affect": 0.202,
                    "Political Stability": "Unstable",
                    "Positive Affect": 0.5756249999999999,
                    "Social Support": 0.76425
                  },
                  {
                    "Corruption": 0.757,
                    "Country": "Tanzania",
                    "Generosity": 0.133,
                    "Life Choice Freedom": 0.7308181818181818,
                    "Life Expectancy": 56.41363636363636,
                    "Life Ladder": 3.5842727272727273,
                    "Log GDP per Capita": 7.738272727272727,
                    "Negative Affect": 0.21327272727272728,
                    "Political Stability": "Stable",
                    "Positive Affect": 0.6721818181818182,
                    "Social Support": 0.7595454545454546
                  },
                  {
                    "Corruption": 0.9065454545454545,
                    "Country": "Thailand",
                    "Generosity": 0.3663636363636364,
                    "Life Choice Freedom": 0.8809090909090909,
                    "Life Expectancy": 67.85681818181818,
                    "Life Ladder": 6.23009090909091,
                    "Log GDP per Capita": 9.679,
                    "Negative Affect": 0.19118181818181815,
                    "Political Stability": "Stable",
                    "Positive Affect": 0.7958181818181818,
                    "Social Support": 0.8946363636363638
                  },
                  {
                    "Corruption": 0.7781428571428571,
                    "Country": "Togo",
                    "Generosity": -0.051,
                    "Life Choice Freedom": 0.6707142857142857,
                    "Life Expectancy": 54.6,
                    "Life Ladder": 3.712142857142857,
                    "Log GDP per Capita": 7.551714285714286,
                    "Negative Affect": 0.4361428571428571,
                    "Political Stability": "Stable",
                    "Positive Affect": 0.5778571428571428,
                    "Social Support": 0.4825714285714286
                  },
                  {
                    "Corruption": 0.9196666666666666,
                    "Country": "Trinidad and Tobago",
                    "Generosity": 0.071,
                    "Life Choice Freedom": 0.827,
                    "Life Expectancy": 64.60666666666667,
                    "Life Ladder": 6.293,
                    "Log GDP per Capita": 10.224333333333332,
                    "Negative Affect": 0.22266666666666665,
                    "Political Stability": "Stable",
                    "Positive Affect": 0.7846666666666667,
                    "Social Support": 0.8873333333333333
                  },
                  {
                    "Corruption": 0.8467272727272728,
                    "Country": "Tunisia",
                    "Generosity": -0.20109090909090907,
                    "Life Choice Freedom": 0.6090909090909091,
                    "Life Expectancy": 66.6590909090909,
                    "Life Ladder": 4.731363636363636,
                    "Log GDP per Capita": 9.271090909090908,
                    "Negative Affect": 0.336,
                    "Political Stability": "Unstable",
                    "Positive Affect": 0.4987272727272727,
                    "Social Support": 0.6918181818181818
                  },
                  {
                    "Corruption": 0.7458181818181818,
                    "Country": "Turkiye",
                    "Generosity": -0.15218181818181817,
                    "Life Choice Freedom": 0.5666363636363637,
                    "Life Expectancy": 67.72045454545454,
                    "Life Ladder": 5.264181818181818,
                    "Log GDP per Capita": 10.125363636363637,
                    "Negative Affect": 0.3686363636363636,
                    "Political Stability": "Unstable",
                    "Positive Affect": 0.4333636363636364,
                    "Social Support": 0.8170000000000001
                  },
                  {
                    "Corruption": 0.8455454545454546,
                    "Country": "Uganda",
                    "Generosity": 0.07400000000000001,
                    "Life Choice Freedom": 0.7426363636363637,
                    "Life Expectancy": 55.80227272727273,
                    "Life Ladder": 4.290090909090909,
                    "Log GDP per Capita": 7.645454545454545,
                    "Negative Affect": 0.3523636363636364,
                    "Political Stability": "Unstable",
                    "Positive Affect": 0.6682727272727272,
                    "Social Support": 0.8074545454545454
                  },
                  {
                    "Corruption": 0.9273636363636364,
                    "Country": "Ukraine",
                    "Generosity": -0.07909090909090909,
                    "Life Choice Freedom": 0.584,
                    "Life Expectancy": 63.53409090909091,
                    "Life Ladder": 4.64709090909091,
                    "Log GDP per Capita": 9.419272727272727,
                    "Negative Affect": 0.2289090909090909,
                    "Political Stability": "Unstable",
                    "Positive Affect": 0.5429090909090909,
                    "Social Support": 0.8850909090909092
                  },
                  {
                    "Corruption": 0.355,
                    "Country": "United Arab Emirates",
                    "Generosity": 0.053,
                    "Life Choice Freedom": 0.878,
                    "Life Expectancy": 65.1,
                    "Life Ladder": 7.097,
                    "Log GDP per Capita": 10.909,
                    "Negative Affect": 0.233,
                    "Political Stability": "Stable",
                    "Positive Affect": 0.701,
                    "Social Support": 0.912
                  },
                  {
                    "Corruption": 0.474,
                    "Country": "United Kingdom",
                    "Generosity": 0.30009090909090913,
                    "Life Choice Freedom": 0.8578181818181818,
                    "Life Expectancy": 69.75454545454545,
                    "Life Ladder": 6.916818181818181,
                    "Log GDP per Capita": 10.69909090909091,
                    "Negative Affect": 0.21818181818181817,
                    "Political Stability": "Stable",
                    "Positive Affect": 0.7335454545454545,
                    "Social Support": 0.9375454545454546
                  },
                  {
                    "Corruption": 0.7053636363636363,
                    "Country": "United States",
                    "Generosity": 0.17454545454545453,
                    "Life Choice Freedom": 0.8325454545454545,
                    "Life Expectancy": 66.45681818181818,
                    "Life Ladder": 7.02,
                    "Log GDP per Capita": 10.971,
                    "Negative Affect": 0.26754545454545453,
                    "Political Stability": "Stable",
                    "Positive Affect": 0.7577272727272728,
                    "Social Support": 0.9143636363636364
                  },
                  {
                    "Corruption": 0.5918181818181818,
                    "Country": "Uruguay",
                    "Generosity": -0.07845454545454546,
                    "Life Choice Freedom": 0.8849090909090909,
                    "Life Expectancy": 67.39090909090909,
                    "Life Ladder": 6.408,
                    "Log GDP per Capita": 9.995090909090909,
                    "Negative Affect": 0.2569090909090909,
                    "Political Stability": "Stable",
                    "Positive Affect": 0.7465454545454545,
                    "Social Support": 0.904
                  },
                  {
                    "Corruption": 0.5071111111111111,
                    "Country": "Uzbekistan",
                    "Generosity": 0.14366666666666666,
                    "Life Choice Freedom": 0.953888888888889,
                    "Life Expectancy": 63.699999999999996,
                    "Life Ladder": 6.037888888888889,
                    "Log GDP per Capita": 8.755555555555555,
                    "Negative Affect": 0.16566666666666668,
                    "Political Stability": "Unstable",
                    "Positive Affect": 0.7122222222222222,
                    "Social Support": 0.9297777777777778
                  },
                  {
                    "Corruption": 0.8147,
                    "Country": "Venezuela",
                    "Generosity": -0.0896,
                    "Life Choice Freedom": 0.6393,
                    "Life Expectancy": 64.985,
                    "Life Ladder": 5.8582,
                    "Log GDP per Capita": 8.217600000000001,
                    "Negative Affect": 0.269,
                    "Political Stability": "Unstable",
                    "Positive Affect": 0.7786,
                    "Social Support": 0.9079
                  },
                  {
                    "Corruption": 0.782125,
                    "Country": "Vietnam",
                    "Generosity": -0.04525,
                    "Life Choice Freedom": 0.890625,
                    "Life Expectancy": 64.9225,
                    "Life Ladder": 5.3635,
                    "Log GDP per Capita": 9.001,
                    "Negative Affect": 0.210125,
                    "Political Stability": "Stable",
                    "Positive Affect": 0.60725,
                    "Social Support": 0.8175
                  },
                  {
                    "Corruption": 0.82375,
                    "Country": "Yemen",
                    "Generosity": -0.142875,
                    "Life Choice Freedom": 0.628,
                    "Life Expectancy": 58.278125,
                    "Life Ladder": 3.822625,
                    "Log GDP per Capita": 7.9807500000000005,
                    "Negative Affect": 0.280875,
                    "Political Stability": "Unstable",
                    "Positive Affect": 0.46199999999999997,
                    "Social Support": 0.7165
                  },
                  {
                    "Corruption": 0.8064,
                    "Country": "Zambia",
                    "Generosity": 0.030000000000000006,
                    "Life Choice Freedom": 0.7779,
                    "Life Expectancy": 52.677499999999995,
                    "Life Ladder": 4.4912,
                    "Log GDP per Capita": 8.1089,
                    "Negative Affect": 0.33199999999999996,
                    "Political Stability": "Unstable",
                    "Positive Affect": 0.681,
                    "Social Support": 0.7436
                  },
                  {
                    "Corruption": 0.8106363636363636,
                    "Country": "Zimbabwe",
                    "Generosity": -0.06763636363636363,
                    "Life Choice Freedom": 0.6524545454545454,
                    "Life Expectancy": 50.21136363636364,
                    "Life Ladder": 3.991181818181818,
                    "Log GDP per Capita": 7.6975454545454545,
                    "Negative Affect": 0.21236363636363634,
                    "Political Stability": "Unstable",
                    "Positive Affect": 0.6664545454545455,
                    "Social Support": 0.7901818181818182
                  }
                ]
              },
              "facet": {
                "column": {
                  "field": "Political Stability",
                  "title": "Political Stability",
                  "type": "nominal"
                }
              },
              "spec": {
                "encoding": {
                  "color": {
                    "field": "Political Stability",
                    "type": "nominal"
                  },
                  "x": {
                    "bin": {
                      "maxbins": 20
                    },
                    "field": "Life Ladder",
                    "title": "Life Ladder",
                    "type": "quantitative"
                  },
                  "y": {
                    "aggregate": "count",
                    "type": "quantitative"
                  }
                },
                "height": 300,
                "mark": "bar",
                "title": "Histogram of Life Ladder Levels (Stable vs Unstable)",
                "width": 400
              }
            },
            "image/png": "[encoded data removed]",
            "text/plain": [
              "<VegaLite 4 object>\n",
              "\n",
              "If you see this message, it means the renderer has not been properly enabled\n",
              "for the frontend that you are using. For more information, see\n",
              "https://altair-viz.github.io/user_guide/troubleshooting.html\n"
            ]
          },
          "metadata": {}
        }
      ]
    },
    {
      "cell_type": "markdown",
      "source": "Our stable countries' histogram shows a normal-like distribution, with the center revolved around a life ladder between 5.5 to 6.0. However, for our unstable countries' histogram, we see a slightly right skewed distribution, with most of the countries between the 4.0 to 4.5 life level values. Once again, our visualization shows around a slightly higher life ladder level of stable countries than unstable countries.",
      "metadata": {
        "tags": []
      }
    },
    {
      "cell_type": "markdown",
      "source": "Now, we will analyze each group (Stable vs Unstable) on its own and visualize their trends of life ladder levels vs the other variables in the dataset:",
      "metadata": {}
    },
    {
      "cell_type": "code",
      "source": "# categorizing data into stable and unstable countries\nstable_data = whr_final[whr_final['Political Stability'] == 'Stable'] # stable countries data\nunstable_data = whr_final[whr_final['Political Stability'] == 'Unstable'] # unstable countries data\n\n# List of variables\nvariables = ['Log GDP per Capita', 'Social Support', 'Life Expectancy',\n             'Life Choice Freedom', 'Generosity', 'Corruption',\n             'Positive Affect', 'Negative Affect']\n\n# Scatterplots and Line plots - stable and unstable countries\nplots = []\nfor var in variables:\n    scatter_stable = alt.Chart(stable_data).mark_circle().encode(\n        x=alt.X(var, title=var, scale=alt.Scale(zero=False)),\n        y=alt.Y('Life Ladder', title='Life Ladder', scale=alt.Scale(zero=False)),\n        color=alt.ColorValue('blue')\n    )\n    \n    scatter_unstable = alt.Chart(unstable_data).mark_circle().encode(\n        x=alt.X(var, title=var, scale=alt.Scale(zero=False)),\n        y=alt.Y('Life Ladder', title='Life Ladder', scale=alt.Scale(zero=False)),\n        color=alt.ColorValue('red')\n    )\n    \n    line_stable = alt.Chart(stable_data).transform_loess(\n        var, 'Life Ladder', groupby=['Political Stability'], bandwidth=1\n    ).mark_line().encode(\n        x=alt.X(var, title=var),\n        y=alt.Y('Life Ladder', title='Life Ladder'),\n        color=alt.ColorValue('blue')\n    )\n    \n    line_unstable = alt.Chart(unstable_data).transform_loess(\n        var, 'Life Ladder', groupby=['Political Stability'], bandwidth=1\n    ).mark_line().encode(\n        x=alt.X(var, title=var),\n        y=alt.Y('Life Ladder', title='Life Ladder'),\n        color=alt.ColorValue('red')\n    )\n    \n    plot = alt.layer(scatter_stable, scatter_unstable, line_stable, line_unstable).resolve_scale(color='independent').properties(\n        width=180, height=180  # Adjust the width and height of each plot\n    )\n    plots.append(plot)\n\n# Combine plots in a 2x4 matrix layout\ngrid_plots = alt.vconcat(*[alt.hconcat(*plots[i:i+4]) for i in range(0, len(plots), 4)])\n\n# Display the grid of plots\ngrid_plots\n",
      "metadata": {
        "tags": []
      },
      "execution_count": 21,
      "outputs": [
        {
          "execution_count": 21,
          "output_type": "execute_result",
          "data": {
            "application/vnd.vegalite.v4+json": {
              "$schema": "https://vega.github.io/schema/vega-lite/v4.17.0.json",
              "config": {
                "view": {
                  "continuousHeight": 300,
                  "continuousWidth": 400
                }
              },
              "datasets": {
                "data-25dbe36bf44e97cc83e550d21cd19939": [
                  {
                    "Corruption": 0.8388,
                    "Country": "Afghanistan",
                    "Generosity": 0.0502,
                    "Life Choice Freedom": 0.4821,
                    "Life Expectancy": 52.475,
                    "Life Ladder": 3.501,
                    "Log GDP per Capita": 7.643000000000001,
                    "Negative Affect": 0.3423,
                    "Political Stability": "Unstable",
                    "Positive Affect": 0.47859999999999997,
                    "Social Support": 0.5098
                  },
                  {
                    "Corruption": 0.8693636363636364,
                    "Country": "Albania",
                    "Generosity": -0.08427272727272728,
                    "Life Choice Freedom": 0.6876363636363636,
                    "Life Expectancy": 68.65227272727272,
                    "Life Ladder": 5.012090909090909,
                    "Log GDP per Capita": 9.398363636363637,
                    "Negative Affect": 0.3059090909090909,
                    "Political Stability": "Unstable",
                    "Positive Affect": 0.5640909090909091,
                    "Social Support": 0.6960909090909091
                  },
                  {
                    "Corruption": 0.7086666666666667,
                    "Country": "Algeria",
                    "Generosity": -0.13416666666666666,
                    "Life Choice Freedom": 0.516,
                    "Life Expectancy": 66.11666666666666,
                    "Life Ladder": 5.232833333333333,
                    "Log GDP per Capita": 9.340833333333334,
                    "Negative Affect": 0.2655,
                    "Political Stability": "Unstable",
                    "Positive Affect": 0.5333333333333333,
                    "Social Support": 0.8210000000000001
                  },
                  {
                    "Corruption": 0.86675,
                    "Country": "Angola",
                    "Generosity": -0.09050000000000001,
                    "Life Choice Freedom": 0.45625,
                    "Life Expectancy": 52.15,
                    "Life Ladder": 4.42025,
                    "Log GDP per Capita": 8.98575,
                    "Negative Affect": 0.35125,
                    "Political Stability": "Unstable",
                    "Positive Affect": 0.62575,
                    "Social Support": 0.73825
                  },
                  {
                    "Corruption": 0.8426,
                    "Country": "Armenia",
                    "Generosity": -0.1923,
                    "Life Choice Freedom": 0.5864,
                    "Life Expectancy": 65.91499999999999,
                    "Life Ladder": 4.5189,
                    "Log GDP per Capita": 9.3308,
                    "Negative Affect": 0.44000000000000006,
                    "Political Stability": "Unstable",
                    "Positive Affect": 0.4998,
                    "Social Support": 0.7229
                  },
                  {
                    "Corruption": 0.6621,
                    "Country": "Belarus",
                    "Generosity": -0.1508,
                    "Life Choice Freedom": 0.6574,
                    "Life Expectancy": 64.485,
                    "Life Ladder": 5.5693,
                    "Log GDP per Capita": 9.825,
                    "Negative Affect": 0.20779999999999998,
                    "Political Stability": "Unstable",
                    "Positive Affect": 0.5179,
                    "Social Support": 0.9106
                  },
                  {
                    "Corruption": 0.782,
                    "Country": "Belize",
                    "Generosity": 0.001,
                    "Life Choice Freedom": 0.874,
                    "Life Expectancy": 65,
                    "Life Ladder": 5.956,
                    "Log GDP per Capita": 9.135,
                    "Negative Affect": 0.282,
                    "Political Stability": "Unstable",
                    "Positive Affect": 0.735,
                    "Social Support": 0.757
                  },
                  {
                    "Corruption": 0.8304545454545454,
                    "Country": "Bolivia",
                    "Generosity": -0.05572727272727273,
                    "Life Choice Freedom": 0.8495454545454546,
                    "Life Expectancy": 62.63181818181818,
                    "Life Ladder": 5.783181818181818,
                    "Log GDP per Capita": 8.934818181818182,
                    "Negative Affect": 0.3926363636363636,
                    "Political Stability": "Unstable",
                    "Positive Affect": 0.7157272727272727,
                    "Social Support": 0.8044545454545454
                  },
                  {
                    "Corruption": 0.9444545454545454,
                    "Country": "Bosnia and Herzegovina",
                    "Generosity": 0.05454545454545456,
                    "Life Choice Freedom": 0.5335454545454545,
                    "Life Expectancy": 67.06818181818181,
                    "Life Ladder": 5.237909090909091,
                    "Log GDP per Capita": 9.427181818181818,
                    "Negative Affect": 0.30463636363636365,
                    "Political Stability": "Unstable",
                    "Positive Affect": 0.5235454545454545,
                    "Social Support": 0.789
                  },
                  {
                    "Corruption": 0.7456363636363637,
                    "Country": "Burkina Faso",
                    "Generosity": -0.015636363636363636,
                    "Life Choice Freedom": 0.6774545454545454,
                    "Life Expectancy": 53.31136363636363,
                    "Life Ladder": 4.287545454545454,
                    "Log GDP per Capita": 7.543909090909091,
                    "Negative Affect": 0.3100909090909091,
                    "Political Stability": "Unstable",
                    "Positive Affect": 0.588,
                    "Social Support": 0.7258181818181818
                  },
                  {
                    "Corruption": 0.6946666666666667,
                    "Country": "Burundi",
                    "Generosity": -0.04566666666666667,
                    "Life Choice Freedom": 0.5223333333333333,
                    "Life Expectancy": 53.366666666666674,
                    "Life Ladder": 3.4619999999999997,
                    "Log GDP per Capita": 6.674666666666667,
                    "Negative Affect": 0.268,
                    "Political Stability": "Unstable",
                    "Positive Affect": 0.61,
                    "Social Support": 0.49066666666666664
                  },
                  {
                    "Corruption": 0.8393,
                    "Country": "Cambodia",
                    "Generosity": 0.1835,
                    "Life Choice Freedom": 0.95,
                    "Life Expectancy": 60.42999999999999,
                    "Life Ladder": 4.2341999999999995,
                    "Log GDP per Capita": 8.1533,
                    "Negative Affect": 0.3989,
                    "Political Stability": "Unstable",
                    "Positive Affect": 0.6952,
                    "Social Support": 0.7086
                  },
                  {
                    "Corruption": 0.8631818181818182,
                    "Country": "Cameroon",
                    "Generosity": -0.011181818181818183,
                    "Life Choice Freedom": 0.7670909090909092,
                    "Life Expectancy": 52.12045454545455,
                    "Life Ladder": 4.736454545454546,
                    "Log GDP per Capita": 8.174545454545454,
                    "Negative Affect": 0.31563636363636366,
                    "Political Stability": "Unstable",
                    "Positive Affect": 0.6196363636363637,
                    "Social Support": 0.7169090909090909
                  },
                  {
                    "Corruption": 0.857,
                    "Country": "Central African Republic",
                    "Generosity": 0.017499999999999998,
                    "Life Choice Freedom": 0.68475,
                    "Life Expectancy": 43.8475,
                    "Life Ladder": 3.35375,
                    "Log GDP per Capita": 6.882,
                    "Negative Affect": 0.40675,
                    "Political Stability": "Unstable",
                    "Positive Affect": 0.53325,
                    "Social Support": 0.37
                  },
                  {
                    "Corruption": 0.8477,
                    "Country": "Chad",
                    "Generosity": 0.00030000000000000024,
                    "Life Choice Freedom": 0.5464,
                    "Life Expectancy": 50.305,
                    "Life Ladder": 4.0785,
                    "Log GDP per Capita": 7.4423,
                    "Negative Affect": 0.3903,
                    "Political Stability": "Unstable",
                    "Positive Affect": 0.5427,
                    "Social Support": 0.6918
                  },
                  {
                    "Corruption": 0.7936363636363637,
                    "Country": "Chile",
                    "Generosity": 0.05863636363636364,
                    "Life Choice Freedom": 0.7391818181818182,
                    "Life Expectancy": 69.35909090909091,
                    "Life Ladder": 6.482363636363636,
                    "Log GDP per Capita": 10.075909090909091,
                    "Negative Affect": 0.302,
                    "Political Stability": "Unstable",
                    "Positive Affect": 0.763909090909091,
                    "Social Support": 0.859090909090909
                  },
                  {
                    "Corruption": 0.858909090909091,
                    "Country": "Colombia",
                    "Generosity": -0.09909090909090908,
                    "Life Choice Freedom": 0.8249090909090909,
                    "Life Expectancy": 68.23863636363636,
                    "Life Ladder": 6.284090909090909,
                    "Log GDP per Capita": 9.519454545454545,
                    "Negative Affect": 0.2953636363636364,
                    "Political Stability": "Unstable",
                    "Positive Affect": 0.794,
                    "Social Support": 0.8855454545454545
                  },
                  {
                    "Corruption": 0.736,
                    "Country": "Comoros",
                    "Generosity": -0.011600000000000004,
                    "Life Choice Freedom": 0.5322,
                    "Life Expectancy": 57.86900000000001,
                    "Life Ladder": 4.037599999999999,
                    "Log GDP per Capita": 8.0584,
                    "Negative Affect": 0.2472,
                    "Political Stability": "Unstable",
                    "Positive Affect": 0.651,
                    "Social Support": 0.683
                  },
                  {
                    "Corruption": 0.7794000000000001,
                    "Country": "Congo (Brazzaville)",
                    "Generosity": -0.10540000000000001,
                    "Life Choice Freedom": 0.7466,
                    "Life Expectancy": 55.00750000000001,
                    "Life Ladder": 4.5916,
                    "Log GDP per Capita": 8.398100000000001,
                    "Negative Affect": 0.3537,
                    "Political Stability": "Unstable",
                    "Positive Affect": 0.5757,
                    "Social Support": 0.638
                  },
                  {
                    "Corruption": 0.8485714285714286,
                    "Country": "Congo (Kinshasa)",
                    "Generosity": -0.004714285714285714,
                    "Life Choice Freedom": 0.5912857142857143,
                    "Life Expectancy": 51.86785714285714,
                    "Life Ladder": 4.400428571428572,
                    "Log GDP per Capita": 6.875714285714286,
                    "Negative Affect": 0.2652857142857143,
                    "Political Stability": "Unstable",
                    "Positive Affect": 0.5650000000000001,
                    "Social Support": 0.7809999999999999
                  },
                  {
                    "Corruption": 0.7879999999999999,
                    "Country": "Costa Rica",
                    "Generosity": -0.049090909090909095,
                    "Life Choice Freedom": 0.9122727272727272,
                    "Life Expectancy": 69.78181818181818,
                    "Life Ladder": 7.079,
                    "Log GDP per Capita": 9.84509090909091,
                    "Negative Affect": 0.28563636363636363,
                    "Political Stability": "Unstable",
                    "Positive Affect": 0.8043636363636364,
                    "Social Support": 0.8947272727272728
                  },
                  {
                    "Corruption": 0.8591818181818183,
                    "Country": "Cyprus",
                    "Generosity": 0.043,
                    "Life Choice Freedom": 0.7353636363636364,
                    "Life Expectancy": 71.65454545454546,
                    "Life Ladder": 6.0266363636363645,
                    "Log GDP per Capita": 10.522090909090908,
                    "Negative Affect": 0.33145454545454545,
                    "Political Stability": "Unstable",
                    "Positive Affect": 0.6676363636363637,
                    "Social Support": 0.7936363636363637
                  },
                  {
                    "Corruption": 0.519,
                    "Country": "Djibouti",
                    "Generosity": -0.079,
                    "Life Choice Freedom": 0.746,
                    "Life Expectancy": 55.08,
                    "Life Ladder": 4.369,
                    "Log GDP per Capita": 8.15,
                    "Negative Affect": 0.181,
                    "Political Stability": "Unstable",
                    "Positive Affect": 0.543,
                    "Social Support": 0.633
                  },
                  {
                    "Corruption": 0.7457272727272727,
                    "Country": "Dominican Republic",
                    "Generosity": -0.07400000000000001,
                    "Life Choice Freedom": 0.8608181818181818,
                    "Life Expectancy": 63.8,
                    "Life Ladder": 5.2544545454545455,
                    "Log GDP per Capita": 9.617909090909091,
                    "Negative Affect": 0.29009090909090907,
                    "Political Stability": "Unstable",
                    "Positive Affect": 0.7298181818181818,
                    "Social Support": 0.8740000000000001
                  },
                  {
                    "Corruption": 0.7494545454545455,
                    "Country": "Ecuador",
                    "Generosity": -0.12390909090909091,
                    "Life Choice Freedom": 0.8087272727272729,
                    "Life Expectancy": 67.37727272727273,
                    "Life Ladder": 5.888090909090909,
                    "Log GDP per Capita": 9.338363636363637,
                    "Negative Affect": 0.3197272727272727,
                    "Political Stability": "Unstable",
                    "Positive Affect": 0.7951818181818182,
                    "Social Support": 0.8258181818181818
                  },
                  {
                    "Corruption": 0.8184285714285714,
                    "Country": "Egypt",
                    "Generosity": -0.12242857142857143,
                    "Life Choice Freedom": 0.5564285714285714,
                    "Life Expectancy": 61.90714285714286,
                    "Life Ladder": 4.401571428571429,
                    "Log GDP per Capita": 9.197000000000001,
                    "Negative Affect": 0.36442857142857144,
                    "Political Stability": "Unstable",
                    "Positive Affect": 0.4944285714285715,
                    "Social Support": 0.7274285714285715
                  },
                  {
                    "Corruption": 0.7441818181818182,
                    "Country": "El Salvador",
                    "Generosity": -0.1430909090909091,
                    "Life Choice Freedom": 0.777090909090909,
                    "Life Expectancy": 64.22272727272728,
                    "Life Ladder": 6.02290909090909,
                    "Log GDP per Capita": 9.013272727272728,
                    "Negative Affect": 0.3151818181818182,
                    "Political Stability": "Unstable",
                    "Positive Affect": 0.8046363636363636,
                    "Social Support": 0.7829999999999999
                  },
                  {
                    "Corruption": 0.72425,
                    "Country": "Ethiopia",
                    "Generosity": 0.0625,
                    "Life Choice Freedom": 0.741,
                    "Life Expectancy": 58.8025,
                    "Life Ladder": 4.378875,
                    "Log GDP per Capita": 7.544625,
                    "Negative Affect": 0.26475,
                    "Political Stability": "Unstable",
                    "Positive Affect": 0.58425,
                    "Social Support": 0.704
                  },
                  {
                    "Corruption": 0.7696,
                    "Country": "Guinea",
                    "Generosity": 0.0387,
                    "Life Choice Freedom": 0.697,
                    "Life Expectancy": 52.05499999999999,
                    "Life Ladder": 4.1985,
                    "Log GDP per Capita": 7.6991,
                    "Negative Affect": 0.35669999999999996,
                    "Political Stability": "Unstable",
                    "Positive Affect": 0.6715,
                    "Social Support": 0.625
                  },
                  {
                    "Corruption": 0.7341111111111112,
                    "Country": "Haiti",
                    "Generosity": 0.2587777777777778,
                    "Life Choice Freedom": 0.4626666666666666,
                    "Life Expectancy": 45.93333333333333,
                    "Life Ladder": 3.9884444444444447,
                    "Log GDP per Capita": 8.038111111111112,
                    "Negative Affect": 0.3174444444444445,
                    "Political Stability": "Unstable",
                    "Positive Affect": 0.5537777777777778,
                    "Social Support": 0.6005555555555556
                  },
                  {
                    "Corruption": 0.8320000000000001,
                    "Country": "Honduras",
                    "Generosity": 0.0392,
                    "Life Choice Freedom": 0.7523,
                    "Life Expectancy": 62.025,
                    "Life Ladder": 5.3549,
                    "Log GDP per Capita": 8.5519,
                    "Negative Affect": 0.2865,
                    "Political Stability": "Unstable",
                    "Positive Affect": 0.7913,
                    "Social Support": 0.7943
                  },
                  {
                    "Corruption": 0.6953333333333334,
                    "Country": "Iran",
                    "Generosity": 0.16899999999999998,
                    "Life Choice Freedom": 0.7116666666666667,
                    "Life Expectancy": 65.84111111111112,
                    "Life Ladder": 4.762111111111111,
                    "Log GDP per Capita": 9.587333333333333,
                    "Negative Affect": 0.48000000000000004,
                    "Political Stability": "Unstable",
                    "Positive Affect": 0.5422222222222222,
                    "Social Support": 0.6523333333333333
                  },
                  {
                    "Corruption": 0.8008888888888889,
                    "Country": "Iraq",
                    "Generosity": -0.033666666666666664,
                    "Life Choice Freedom": 0.5464444444444445,
                    "Life Expectancy": 61.40944444444444,
                    "Life Ladder": 4.670111111111111,
                    "Log GDP per Capita": 9.136000000000001,
                    "Negative Affect": 0.5285555555555556,
                    "Political Stability": "Unstable",
                    "Positive Affect": 0.4991111111111111,
                    "Social Support": 0.7366666666666667
                  },
                  {
                    "Corruption": 0.8153636363636363,
                    "Country": "Israel",
                    "Generosity": 0.10372727272727272,
                    "Life Choice Freedom": 0.7357272727272727,
                    "Life Expectancy": 71.89545454545454,
                    "Life Ladder": 7.2407272727272725,
                    "Log GDP per Capita": 10.532545454545454,
                    "Negative Affect": 0.3028181818181818,
                    "Political Stability": "Unstable",
                    "Positive Affect": 0.6143636363636363,
                    "Social Support": 0.9055454545454545
                  },
                  {
                    "Corruption": 0.9009090909090909,
                    "Country": "Lebanon",
                    "Generosity": -0.024909090909090912,
                    "Life Choice Freedom": 0.6120909090909091,
                    "Life Expectancy": 65.72045454545454,
                    "Life Ladder": 4.766454545454545,
                    "Log GDP per Capita": 9.770181818181818,
                    "Negative Affect": 0.33390909090909093,
                    "Political Stability": "Unstable",
                    "Positive Affect": 0.4506363636363636,
                    "Social Support": 0.7475454545454544
                  },
                  {
                    "Corruption": 0.6990000000000001,
                    "Country": "Libya",
                    "Generosity": -0.09699999999999999,
                    "Life Choice Freedom": 0.7585,
                    "Life Expectancy": 65.01625,
                    "Life Ladder": 5.55625,
                    "Log GDP per Capita": 10.1635,
                    "Negative Affect": 0.37375,
                    "Political Stability": "Unstable",
                    "Positive Affect": 0.635,
                    "Social Support": 0.8322499999999999
                  },
                  {
                    "Corruption": 0.8434444444444444,
                    "Country": "Madagascar",
                    "Generosity": -0.033888888888888885,
                    "Life Choice Freedom": 0.5364444444444445,
                    "Life Expectancy": 56.31111111111111,
                    "Life Ladder": 3.907666666666666,
                    "Log GDP per Capita": 7.328555555555555,
                    "Negative Affect": 0.25922222222222224,
                    "Political Stability": "Unstable",
                    "Positive Affect": 0.6457777777777778,
                    "Social Support": 0.6894444444444444
                  },
                  {
                    "Corruption": 0.7996363636363636,
                    "Country": "Mali",
                    "Generosity": -0.05818181818181818,
                    "Life Choice Freedom": 0.7025454545454545,
                    "Life Expectancy": 53.08181818181818,
                    "Life Ladder": 4.309636363636364,
                    "Log GDP per Capita": 7.634090909090909,
                    "Negative Affect": 0.26281818181818184,
                    "Political Stability": "Unstable",
                    "Positive Affect": 0.6985454545454546,
                    "Social Support": 0.7686363636363637
                  },
                  {
                    "Corruption": 0.9362727272727273,
                    "Country": "Moldova",
                    "Generosity": -0.07790909090909091,
                    "Life Choice Freedom": 0.6619090909090909,
                    "Life Expectancy": 62.92727272727273,
                    "Life Ladder": 5.751727272727273,
                    "Log GDP per Capita": 9.265181818181818,
                    "Negative Affect": 0.2739090909090909,
                    "Political Stability": "Unstable",
                    "Positive Affect": 0.5784545454545454,
                    "Social Support": 0.8393636363636364
                  },
                  {
                    "Corruption": 0.7777272727272727,
                    "Country": "Montenegro",
                    "Generosity": -0.10445454545454545,
                    "Life Choice Freedom": 0.5877272727272728,
                    "Life Expectancy": 66.62727272727273,
                    "Life Ladder": 5.3687272727272735,
                    "Log GDP per Capita": 9.820727272727272,
                    "Negative Affect": 0.36563636363636365,
                    "Political Stability": "Unstable",
                    "Positive Affect": 0.5212727272727272,
                    "Social Support": 0.8170909090909091
                  },
                  {
                    "Corruption": 0.6812,
                    "Country": "Mozambique",
                    "Generosity": 0.0294,
                    "Life Choice Freedom": 0.8084,
                    "Life Expectancy": 49.074,
                    "Life Ladder": 4.6774000000000004,
                    "Log GDP per Capita": 7.1256,
                    "Negative Affect": 0.34340000000000004,
                    "Political Stability": "Unstable",
                    "Positive Affect": 0.595,
                    "Social Support": 0.7283999999999999
                  },
                  {
                    "Corruption": 0.64,
                    "Country": "Myanmar",
                    "Generosity": 0.623,
                    "Life Choice Freedom": 0.8374444444444444,
                    "Life Expectancy": 59.821666666666665,
                    "Life Ladder": 4.408666666666666,
                    "Log GDP per Capita": 8.304333333333334,
                    "Negative Affect": 0.25166666666666665,
                    "Political Stability": "Unstable",
                    "Positive Affect": 0.6618888888888889,
                    "Social Support": 0.7573333333333333
                  },
                  {
                    "Corruption": 0.6832,
                    "Country": "Niger",
                    "Generosity": -0.0316,
                    "Life Choice Freedom": 0.758,
                    "Life Expectancy": 53.79,
                    "Life Ladder": 4.3042,
                    "Log GDP per Capita": 7.015300000000001,
                    "Negative Affect": 0.2624,
                    "Political Stability": "Unstable",
                    "Positive Affect": 0.6838,
                    "Social Support": 0.6889000000000001
                  },
                  {
                    "Corruption": 0.8926666666666667,
                    "Country": "Nigeria",
                    "Generosity": 0.046000000000000006,
                    "Life Choice Freedom": 0.7102222222222223,
                    "Life Expectancy": 53.28611111111111,
                    "Life Ladder": 5.063,
                    "Log GDP per Capita": 8.53711111111111,
                    "Negative Affect": 0.24722222222222223,
                    "Political Stability": "Unstable",
                    "Positive Affect": 0.7257777777777777,
                    "Social Support": 0.7633333333333333
                  },
                  {
                    "Corruption": 0.8748181818181817,
                    "Country": "North Macedonia",
                    "Generosity": -0.011636363636363637,
                    "Life Choice Freedom": 0.6721818181818182,
                    "Life Expectancy": 65.46363636363637,
                    "Life Ladder": 4.997545454545454,
                    "Log GDP per Capita": 9.612727272727271,
                    "Negative Affect": 0.3267272727272727,
                    "Political Stability": "Unstable",
                    "Positive Affect": 0.5259090909090909,
                    "Social Support": 0.795
                  },
                  {
                    "Corruption": 0.7865454545454544,
                    "Country": "Pakistan",
                    "Generosity": 0.09945454545454546,
                    "Life Choice Freedom": 0.5688181818181818,
                    "Life Expectancy": 55.820454545454545,
                    "Life Ladder": 5.227363636363636,
                    "Log GDP per Capita": 8.426454545454545,
                    "Negative Affect": 0.34336363636363637,
                    "Political Stability": "Unstable",
                    "Positive Affect": 0.4862727272727273,
                    "Social Support": 0.5960909090909091
                  },
                  {
                    "Corruption": 0.7622727272727272,
                    "Country": "Philippines",
                    "Generosity": -0.03809090909090909,
                    "Life Choice Freedom": 0.9095454545454547,
                    "Life Expectancy": 61.85227272727273,
                    "Life Ladder": 5.365181818181818,
                    "Log GDP per Capita": 8.876454545454546,
                    "Negative Affect": 0.33745454545454545,
                    "Political Stability": "Unstable",
                    "Positive Affect": 0.791,
                    "Social Support": 0.824
                  },
                  {
                    "Corruption": 0.8953636363636364,
                    "Country": "Russia",
                    "Generosity": -0.20863636363636362,
                    "Life Choice Freedom": 0.6855454545454546,
                    "Life Expectancy": 62.61136363636364,
                    "Life Ladder": 5.622636363636364,
                    "Log GDP per Capita": 10.160636363636364,
                    "Negative Affect": 0.17245454545454544,
                    "Political Stability": "Unstable",
                    "Positive Affect": 0.6016363636363636,
                    "Social Support": 0.9039090909090909
                  },
                  {
                    "Corruption": 0.13744444444444445,
                    "Country": "Rwanda",
                    "Generosity": 0.013777777777777778,
                    "Life Choice Freedom": 0.886888888888889,
                    "Life Expectancy": 58.59444444444445,
                    "Life Ladder": 3.4716666666666667,
                    "Log GDP per Capita": 7.509444444444444,
                    "Negative Affect": 0.24022222222222223,
                    "Political Stability": "Unstable",
                    "Positive Affect": 0.7023333333333333,
                    "Social Support": 0.63
                  },
                  {
                    "Corruption": 0.8525555555555555,
                    "Country": "Sierra Leone",
                    "Generosity": 0.04288888888888889,
                    "Life Choice Freedom": 0.7052222222222222,
                    "Life Expectancy": 50.08222222222222,
                    "Life Ladder": 4.348333333333333,
                    "Log GDP per Capita": 7.389777777777777,
                    "Negative Affect": 0.4017777777777778,
                    "Political Stability": "Unstable",
                    "Positive Affect": 0.5618888888888889,
                    "Social Support": 0.7057777777777778
                  },
                  {
                    "Corruption": 0.43566666666666665,
                    "Country": "Somalia",
                    "Generosity": 0.039,
                    "Life Choice Freedom": 0.9196666666666666,
                    "Life Expectancy": 48.086666666666666,
                    "Life Ladder": 5.183333333333334,
                    "Log GDP per Capita": 6.916,
                    "Negative Affect": 0.19566666666666666,
                    "Political Stability": "Unstable",
                    "Positive Affect": 0.742,
                    "Social Support": 0.6013333333333333
                  },
                  {
                    "Corruption": 0.8338181818181819,
                    "Country": "South Africa",
                    "Generosity": -0.12236363636363637,
                    "Life Choice Freedom": 0.7584545454545455,
                    "Life Expectancy": 53.58863636363637,
                    "Life Ladder": 4.749363636363636,
                    "Log GDP per Capita": 9.529454545454545,
                    "Negative Affect": 0.2288181818181818,
                    "Political Stability": "Unstable",
                    "Positive Affect": 0.7265454545454545,
                    "Social Support": 0.875
                  },
                  {
                    "Corruption": 0.752,
                    "Country": "State of Palestine",
                    "Generosity": -0.118,
                    "Life Choice Freedom": 0.504,
                    "Life Expectancy": 62.25,
                    "Life Ladder": 4.703,
                    "Log GDP per Capita": 8.363,
                    "Negative Affect": 0.381,
                    "Political Stability": "Unstable",
                    "Positive Affect": 0.553,
                    "Social Support": 0.822
                  },
                  {
                    "Corruption": 0.732,
                    "Country": "Sudan",
                    "Generosity": -0.0665,
                    "Life Choice Freedom": 0.50825,
                    "Life Expectancy": 58.12,
                    "Life Ladder": 4.3595,
                    "Log GDP per Capita": 8.48025,
                    "Negative Affect": 0.25375000000000003,
                    "Political Stability": "Unstable",
                    "Positive Affect": 0.52325,
                    "Social Support": 0.8242499999999999
                  },
                  {
                    "Corruption": 0.701,
                    "Country": "Syria",
                    "Generosity": 0.1412,
                    "Life Choice Freedom": 0.5094000000000001,
                    "Life Expectancy": 61.227999999999994,
                    "Life Ladder": 3.5634,
                    "Log GDP per Capita": 8.5914,
                    "Negative Affect": 0.5382,
                    "Political Stability": "Unstable",
                    "Positive Affect": 0.4356,
                    "Social Support": 0.6294
                  },
                  {
                    "Corruption": 0.70275,
                    "Country": "Tajikistan",
                    "Generosity": 0.0061249999999999985,
                    "Life Choice Freedom": 0.779625,
                    "Life Expectancy": 61.26875,
                    "Life Ladder": 4.882625,
                    "Log GDP per Capita": 7.929375,
                    "Negative Affect": 0.202,
                    "Political Stability": "Unstable",
                    "Positive Affect": 0.5756249999999999,
                    "Social Support": 0.76425
                  },
                  {
                    "Corruption": 0.8467272727272728,
                    "Country": "Tunisia",
                    "Generosity": -0.20109090909090907,
                    "Life Choice Freedom": 0.6090909090909091,
                    "Life Expectancy": 66.6590909090909,
                    "Life Ladder": 4.731363636363636,
                    "Log GDP per Capita": 9.271090909090908,
                    "Negative Affect": 0.336,
                    "Political Stability": "Unstable",
                    "Positive Affect": 0.4987272727272727,
                    "Social Support": 0.6918181818181818
                  },
                  {
                    "Corruption": 0.7458181818181818,
                    "Country": "Turkiye",
                    "Generosity": -0.15218181818181817,
                    "Life Choice Freedom": 0.5666363636363637,
                    "Life Expectancy": 67.72045454545454,
                    "Life Ladder": 5.264181818181818,
                    "Log GDP per Capita": 10.125363636363637,
                    "Negative Affect": 0.3686363636363636,
                    "Political Stability": "Unstable",
                    "Positive Affect": 0.4333636363636364,
                    "Social Support": 0.8170000000000001
                  },
                  {
                    "Corruption": 0.8455454545454546,
                    "Country": "Uganda",
                    "Generosity": 0.07400000000000001,
                    "Life Choice Freedom": 0.7426363636363637,
                    "Life Expectancy": 55.80227272727273,
                    "Life Ladder": 4.290090909090909,
                    "Log GDP per Capita": 7.645454545454545,
                    "Negative Affect": 0.3523636363636364,
                    "Political Stability": "Unstable",
                    "Positive Affect": 0.6682727272727272,
                    "Social Support": 0.8074545454545454
                  },
                  {
                    "Corruption": 0.9273636363636364,
                    "Country": "Ukraine",
                    "Generosity": -0.07909090909090909,
                    "Life Choice Freedom": 0.584,
                    "Life Expectancy": 63.53409090909091,
                    "Life Ladder": 4.64709090909091,
                    "Log GDP per Capita": 9.419272727272727,
                    "Negative Affect": 0.2289090909090909,
                    "Political Stability": "Unstable",
                    "Positive Affect": 0.5429090909090909,
                    "Social Support": 0.8850909090909092
                  },
                  {
                    "Corruption": 0.5071111111111111,
                    "Country": "Uzbekistan",
                    "Generosity": 0.14366666666666666,
                    "Life Choice Freedom": 0.953888888888889,
                    "Life Expectancy": 63.699999999999996,
                    "Life Ladder": 6.037888888888889,
                    "Log GDP per Capita": 8.755555555555555,
                    "Negative Affect": 0.16566666666666668,
                    "Political Stability": "Unstable",
                    "Positive Affect": 0.7122222222222222,
                    "Social Support": 0.9297777777777778
                  },
                  {
                    "Corruption": 0.8147,
                    "Country": "Venezuela",
                    "Generosity": -0.0896,
                    "Life Choice Freedom": 0.6393,
                    "Life Expectancy": 64.985,
                    "Life Ladder": 5.8582,
                    "Log GDP per Capita": 8.217600000000001,
                    "Negative Affect": 0.269,
                    "Political Stability": "Unstable",
                    "Positive Affect": 0.7786,
                    "Social Support": 0.9079
                  },
                  {
                    "Corruption": 0.82375,
                    "Country": "Yemen",
                    "Generosity": -0.142875,
                    "Life Choice Freedom": 0.628,
                    "Life Expectancy": 58.278125,
                    "Life Ladder": 3.822625,
                    "Log GDP per Capita": 7.9807500000000005,
                    "Negative Affect": 0.280875,
                    "Political Stability": "Unstable",
                    "Positive Affect": 0.46199999999999997,
                    "Social Support": 0.7165
                  },
                  {
                    "Corruption": 0.8064,
                    "Country": "Zambia",
                    "Generosity": 0.030000000000000006,
                    "Life Choice Freedom": 0.7779,
                    "Life Expectancy": 52.677499999999995,
                    "Life Ladder": 4.4912,
                    "Log GDP per Capita": 8.1089,
                    "Negative Affect": 0.33199999999999996,
                    "Political Stability": "Unstable",
                    "Positive Affect": 0.681,
                    "Social Support": 0.7436
                  },
                  {
                    "Corruption": 0.8106363636363636,
                    "Country": "Zimbabwe",
                    "Generosity": -0.06763636363636363,
                    "Life Choice Freedom": 0.6524545454545454,
                    "Life Expectancy": 50.21136363636364,
                    "Life Ladder": 3.991181818181818,
                    "Log GDP per Capita": 7.6975454545454545,
                    "Negative Affect": 0.21236363636363634,
                    "Political Stability": "Unstable",
                    "Positive Affect": 0.6664545454545455,
                    "Social Support": 0.7901818181818182
                  }
                ],
                "data-c93f45460033434403eb6c99010bc3bb": [
                  {
                    "Corruption": 0.8316363636363636,
                    "Country": "Argentina",
                    "Generosity": -0.1709090909090909,
                    "Life Choice Freedom": 0.8019999999999999,
                    "Life Expectancy": 66.80454545454546,
                    "Life Ladder": 6.352818181818182,
                    "Log GDP per Capita": 10.051272727272728,
                    "Negative Affect": 0.28163636363636363,
                    "Political Stability": "Stable",
                    "Positive Affect": 0.743090909090909,
                    "Social Support": 0.905
                  },
                  {
                    "Corruption": 0.4075454545454545,
                    "Country": "Australia",
                    "Generosity": 0.26081818181818184,
                    "Life Choice Freedom": 0.9238181818181819,
                    "Life Expectancy": 70.59318181818182,
                    "Life Ladder": 7.279,
                    "Log GDP per Capita": 10.766909090909092,
                    "Negative Affect": 0.21054545454545454,
                    "Political Stability": "Stable",
                    "Positive Affect": 0.736090909090909,
                    "Social Support": 0.9439090909090908
                  },
                  {
                    "Corruption": 0.5735454545454546,
                    "Country": "Austria",
                    "Generosity": 0.09627272727272727,
                    "Life Choice Freedom": 0.9054545454545455,
                    "Life Expectancy": 70.43409090909091,
                    "Life Ladder": 7.258727272727273,
                    "Log GDP per Capita": 10.885909090909092,
                    "Negative Affect": 0.17900000000000002,
                    "Political Stability": "Stable",
                    "Positive Affect": 0.7125454545454546,
                    "Social Support": 0.9284545454545455
                  },
                  {
                    "Corruption": 0.6663,
                    "Country": "Azerbaijan",
                    "Generosity": -0.1847,
                    "Life Choice Freedom": 0.6876,
                    "Life Expectancy": 62.80499999999999,
                    "Life Ladder": 5.0487,
                    "Log GDP per Capita": 9.5706,
                    "Negative Affect": 0.22080000000000002,
                    "Political Stability": "Stable",
                    "Positive Affect": 0.5224,
                    "Social Support": 0.7761
                  },
                  {
                    "Corruption": 0.649,
                    "Country": "Bahrain",
                    "Generosity": -0.0325,
                    "Life Choice Freedom": 0.866,
                    "Life Expectancy": 65.12,
                    "Life Ladder": 5.3805,
                    "Log GDP per Capita": 10.7385,
                    "Negative Affect": 0.4685,
                    "Political Stability": "Stable",
                    "Positive Affect": 0.5735,
                    "Social Support": 0.8925000000000001
                  },
                  {
                    "Corruption": 0.7182000000000001,
                    "Country": "Bangladesh",
                    "Generosity": -0.0518,
                    "Life Choice Freedom": 0.8073,
                    "Life Expectancy": 63.2595,
                    "Life Ladder": 4.762,
                    "Log GDP per Capita": 8.3886,
                    "Negative Affect": 0.2693,
                    "Political Stability": "Stable",
                    "Positive Affect": 0.4793,
                    "Social Support": 0.6348
                  },
                  {
                    "Corruption": 0.6088181818181818,
                    "Country": "Belgium",
                    "Generosity": -0.042909090909090904,
                    "Life Choice Freedom": 0.8397272727272728,
                    "Life Expectancy": 69.98636363636363,
                    "Life Ladder": 6.922090909090909,
                    "Log GDP per Capita": 10.806727272727272,
                    "Negative Affect": 0.24181818181818182,
                    "Political Stability": "Stable",
                    "Positive Affect": 0.7187272727272727,
                    "Social Support": 0.9183636363636364
                  },
                  {
                    "Corruption": 0.7798,
                    "Country": "Benin",
                    "Generosity": -0.0682,
                    "Life Choice Freedom": 0.7607,
                    "Life Expectancy": 54.489999999999995,
                    "Life Ladder": 4.1578,
                    "Log GDP per Capita": 7.971299999999999,
                    "Negative Affect": 0.344,
                    "Political Stability": "Stable",
                    "Positive Affect": 0.5892000000000001,
                    "Social Support": 0.4899
                  },
                  {
                    "Corruption": 0.6953333333333335,
                    "Country": "Bhutan",
                    "Generosity": 0.29833333333333334,
                    "Life Choice Freedom": 0.8246666666666668,
                    "Life Expectancy": 62.419999999999995,
                    "Life Ladder": 5.196666666666666,
                    "Log GDP per Capita": 9.146,
                    "Negative Affect": 0.2843333333333333,
                    "Political Stability": "Stable",
                    "Positive Affect": 0.7206666666666667,
                    "Social Support": 0.8489999999999999
                  },
                  {
                    "Corruption": 0.7855,
                    "Country": "Botswana",
                    "Generosity": -0.1886,
                    "Life Choice Freedom": 0.8173,
                    "Life Expectancy": 52.415,
                    "Life Ladder": 3.7765999999999997,
                    "Log GDP per Capita": 9.5486,
                    "Negative Affect": 0.23210000000000003,
                    "Political Stability": "Stable",
                    "Positive Affect": 0.6554,
                    "Social Support": 0.8199
                  },
                  {
                    "Corruption": 0.7335,
                    "Country": "Brazil",
                    "Generosity": -0.0891,
                    "Life Choice Freedom": 0.7877,
                    "Life Expectancy": 64.7705,
                    "Life Ladder": 6.6003,
                    "Log GDP per Capita": 9.6069,
                    "Negative Affect": 0.3079,
                    "Political Stability": "Stable",
                    "Positive Affect": 0.6965,
                    "Social Support": 0.8966000000000001
                  },
                  {
                    "Corruption": 0.9389090909090908,
                    "Country": "Bulgaria",
                    "Generosity": -0.15109090909090908,
                    "Life Choice Freedom": 0.6744545454545454,
                    "Life Expectancy": 65.84545454545456,
                    "Life Ladder": 4.640454545454546,
                    "Log GDP per Capita": 9.918363636363637,
                    "Negative Affect": 0.22227272727272726,
                    "Political Stability": "Stable",
                    "Positive Affect": 0.5461818181818182,
                    "Social Support": 0.8927272727272727
                  },
                  {
                    "Corruption": 0.416,
                    "Country": "Canada",
                    "Generosity": 0.2008181818181818,
                    "Life Choice Freedom": 0.9264545454545455,
                    "Life Expectancy": 71.08636363636364,
                    "Life Ladder": 7.342818181818182,
                    "Log GDP per Capita": 10.760727272727273,
                    "Negative Affect": 0.2567272727272727,
                    "Political Stability": "Stable",
                    "Positive Affect": 0.7829999999999999,
                    "Social Support": 0.9321818181818181
                  },
                  {
                    "Corruption": 0.9246363636363636,
                    "Country": "Croatia",
                    "Generosity": -0.12945454545454546,
                    "Life Choice Freedom": 0.6470909090909092,
                    "Life Expectancy": 67.97500000000001,
                    "Life Ladder": 5.628181818181818,
                    "Log GDP per Capita": 10.157727272727273,
                    "Negative Affect": 0.2878181818181818,
                    "Political Stability": "Stable",
                    "Positive Affect": 0.5664545454545454,
                    "Social Support": 0.8058181818181819
                  },
                  {
                    "Corruption": 0.9034000000000001,
                    "Country": "Czechia",
                    "Generosity": -0.1609,
                    "Life Choice Freedom": 0.8018000000000001,
                    "Life Expectancy": 68.25750000000001,
                    "Life Ladder": 6.616200000000001,
                    "Log GDP per Capita": 10.4886,
                    "Negative Affect": 0.2344,
                    "Political Stability": "Stable",
                    "Positive Affect": 0.6693,
                    "Social Support": 0.9162000000000001
                  },
                  {
                    "Corruption": 0.1918181818181818,
                    "Country": "Denmark",
                    "Generosity": 0.14272727272727273,
                    "Life Choice Freedom": 0.9412727272727271,
                    "Life Expectancy": 70.37045454545455,
                    "Life Ladder": 7.609,
                    "Log GDP per Capita": 10.885454545454545,
                    "Negative Affect": 0.20118181818181818,
                    "Political Stability": "Stable",
                    "Positive Affect": 0.7865454545454547,
                    "Social Support": 0.9580000000000001
                  },
                  {
                    "Corruption": 0.6329,
                    "Country": "Estonia",
                    "Generosity": -0.14830000000000002,
                    "Life Choice Freedom": 0.8206,
                    "Life Expectancy": 68.3575,
                    "Life Ladder": 5.757,
                    "Log GDP per Capita": 10.3726,
                    "Negative Affect": 0.1833,
                    "Political Stability": "Stable",
                    "Positive Affect": 0.6815,
                    "Social Support": 0.9233
                  },
                  {
                    "Corruption": 0.7776666666666667,
                    "Country": "Eswatini",
                    "Generosity": -0.146,
                    "Life Choice Freedom": 0.638,
                    "Life Expectancy": 47.300000000000004,
                    "Life Ladder": 4.491666666666666,
                    "Log GDP per Capita": 8.993,
                    "Negative Affect": 0.261,
                    "Political Stability": "Stable",
                    "Positive Affect": 0.7403333333333334,
                    "Social Support": 0.7916666666666666
                  },
                  {
                    "Corruption": 0.2625454545454545,
                    "Country": "Finland",
                    "Generosity": -0.002727272727272727,
                    "Life Choice Freedom": 0.9375454545454546,
                    "Life Expectancy": 70.50227272727273,
                    "Life Ladder": 7.583636363636364,
                    "Log GDP per Capita": 10.747636363636362,
                    "Negative Affect": 0.19163636363636363,
                    "Political Stability": "Stable",
                    "Positive Affect": 0.747,
                    "Social Support": 0.9473636363636363
                  },
                  {
                    "Corruption": 0.6175454545454545,
                    "Country": "France",
                    "Generosity": -0.13036363636363635,
                    "Life Choice Freedom": 0.8344545454545454,
                    "Life Expectancy": 71.7,
                    "Life Ladder": 6.643454545454546,
                    "Log GDP per Capita": 10.680545454545454,
                    "Negative Affect": 0.246,
                    "Political Stability": "Stable",
                    "Positive Affect": 0.7191818181818181,
                    "Social Support": 0.9204545454545454
                  },
                  {
                    "Corruption": 0.8233,
                    "Country": "Gabon",
                    "Generosity": -0.1972,
                    "Life Choice Freedom": 0.6632,
                    "Life Expectancy": 56.3275,
                    "Life Ladder": 4.4804,
                    "Log GDP per Capita": 9.5799,
                    "Negative Affect": 0.36069999999999997,
                    "Political Stability": "Stable",
                    "Positive Affect": 0.5803,
                    "Social Support": 0.7543
                  },
                  {
                    "Corruption": 0.6869999999999999,
                    "Country": "Gambia",
                    "Generosity": 0.32366666666666666,
                    "Life Choice Freedom": 0.7360000000000001,
                    "Life Expectancy": 56.699999999999996,
                    "Life Ladder": 4.734666666666667,
                    "Log GDP per Capita": 7.604333333333334,
                    "Negative Affect": 0.35233333333333333,
                    "Political Stability": "Stable",
                    "Positive Affect": 0.749,
                    "Social Support": 0.6920000000000001
                  },
                  {
                    "Corruption": 0.5033636363636363,
                    "Country": "Georgia",
                    "Generosity": -0.2457272727272727,
                    "Life Choice Freedom": 0.7007272727272728,
                    "Life Expectancy": 64.23409090909091,
                    "Life Ladder": 4.444636363636364,
                    "Log GDP per Capita": 9.428818181818182,
                    "Negative Affect": 0.23572727272727273,
                    "Political Stability": "Stable",
                    "Positive Affect": 0.46954545454545454,
                    "Social Support": 0.5766363636363636
                  },
                  {
                    "Corruption": 0.5216363636363636,
                    "Country": "Germany",
                    "Generosity": 0.06954545454545454,
                    "Life Choice Freedom": 0.8793636363636363,
                    "Life Expectancy": 70.34545454545454,
                    "Life Ladder": 6.949727272727273,
                    "Log GDP per Capita": 10.841909090909091,
                    "Negative Affect": 0.19736363636363635,
                    "Political Stability": "Stable",
                    "Positive Affect": 0.7093636363636363,
                    "Social Support": 0.9196363636363636
                  },
                  {
                    "Corruption": 0.8712727272727272,
                    "Country": "Ghana",
                    "Generosity": 0.05,
                    "Life Choice Freedom": 0.7915454545454547,
                    "Life Expectancy": 56.41136363636363,
                    "Life Ladder": 4.851545454545454,
                    "Log GDP per Capita": 8.444818181818182,
                    "Negative Affect": 0.23881818181818185,
                    "Political Stability": "Stable",
                    "Positive Affect": 0.6806363636363636,
                    "Social Support": 0.6934545454545454
                  },
                  {
                    "Corruption": 0.8900909090909092,
                    "Country": "Greece",
                    "Generosity": -0.29118181818181815,
                    "Life Choice Freedom": 0.48863636363636365,
                    "Life Expectancy": 70.46136363636364,
                    "Life Ladder": 5.364272727272727,
                    "Log GDP per Capita": 10.274454545454546,
                    "Negative Affect": 0.3266363636363636,
                    "Political Stability": "Stable",
                    "Positive Affect": 0.5768181818181818,
                    "Social Support": 0.8096363636363637
                  },
                  {
                    "Corruption": 0.8071999999999999,
                    "Country": "Guatemala",
                    "Generosity": 0.0254,
                    "Life Choice Freedom": 0.8509,
                    "Life Expectancy": 61.279999999999994,
                    "Life Ladder": 6.2448,
                    "Log GDP per Capita": 8.9847,
                    "Negative Affect": 0.3025,
                    "Political Stability": "Stable",
                    "Positive Affect": 0.8150000000000001,
                    "Social Support": 0.8168
                  },
                  {
                    "Corruption": 0.9062727272727272,
                    "Country": "Hungary",
                    "Generosity": -0.16,
                    "Life Choice Freedom": 0.6288181818181818,
                    "Life Expectancy": 66.58636363636364,
                    "Life Ladder": 5.386636363636364,
                    "Log GDP per Capita": 10.229818181818182,
                    "Negative Affect": 0.24454545454545454,
                    "Political Stability": "Stable",
                    "Positive Affect": 0.6146363636363636,
                    "Social Support": 0.8986363636363636
                  },
                  {
                    "Corruption": 0.7001666666666666,
                    "Country": "Iceland",
                    "Generosity": 0.2505,
                    "Life Choice Freedom": 0.9346666666666666,
                    "Life Expectancy": 71.85000000000001,
                    "Life Ladder": 7.525166666666667,
                    "Log GDP per Capita": 10.861833333333335,
                    "Negative Affect": 0.16183333333333333,
                    "Political Stability": "Stable",
                    "Positive Affect": 0.8086666666666668,
                    "Social Support": 0.9768333333333333
                  },
                  {
                    "Corruption": 0.8112727272727273,
                    "Country": "India",
                    "Generosity": 0.035727272727272726,
                    "Life Choice Freedom": 0.8121818181818181,
                    "Life Expectancy": 59.01818181818182,
                    "Life Ladder": 4.277636363636364,
                    "Log GDP per Capita": 8.583363636363636,
                    "Negative Affect": 0.32736363636363636,
                    "Political Stability": "Stable",
                    "Positive Affect": 0.5982727272727273,
                    "Social Support": 0.5899090909090909
                  },
                  {
                    "Corruption": 0.9272727272727272,
                    "Country": "Indonesia",
                    "Generosity": 0.4596363636363636,
                    "Life Choice Freedom": 0.8109090909090909,
                    "Life Expectancy": 62.17045454545455,
                    "Life Ladder": 5.243545454545455,
                    "Log GDP per Capita": 9.215636363636364,
                    "Negative Affect": 0.2813636363636363,
                    "Political Stability": "Stable",
                    "Positive Affect": 0.766,
                    "Social Support": 0.8120909090909091
                  },
                  {
                    "Corruption": 0.4528181818181818,
                    "Country": "Ireland",
                    "Generosity": 0.22036363636363634,
                    "Life Choice Freedom": 0.893,
                    "Life Expectancy": 70.67272727272727,
                    "Life Ladder": 7.017272727272727,
                    "Log GDP per Capita": 11.115636363636362,
                    "Negative Affect": 0.22118181818181817,
                    "Political Stability": "Stable",
                    "Positive Affect": 0.7525454545454546,
                    "Social Support": 0.9573636363636363
                  },
                  {
                    "Corruption": 0.9005454545454546,
                    "Country": "Italy",
                    "Generosity": -0.05527272727272727,
                    "Life Choice Freedom": 0.628,
                    "Life Expectancy": 71.56590909090909,
                    "Life Ladder": 6.158,
                    "Log GDP per Capita": 10.626818181818182,
                    "Negative Affect": 0.33054545454545453,
                    "Political Stability": "Stable",
                    "Positive Affect": 0.6208181818181818,
                    "Social Support": 0.8968181818181818
                  },
                  {
                    "Corruption": 0.750125,
                    "Country": "Ivory Coast",
                    "Generosity": -0.047375,
                    "Life Choice Freedom": 0.755,
                    "Life Expectancy": 53.353125,
                    "Life Ladder": 4.6565,
                    "Log GDP per Capita": 8.431375,
                    "Negative Affect": 0.35375,
                    "Political Stability": "Stable",
                    "Positive Affect": 0.65125,
                    "Social Support": 0.6643749999999999
                  },
                  {
                    "Corruption": 0.8841666666666667,
                    "Country": "Jamaica",
                    "Generosity": -0.08816666666666667,
                    "Life Choice Freedom": 0.8358333333333334,
                    "Life Expectancy": 66.6,
                    "Life Ladder": 5.669666666666667,
                    "Log GDP per Capita": 9.188333333333334,
                    "Negative Affect": 0.2605,
                    "Political Stability": "Stable",
                    "Positive Affect": 0.7166666666666667,
                    "Social Support": 0.8758333333333334
                  },
                  {
                    "Corruption": 0.6695,
                    "Country": "Japan",
                    "Generosity": -0.1728,
                    "Life Choice Freedom": 0.8147,
                    "Life Expectancy": 73.64349999999999,
                    "Life Ladder": 5.9768,
                    "Log GDP per Capita": 10.5998,
                    "Negative Affect": 0.1842,
                    "Political Stability": "Stable",
                    "Positive Affect": 0.7006,
                    "Social Support": 0.8999
                  },
                  {
                    "Corruption": 0.7719090909090909,
                    "Country": "Kazakhstan",
                    "Generosity": -0.10972727272727273,
                    "Life Choice Freedom": 0.8105454545454546,
                    "Life Expectancy": 63.127272727272725,
                    "Life Ladder": 5.875272727272727,
                    "Log GDP per Capita": 10.084000000000001,
                    "Negative Affect": 0.161,
                    "Political Stability": "Stable",
                    "Positive Affect": 0.6551818181818182,
                    "Social Support": 0.9101818181818182
                  },
                  {
                    "Corruption": 0.861090909090909,
                    "Country": "Kenya",
                    "Generosity": 0.18336363636363637,
                    "Life Choice Freedom": 0.7486363636363635,
                    "Life Expectancy": 55.93636363636363,
                    "Life Ladder": 4.450909090909091,
                    "Log GDP per Capita": 8.33081818181818,
                    "Negative Affect": 0.2127272727272727,
                    "Political Stability": "Stable",
                    "Positive Affect": 0.7280909090909091,
                    "Social Support": 0.757
                  },
                  {
                    "Corruption": 0.486,
                    "Country": "Kuwait",
                    "Generosity": -0.037,
                    "Life Choice Freedom": 0.703,
                    "Life Expectancy": 69.2,
                    "Life Ladder": 6.798,
                    "Log GDP per Capita": 10.998,
                    "Negative Affect": 0.203,
                    "Political Stability": "Stable",
                    "Positive Affect": 0.687,
                    "Social Support": 0.893
                  },
                  {
                    "Corruption": 0.9017272727272728,
                    "Country": "Kyrgyzstan",
                    "Generosity": 0.06454545454545454,
                    "Life Choice Freedom": 0.8134545454545455,
                    "Life Expectancy": 63.84318181818182,
                    "Life Ladder": 5.309363636363636,
                    "Log GDP per Capita": 8.457818181818181,
                    "Negative Affect": 0.17300000000000001,
                    "Political Stability": "Stable",
                    "Positive Affect": 0.6151818181818182,
                    "Social Support": 0.8829090909090909
                  },
                  {
                    "Corruption": 0.6362,
                    "Country": "Laos",
                    "Generosity": 0.1728,
                    "Life Choice Freedom": 0.9002000000000001,
                    "Life Expectancy": 59.836,
                    "Life Ladder": 4.933400000000001,
                    "Log GDP per Capita": 8.854800000000001,
                    "Negative Affect": 0.313,
                    "Political Stability": "Stable",
                    "Positive Affect": 0.7202,
                    "Social Support": 0.6984
                  },
                  {
                    "Corruption": 0.8341000000000001,
                    "Country": "Latvia",
                    "Generosity": -0.10700000000000001,
                    "Life Choice Freedom": 0.6597,
                    "Life Expectancy": 65.65,
                    "Life Ladder": 5.679,
                    "Log GDP per Capita": 10.2005,
                    "Negative Affect": 0.2204,
                    "Political Stability": "Stable",
                    "Positive Affect": 0.58,
                    "Social Support": 0.8870000000000001
                  },
                  {
                    "Corruption": 0.80575,
                    "Country": "Lesotho",
                    "Generosity": -0.11324999999999999,
                    "Life Choice Freedom": 0.705,
                    "Life Expectancy": 42.7175,
                    "Life Ladder": 4.0032499999999995,
                    "Log GDP per Capita": 7.8427500000000006,
                    "Negative Affect": 0.24200000000000002,
                    "Political Stability": "Stable",
                    "Positive Affect": 0.713,
                    "Social Support": 0.79525
                  },
                  {
                    "Corruption": 0.8648571428571429,
                    "Country": "Liberia",
                    "Generosity": -0.003142857142857144,
                    "Life Choice Freedom": 0.7211428571428572,
                    "Life Expectancy": 53.28857142857142,
                    "Life Ladder": 4.072,
                    "Log GDP per Capita": 7.326428571428571,
                    "Negative Affect": 0.3961428571428572,
                    "Political Stability": "Stable",
                    "Positive Affect": 0.6058571428571428,
                    "Social Support": 0.7057142857142856
                  },
                  {
                    "Corruption": 0.9001818181818181,
                    "Country": "Lithuania",
                    "Generosity": -0.23109090909090912,
                    "Life Choice Freedom": 0.6326363636363636,
                    "Life Expectancy": 65.50454545454545,
                    "Life Ladder": 5.873181818181819,
                    "Log GDP per Capita": 10.334909090909091,
                    "Negative Affect": 0.2561818181818182,
                    "Political Stability": "Stable",
                    "Positive Affect": 0.5518181818181819,
                    "Social Support": 0.9205454545454544
                  },
                  {
                    "Corruption": 0.37170000000000003,
                    "Country": "Luxembourg",
                    "Generosity": 0.028800000000000003,
                    "Life Choice Freedom": 0.9046,
                    "Life Expectancy": 71.225,
                    "Life Ladder": 7.056100000000001,
                    "Log GDP per Capita": 11.6431,
                    "Negative Affect": 0.1981,
                    "Political Stability": "Stable",
                    "Positive Affect": 0.7165999999999999,
                    "Social Support": 0.9186
                  },
                  {
                    "Corruption": 0.8066666666666666,
                    "Country": "Malawi",
                    "Generosity": 0.04455555555555556,
                    "Life Choice Freedom": 0.7701111111111111,
                    "Life Expectancy": 54.333333333333336,
                    "Life Ladder": 3.865333333333333,
                    "Log GDP per Capita": 7.269222222222222,
                    "Negative Affect": 0.2876666666666667,
                    "Political Stability": "Stable",
                    "Positive Affect": 0.6146666666666667,
                    "Social Support": 0.5491111111111111
                  },
                  {
                    "Corruption": 0.8215555555555556,
                    "Country": "Malaysia",
                    "Generosity": 0.121,
                    "Life Choice Freedom": 0.8222222222222223,
                    "Life Expectancy": 65.63333333333334,
                    "Life Ladder": 5.790666666666667,
                    "Log GDP per Capita": 10.065888888888889,
                    "Negative Affect": 0.23111111111111113,
                    "Political Stability": "Stable",
                    "Positive Affect": 0.729,
                    "Social Support": 0.8211111111111111
                  },
                  {
                    "Corruption": 0.6684285714285715,
                    "Country": "Malta",
                    "Generosity": 0.2247142857142857,
                    "Life Choice Freedom": 0.9197142857142858,
                    "Life Expectancy": 71.38142857142857,
                    "Life Ladder": 6.590285714285714,
                    "Log GDP per Capita": 10.635857142857143,
                    "Negative Affect": 0.3467142857142857,
                    "Political Stability": "Stable",
                    "Positive Affect": 0.6345714285714286,
                    "Social Support": 0.9312857142857143
                  },
                  {
                    "Corruption": 0.7234,
                    "Country": "Mauritania",
                    "Generosity": -0.05689999999999999,
                    "Life Choice Freedom": 0.533,
                    "Life Expectancy": 58.675,
                    "Life Ladder": 4.4452,
                    "Log GDP per Capita": 8.532399999999999,
                    "Negative Affect": 0.2051,
                    "Political Stability": "Stable",
                    "Positive Affect": 0.7191,
                    "Social Support": 0.8003
                  },
                  {
                    "Corruption": 0.8288571428571428,
                    "Country": "Mauritius",
                    "Generosity": 0.05685714285714286,
                    "Life Choice Freedom": 0.858,
                    "Life Expectancy": 63.86071428571428,
                    "Life Ladder": 5.863857142857142,
                    "Log GDP per Capita": 9.956857142857144,
                    "Negative Affect": 0.1907142857142857,
                    "Political Stability": "Stable",
                    "Positive Affect": 0.7038571428571428,
                    "Social Support": 0.8637142857142858
                  },
                  {
                    "Corruption": 0.7257272727272728,
                    "Country": "Mexico",
                    "Generosity": -0.136,
                    "Life Choice Freedom": 0.8035454545454546,
                    "Life Expectancy": 65.60909090909091,
                    "Life Ladder": 6.688272727272727,
                    "Log GDP per Capita": 9.862727272727271,
                    "Negative Affect": 0.238,
                    "Political Stability": "Stable",
                    "Positive Affect": 0.7566363636363637,
                    "Social Support": 0.8137272727272727
                  },
                  {
                    "Corruption": 0.8961818181818182,
                    "Country": "Mongolia",
                    "Generosity": 0.12054545454545455,
                    "Life Choice Freedom": 0.7059090909090909,
                    "Life Expectancy": 59.46363636363637,
                    "Life Ladder": 5.150272727272728,
                    "Log GDP per Capita": 9.263818181818182,
                    "Negative Affect": 0.1859090909090909,
                    "Political Stability": "Stable",
                    "Positive Affect": 0.5460909090909092,
                    "Social Support": 0.9301818181818181
                  },
                  {
                    "Corruption": 0.8104444444444444,
                    "Country": "Morocco",
                    "Generosity": -0.227,
                    "Life Choice Freedom": 0.7334444444444445,
                    "Life Expectancy": 63.306666666666665,
                    "Life Ladder": 5.0905555555555555,
                    "Log GDP per Capita": 8.888444444444444,
                    "Negative Affect": 0.2865555555555555,
                    "Political Stability": "Stable",
                    "Positive Affect": 0.6053333333333334,
                    "Social Support": 0.6277777777777778
                  },
                  {
                    "Corruption": 0.8311999999999999,
                    "Country": "Namibia",
                    "Generosity": -0.1688,
                    "Life Choice Freedom": 0.7636000000000001,
                    "Life Expectancy": 55.58200000000001,
                    "Life Ladder": 4.547199999999999,
                    "Log GDP per Capita": 9.213,
                    "Negative Affect": 0.252,
                    "Political Stability": "Stable",
                    "Positive Affect": 0.6824,
                    "Social Support": 0.8082
                  },
                  {
                    "Corruption": 0.8294545454545456,
                    "Country": "Nepal",
                    "Generosity": 0.11572727272727272,
                    "Life Choice Freedom": 0.7177272727272727,
                    "Life Expectancy": 60.49318181818182,
                    "Life Ladder": 4.814727272727273,
                    "Log GDP per Capita": 8.082181818181818,
                    "Negative Affect": 0.3104545454545455,
                    "Political Stability": "Stable",
                    "Positive Affect": 0.4913636363636364,
                    "Social Support": 0.7734545454545454
                  },
                  {
                    "Corruption": 0.3976363636363636,
                    "Country": "Netherlands",
                    "Generosity": 0.25827272727272726,
                    "Life Choice Freedom": 0.9112727272727273,
                    "Life Expectancy": 71.14772727272727,
                    "Life Ladder": 7.452818181818182,
                    "Log GDP per Capita": 10.888454545454545,
                    "Negative Affect": 0.214,
                    "Political Stability": "Stable",
                    "Positive Affect": 0.7439999999999999,
                    "Social Support": 0.9303636363636364
                  },
                  {
                    "Corruption": 0.26127272727272727,
                    "Country": "New Zealand",
                    "Generosity": 0.24036363636363636,
                    "Life Choice Freedom": 0.9291818181818182,
                    "Life Expectancy": 69.97500000000001,
                    "Life Ladder": 7.277636363636364,
                    "Log GDP per Capita": 10.611181818181818,
                    "Negative Affect": 0.19172727272727272,
                    "Political Stability": "Stable",
                    "Positive Affect": 0.7835454545454545,
                    "Social Support": 0.9530909090909091
                  },
                  {
                    "Corruption": 0.6944545454545454,
                    "Country": "Nicaragua",
                    "Generosity": 0.03154545454545454,
                    "Life Choice Freedom": 0.822090909090909,
                    "Life Expectancy": 65.1659090909091,
                    "Life Ladder": 5.927272727272728,
                    "Log GDP per Capita": 8.574727272727273,
                    "Negative Affect": 0.3210909090909091,
                    "Political Stability": "Stable",
                    "Positive Affect": 0.7726363636363637,
                    "Social Support": 0.8514545454545455
                  },
                  {
                    "Corruption": 0.31775,
                    "Country": "Norway",
                    "Generosity": 0.148375,
                    "Life Choice Freedom": 0.954625,
                    "Life Expectancy": 71.19375,
                    "Life Ladder": 7.5095,
                    "Log GDP per Capita": 11.0565,
                    "Negative Affect": 0.206375,
                    "Political Stability": "Stable",
                    "Positive Affect": 0.7937500000000001,
                    "Social Support": 0.9512499999999999
                  },
                  {
                    "Corruption": 0.8371000000000001,
                    "Country": "Panama",
                    "Generosity": -0.0632,
                    "Life Choice Freedom": 0.8446999999999999,
                    "Life Expectancy": 68.16,
                    "Life Ladder": 6.658499999999999,
                    "Log GDP per Capita": 10.2162,
                    "Negative Affect": 0.223,
                    "Political Stability": "Stable",
                    "Positive Affect": 0.8257999999999999,
                    "Social Support": 0.8936999999999999
                  },
                  {
                    "Corruption": 0.8115,
                    "Country": "Paraguay",
                    "Generosity": 0.044,
                    "Life Choice Freedom": 0.8099999999999999,
                    "Life Expectancy": 65.53999999999999,
                    "Life Ladder": 5.662100000000001,
                    "Log GDP per Capita": 9.435500000000001,
                    "Negative Affect": 0.22110000000000002,
                    "Political Stability": "Stable",
                    "Positive Affect": 0.829,
                    "Social Support": 0.9141999999999999
                  },
                  {
                    "Corruption": 0.8779090909090909,
                    "Country": "Peru",
                    "Generosity": -0.11545454545454546,
                    "Life Choice Freedom": 0.7789090909090909,
                    "Life Expectancy": 68.68409090909091,
                    "Life Ladder": 5.694636363636364,
                    "Log GDP per Capita": 9.362363636363638,
                    "Negative Affect": 0.374,
                    "Political Stability": "Stable",
                    "Positive Affect": 0.7537272727272728,
                    "Social Support": 0.7983636363636364
                  },
                  {
                    "Corruption": 0.8195454545454546,
                    "Country": "Poland",
                    "Generosity": -0.10245454545454545,
                    "Life Choice Freedom": 0.8309090909090909,
                    "Life Expectancy": 67.99318181818181,
                    "Life Ladder": 5.978818181818181,
                    "Log GDP per Capita": 10.238181818181818,
                    "Negative Affect": 0.23,
                    "Political Stability": "Stable",
                    "Positive Affect": 0.6533636363636364,
                    "Social Support": 0.9107272727272728
                  },
                  {
                    "Corruption": 0.9238181818181818,
                    "Country": "Portugal",
                    "Generosity": -0.17827272727272725,
                    "Life Choice Freedom": 0.8381818181818183,
                    "Life Expectancy": 70.34318181818182,
                    "Life Ladder": 5.419636363636363,
                    "Log GDP per Capita": 10.369,
                    "Negative Affect": 0.32836363636363636,
                    "Political Stability": "Stable",
                    "Positive Affect": 0.6492727272727273,
                    "Social Support": 0.874909090909091
                  },
                  {
                    "Corruption": 0.9488181818181818,
                    "Country": "Romania",
                    "Generosity": -0.14754545454545454,
                    "Life Choice Freedom": 0.753,
                    "Life Expectancy": 66.22500000000001,
                    "Life Ladder": 5.71,
                    "Log GDP per Capita": 10.108909090909092,
                    "Negative Affect": 0.29454545454545455,
                    "Political Stability": "Stable",
                    "Positive Affect": 0.5867272727272727,
                    "Social Support": 0.7862727272727273
                  },
                  {
                    "Corruption": 0.8136363636363636,
                    "Country": "Senegal",
                    "Generosity": -0.07145454545454545,
                    "Life Choice Freedom": 0.7045454545454546,
                    "Life Expectancy": 58.2,
                    "Life Ladder": 4.438818181818181,
                    "Log GDP per Capita": 8.025454545454545,
                    "Negative Affect": 0.22272727272727275,
                    "Political Stability": "Stable",
                    "Positive Affect": 0.7298181818181818,
                    "Social Support": 0.7349999999999999
                  },
                  {
                    "Corruption": 0.8922727272727272,
                    "Country": "Serbia",
                    "Generosity": -0.06845454545454545,
                    "Life Choice Freedom": 0.600909090909091,
                    "Life Expectancy": 66.37954545454546,
                    "Life Ladder": 5.368909090909091,
                    "Log GDP per Capita": 9.685,
                    "Negative Affect": 0.3407272727272727,
                    "Political Stability": "Stable",
                    "Positive Affect": 0.4870909090909091,
                    "Social Support": 0.8301818181818181
                  },
                  {
                    "Corruption": 0.11211111111111112,
                    "Country": "Singapore",
                    "Generosity": 0.049666666666666665,
                    "Life Choice Freedom": 0.8778888888888888,
                    "Life Expectancy": 73.07111111111111,
                    "Life Ladder": 6.496777777777778,
                    "Log GDP per Capita": 11.398,
                    "Negative Affect": 0.14222222222222222,
                    "Political Stability": "Stable",
                    "Positive Affect": 0.6671111111111112,
                    "Social Support": 0.8793333333333333
                  },
                  {
                    "Corruption": 0.9138181818181818,
                    "Country": "Slovakia",
                    "Generosity": -0.08490909090909092,
                    "Life Choice Freedom": 0.6825454545454546,
                    "Life Expectancy": 67.60681818181818,
                    "Life Ladder": 6.1365454545454545,
                    "Log GDP per Capita": 10.257727272727273,
                    "Negative Affect": 0.2639090909090909,
                    "Political Stability": "Stable",
                    "Positive Affect": 0.6433636363636364,
                    "Social Support": 0.9278181818181818
                  },
                  {
                    "Corruption": 0.8578181818181818,
                    "Country": "Slovenia",
                    "Generosity": -0.03145454545454545,
                    "Life Choice Freedom": 0.9137272727272727,
                    "Life Expectancy": 70.02045454545454,
                    "Life Ladder": 6.096,
                    "Log GDP per Capita": 10.458727272727272,
                    "Negative Affect": 0.2786363636363636,
                    "Political Stability": "Stable",
                    "Positive Affect": 0.6015454545454545,
                    "Social Support": 0.9289999999999999
                  },
                  {
                    "Corruption": 0.7979,
                    "Country": "South Korea",
                    "Generosity": -0.0462,
                    "Life Choice Freedom": 0.6386000000000001,
                    "Life Expectancy": 72.1485,
                    "Life Ladder": 5.9984,
                    "Log GDP per Capita": 10.5725,
                    "Negative Affect": 0.2182,
                    "Political Stability": "Stable",
                    "Positive Affect": 0.5789,
                    "Social Support": 0.7935000000000001
                  },
                  {
                    "Corruption": 0.8153636363636363,
                    "Country": "Spain",
                    "Generosity": -0.08081818181818182,
                    "Life Choice Freedom": 0.7641818181818182,
                    "Life Expectancy": 71.60681818181818,
                    "Life Ladder": 6.364090909090908,
                    "Log GDP per Capita": 10.533545454545454,
                    "Negative Affect": 0.32990909090909093,
                    "Political Stability": "Stable",
                    "Positive Affect": 0.6528181818181819,
                    "Social Support": 0.9366363636363637
                  },
                  {
                    "Corruption": 0.8175000000000001,
                    "Country": "Sri Lanka",
                    "Generosity": 0.15940000000000001,
                    "Life Choice Freedom": 0.8278000000000001,
                    "Life Expectancy": 66.02000000000001,
                    "Life Ladder": 4.3385,
                    "Log GDP per Capita": 9.3905,
                    "Negative Affect": 0.23369999999999996,
                    "Political Stability": "Stable",
                    "Positive Affect": 0.7558,
                    "Social Support": 0.827
                  },
                  {
                    "Corruption": 0.751,
                    "Country": "Suriname",
                    "Generosity": -0.086,
                    "Life Choice Freedom": 0.885,
                    "Life Expectancy": 62.84,
                    "Life Ladder": 6.269,
                    "Log GDP per Capita": 9.874,
                    "Negative Affect": 0.25,
                    "Political Stability": "Stable",
                    "Positive Affect": 0.73,
                    "Social Support": 0.797
                  },
                  {
                    "Corruption": 0.253,
                    "Country": "Sweden",
                    "Generosity": 0.14018181818181819,
                    "Life Choice Freedom": 0.9358181818181819,
                    "Life Expectancy": 71.51590909090909,
                    "Life Ladder": 7.376636363636364,
                    "Log GDP per Capita": 10.825636363636363,
                    "Negative Affect": 0.19027272727272726,
                    "Political Stability": "Stable",
                    "Positive Affect": 0.7667272727272728,
                    "Social Support": 0.9295454545454546
                  },
                  {
                    "Corruption": 0.288625,
                    "Country": "Switzerland",
                    "Generosity": 0.074125,
                    "Life Choice Freedom": 0.929625,
                    "Life Expectancy": 72.045,
                    "Life Ladder": 7.560625,
                    "Log GDP per Capita": 11.139125,
                    "Negative Affect": 0.186125,
                    "Political Stability": "Stable",
                    "Positive Affect": 0.762,
                    "Social Support": 0.943375
                  },
                  {
                    "Corruption": 0.821,
                    "Country": "Taiwan Province of China",
                    "Generosity": 0.001,
                    "Life Choice Freedom": 0.677,
                    "Life Expectancy": 69.6,
                    "Life Ladder": 6.229,
                    "Log GDP per Capita": 10.681,
                    "Negative Affect": 0.136,
                    "Political Stability": "Stable",
                    "Positive Affect": 0.738,
                    "Social Support": 0.831
                  },
                  {
                    "Corruption": 0.757,
                    "Country": "Tanzania",
                    "Generosity": 0.133,
                    "Life Choice Freedom": 0.7308181818181818,
                    "Life Expectancy": 56.41363636363636,
                    "Life Ladder": 3.5842727272727273,
                    "Log GDP per Capita": 7.738272727272727,
                    "Negative Affect": 0.21327272727272728,
                    "Political Stability": "Stable",
                    "Positive Affect": 0.6721818181818182,
                    "Social Support": 0.7595454545454546
                  },
                  {
                    "Corruption": 0.9065454545454545,
                    "Country": "Thailand",
                    "Generosity": 0.3663636363636364,
                    "Life Choice Freedom": 0.8809090909090909,
                    "Life Expectancy": 67.85681818181818,
                    "Life Ladder": 6.23009090909091,
                    "Log GDP per Capita": 9.679,
                    "Negative Affect": 0.19118181818181815,
                    "Political Stability": "Stable",
                    "Positive Affect": 0.7958181818181818,
                    "Social Support": 0.8946363636363638
                  },
                  {
                    "Corruption": 0.7781428571428571,
                    "Country": "Togo",
                    "Generosity": -0.051,
                    "Life Choice Freedom": 0.6707142857142857,
                    "Life Expectancy": 54.6,
                    "Life Ladder": 3.712142857142857,
                    "Log GDP per Capita": 7.551714285714286,
                    "Negative Affect": 0.4361428571428571,
                    "Political Stability": "Stable",
                    "Positive Affect": 0.5778571428571428,
                    "Social Support": 0.4825714285714286
                  },
                  {
                    "Corruption": 0.9196666666666666,
                    "Country": "Trinidad and Tobago",
                    "Generosity": 0.071,
                    "Life Choice Freedom": 0.827,
                    "Life Expectancy": 64.60666666666667,
                    "Life Ladder": 6.293,
                    "Log GDP per Capita": 10.224333333333332,
                    "Negative Affect": 0.22266666666666665,
                    "Political Stability": "Stable",
                    "Positive Affect": 0.7846666666666667,
                    "Social Support": 0.8873333333333333
                  },
                  {
                    "Corruption": 0.355,
                    "Country": "United Arab Emirates",
                    "Generosity": 0.053,
                    "Life Choice Freedom": 0.878,
                    "Life Expectancy": 65.1,
                    "Life Ladder": 7.097,
                    "Log GDP per Capita": 10.909,
                    "Negative Affect": 0.233,
                    "Political Stability": "Stable",
                    "Positive Affect": 0.701,
                    "Social Support": 0.912
                  },
                  {
                    "Corruption": 0.474,
                    "Country": "United Kingdom",
                    "Generosity": 0.30009090909090913,
                    "Life Choice Freedom": 0.8578181818181818,
                    "Life Expectancy": 69.75454545454545,
                    "Life Ladder": 6.916818181818181,
                    "Log GDP per Capita": 10.69909090909091,
                    "Negative Affect": 0.21818181818181817,
                    "Political Stability": "Stable",
                    "Positive Affect": 0.7335454545454545,
                    "Social Support": 0.9375454545454546
                  },
                  {
                    "Corruption": 0.7053636363636363,
                    "Country": "United States",
                    "Generosity": 0.17454545454545453,
                    "Life Choice Freedom": 0.8325454545454545,
                    "Life Expectancy": 66.45681818181818,
                    "Life Ladder": 7.02,
                    "Log GDP per Capita": 10.971,
                    "Negative Affect": 0.26754545454545453,
                    "Political Stability": "Stable",
                    "Positive Affect": 0.7577272727272728,
                    "Social Support": 0.9143636363636364
                  },
                  {
                    "Corruption": 0.5918181818181818,
                    "Country": "Uruguay",
                    "Generosity": -0.07845454545454546,
                    "Life Choice Freedom": 0.8849090909090909,
                    "Life Expectancy": 67.39090909090909,
                    "Life Ladder": 6.408,
                    "Log GDP per Capita": 9.995090909090909,
                    "Negative Affect": 0.2569090909090909,
                    "Political Stability": "Stable",
                    "Positive Affect": 0.7465454545454545,
                    "Social Support": 0.904
                  },
                  {
                    "Corruption": 0.782125,
                    "Country": "Vietnam",
                    "Generosity": -0.04525,
                    "Life Choice Freedom": 0.890625,
                    "Life Expectancy": 64.9225,
                    "Life Ladder": 5.3635,
                    "Log GDP per Capita": 9.001,
                    "Negative Affect": 0.210125,
                    "Political Stability": "Stable",
                    "Positive Affect": 0.60725,
                    "Social Support": 0.8175
                  }
                ]
              },
              "vconcat": [
                {
                  "hconcat": [
                    {
                      "height": 180,
                      "layer": [
                        {
                          "data": {
                            "name": "data-c93f45460033434403eb6c99010bc3bb"
                          },
                          "encoding": {
                            "color": {
                              "value": "blue"
                            },
                            "x": {
                              "field": "Log GDP per Capita",
                              "scale": {
                                "zero": false
                              },
                              "title": "Log GDP per Capita",
                              "type": "quantitative"
                            },
                            "y": {
                              "field": "Life Ladder",
                              "scale": {
                                "zero": false
                              },
                              "title": "Life Ladder",
                              "type": "quantitative"
                            }
                          },
                          "mark": "circle"
                        },
                        {
                          "data": {
                            "name": "data-25dbe36bf44e97cc83e550d21cd19939"
                          },
                          "encoding": {
                            "color": {
                              "value": "red"
                            },
                            "x": {
                              "field": "Log GDP per Capita",
                              "scale": {
                                "zero": false
                              },
                              "title": "Log GDP per Capita",
                              "type": "quantitative"
                            },
                            "y": {
                              "field": "Life Ladder",
                              "scale": {
                                "zero": false
                              },
                              "title": "Life Ladder",
                              "type": "quantitative"
                            }
                          },
                          "mark": "circle"
                        },
                        {
                          "data": {
                            "name": "data-c93f45460033434403eb6c99010bc3bb"
                          },
                          "encoding": {
                            "color": {
                              "value": "blue"
                            },
                            "x": {
                              "field": "Log GDP per Capita",
                              "title": "Log GDP per Capita",
                              "type": "quantitative"
                            },
                            "y": {
                              "field": "Life Ladder",
                              "title": "Life Ladder",
                              "type": "quantitative"
                            }
                          },
                          "mark": "line",
                          "transform": [
                            {
                              "bandwidth": 1,
                              "groupby": [
                                "Political Stability"
                              ],
                              "loess": "Life Ladder",
                              "on": "Log GDP per Capita"
                            }
                          ]
                        },
                        {
                          "data": {
                            "name": "data-25dbe36bf44e97cc83e550d21cd19939"
                          },
                          "encoding": {
                            "color": {
                              "value": "red"
                            },
                            "x": {
                              "field": "Log GDP per Capita",
                              "title": "Log GDP per Capita",
                              "type": "quantitative"
                            },
                            "y": {
                              "field": "Life Ladder",
                              "title": "Life Ladder",
                              "type": "quantitative"
                            }
                          },
                          "mark": "line",
                          "transform": [
                            {
                              "bandwidth": 1,
                              "groupby": [
                                "Political Stability"
                              ],
                              "loess": "Life Ladder",
                              "on": "Log GDP per Capita"
                            }
                          ]
                        }
                      ],
                      "resolve": {
                        "scale": {
                          "color": "independent"
                        }
                      },
                      "width": 180
                    },
                    {
                      "height": 180,
                      "layer": [
                        {
                          "data": {
                            "name": "data-c93f45460033434403eb6c99010bc3bb"
                          },
                          "encoding": {
                            "color": {
                              "value": "blue"
                            },
                            "x": {
                              "field": "Social Support",
                              "scale": {
                                "zero": false
                              },
                              "title": "Social Support",
                              "type": "quantitative"
                            },
                            "y": {
                              "field": "Life Ladder",
                              "scale": {
                                "zero": false
                              },
                              "title": "Life Ladder",
                              "type": "quantitative"
                            }
                          },
                          "mark": "circle"
                        },
                        {
                          "data": {
                            "name": "data-25dbe36bf44e97cc83e550d21cd19939"
                          },
                          "encoding": {
                            "color": {
                              "value": "red"
                            },
                            "x": {
                              "field": "Social Support",
                              "scale": {
                                "zero": false
                              },
                              "title": "Social Support",
                              "type": "quantitative"
                            },
                            "y": {
                              "field": "Life Ladder",
                              "scale": {
                                "zero": false
                              },
                              "title": "Life Ladder",
                              "type": "quantitative"
                            }
                          },
                          "mark": "circle"
                        },
                        {
                          "data": {
                            "name": "data-c93f45460033434403eb6c99010bc3bb"
                          },
                          "encoding": {
                            "color": {
                              "value": "blue"
                            },
                            "x": {
                              "field": "Social Support",
                              "title": "Social Support",
                              "type": "quantitative"
                            },
                            "y": {
                              "field": "Life Ladder",
                              "title": "Life Ladder",
                              "type": "quantitative"
                            }
                          },
                          "mark": "line",
                          "transform": [
                            {
                              "bandwidth": 1,
                              "groupby": [
                                "Political Stability"
                              ],
                              "loess": "Life Ladder",
                              "on": "Social Support"
                            }
                          ]
                        },
                        {
                          "data": {
                            "name": "data-25dbe36bf44e97cc83e550d21cd19939"
                          },
                          "encoding": {
                            "color": {
                              "value": "red"
                            },
                            "x": {
                              "field": "Social Support",
                              "title": "Social Support",
                              "type": "quantitative"
                            },
                            "y": {
                              "field": "Life Ladder",
                              "title": "Life Ladder",
                              "type": "quantitative"
                            }
                          },
                          "mark": "line",
                          "transform": [
                            {
                              "bandwidth": 1,
                              "groupby": [
                                "Political Stability"
                              ],
                              "loess": "Life Ladder",
                              "on": "Social Support"
                            }
                          ]
                        }
                      ],
                      "resolve": {
                        "scale": {
                          "color": "independent"
                        }
                      },
                      "width": 180
                    },
                    {
                      "height": 180,
                      "layer": [
                        {
                          "data": {
                            "name": "data-c93f45460033434403eb6c99010bc3bb"
                          },
                          "encoding": {
                            "color": {
                              "value": "blue"
                            },
                            "x": {
                              "field": "Life Expectancy",
                              "scale": {
                                "zero": false
                              },
                              "title": "Life Expectancy",
                              "type": "quantitative"
                            },
                            "y": {
                              "field": "Life Ladder",
                              "scale": {
                                "zero": false
                              },
                              "title": "Life Ladder",
                              "type": "quantitative"
                            }
                          },
                          "mark": "circle"
                        },
                        {
                          "data": {
                            "name": "data-25dbe36bf44e97cc83e550d21cd19939"
                          },
                          "encoding": {
                            "color": {
                              "value": "red"
                            },
                            "x": {
                              "field": "Life Expectancy",
                              "scale": {
                                "zero": false
                              },
                              "title": "Life Expectancy",
                              "type": "quantitative"
                            },
                            "y": {
                              "field": "Life Ladder",
                              "scale": {
                                "zero": false
                              },
                              "title": "Life Ladder",
                              "type": "quantitative"
                            }
                          },
                          "mark": "circle"
                        },
                        {
                          "data": {
                            "name": "data-c93f45460033434403eb6c99010bc3bb"
                          },
                          "encoding": {
                            "color": {
                              "value": "blue"
                            },
                            "x": {
                              "field": "Life Expectancy",
                              "title": "Life Expectancy",
                              "type": "quantitative"
                            },
                            "y": {
                              "field": "Life Ladder",
                              "title": "Life Ladder",
                              "type": "quantitative"
                            }
                          },
                          "mark": "line",
                          "transform": [
                            {
                              "bandwidth": 1,
                              "groupby": [
                                "Political Stability"
                              ],
                              "loess": "Life Ladder",
                              "on": "Life Expectancy"
                            }
                          ]
                        },
                        {
                          "data": {
                            "name": "data-25dbe36bf44e97cc83e550d21cd19939"
                          },
                          "encoding": {
                            "color": {
                              "value": "red"
                            },
                            "x": {
                              "field": "Life Expectancy",
                              "title": "Life Expectancy",
                              "type": "quantitative"
                            },
                            "y": {
                              "field": "Life Ladder",
                              "title": "Life Ladder",
                              "type": "quantitative"
                            }
                          },
                          "mark": "line",
                          "transform": [
                            {
                              "bandwidth": 1,
                              "groupby": [
                                "Political Stability"
                              ],
                              "loess": "Life Ladder",
                              "on": "Life Expectancy"
                            }
                          ]
                        }
                      ],
                      "resolve": {
                        "scale": {
                          "color": "independent"
                        }
                      },
                      "width": 180
                    },
                    {
                      "height": 180,
                      "layer": [
                        {
                          "data": {
                            "name": "data-c93f45460033434403eb6c99010bc3bb"
                          },
                          "encoding": {
                            "color": {
                              "value": "blue"
                            },
                            "x": {
                              "field": "Life Choice Freedom",
                              "scale": {
                                "zero": false
                              },
                              "title": "Life Choice Freedom",
                              "type": "quantitative"
                            },
                            "y": {
                              "field": "Life Ladder",
                              "scale": {
                                "zero": false
                              },
                              "title": "Life Ladder",
                              "type": "quantitative"
                            }
                          },
                          "mark": "circle"
                        },
                        {
                          "data": {
                            "name": "data-25dbe36bf44e97cc83e550d21cd19939"
                          },
                          "encoding": {
                            "color": {
                              "value": "red"
                            },
                            "x": {
                              "field": "Life Choice Freedom",
                              "scale": {
                                "zero": false
                              },
                              "title": "Life Choice Freedom",
                              "type": "quantitative"
                            },
                            "y": {
                              "field": "Life Ladder",
                              "scale": {
                                "zero": false
                              },
                              "title": "Life Ladder",
                              "type": "quantitative"
                            }
                          },
                          "mark": "circle"
                        },
                        {
                          "data": {
                            "name": "data-c93f45460033434403eb6c99010bc3bb"
                          },
                          "encoding": {
                            "color": {
                              "value": "blue"
                            },
                            "x": {
                              "field": "Life Choice Freedom",
                              "title": "Life Choice Freedom",
                              "type": "quantitative"
                            },
                            "y": {
                              "field": "Life Ladder",
                              "title": "Life Ladder",
                              "type": "quantitative"
                            }
                          },
                          "mark": "line",
                          "transform": [
                            {
                              "bandwidth": 1,
                              "groupby": [
                                "Political Stability"
                              ],
                              "loess": "Life Ladder",
                              "on": "Life Choice Freedom"
                            }
                          ]
                        },
                        {
                          "data": {
                            "name": "data-25dbe36bf44e97cc83e550d21cd19939"
                          },
                          "encoding": {
                            "color": {
                              "value": "red"
                            },
                            "x": {
                              "field": "Life Choice Freedom",
                              "title": "Life Choice Freedom",
                              "type": "quantitative"
                            },
                            "y": {
                              "field": "Life Ladder",
                              "title": "Life Ladder",
                              "type": "quantitative"
                            }
                          },
                          "mark": "line",
                          "transform": [
                            {
                              "bandwidth": 1,
                              "groupby": [
                                "Political Stability"
                              ],
                              "loess": "Life Ladder",
                              "on": "Life Choice Freedom"
                            }
                          ]
                        }
                      ],
                      "resolve": {
                        "scale": {
                          "color": "independent"
                        }
                      },
                      "width": 180
                    }
                  ]
                },
                {
                  "hconcat": [
                    {
                      "height": 180,
                      "layer": [
                        {
                          "data": {
                            "name": "data-c93f45460033434403eb6c99010bc3bb"
                          },
                          "encoding": {
                            "color": {
                              "value": "blue"
                            },
                            "x": {
                              "field": "Generosity",
                              "scale": {
                                "zero": false
                              },
                              "title": "Generosity",
                              "type": "quantitative"
                            },
                            "y": {
                              "field": "Life Ladder",
                              "scale": {
                                "zero": false
                              },
                              "title": "Life Ladder",
                              "type": "quantitative"
                            }
                          },
                          "mark": "circle"
                        },
                        {
                          "data": {
                            "name": "data-25dbe36bf44e97cc83e550d21cd19939"
                          },
                          "encoding": {
                            "color": {
                              "value": "red"
                            },
                            "x": {
                              "field": "Generosity",
                              "scale": {
                                "zero": false
                              },
                              "title": "Generosity",
                              "type": "quantitative"
                            },
                            "y": {
                              "field": "Life Ladder",
                              "scale": {
                                "zero": false
                              },
                              "title": "Life Ladder",
                              "type": "quantitative"
                            }
                          },
                          "mark": "circle"
                        },
                        {
                          "data": {
                            "name": "data-c93f45460033434403eb6c99010bc3bb"
                          },
                          "encoding": {
                            "color": {
                              "value": "blue"
                            },
                            "x": {
                              "field": "Generosity",
                              "title": "Generosity",
                              "type": "quantitative"
                            },
                            "y": {
                              "field": "Life Ladder",
                              "title": "Life Ladder",
                              "type": "quantitative"
                            }
                          },
                          "mark": "line",
                          "transform": [
                            {
                              "bandwidth": 1,
                              "groupby": [
                                "Political Stability"
                              ],
                              "loess": "Life Ladder",
                              "on": "Generosity"
                            }
                          ]
                        },
                        {
                          "data": {
                            "name": "data-25dbe36bf44e97cc83e550d21cd19939"
                          },
                          "encoding": {
                            "color": {
                              "value": "red"
                            },
                            "x": {
                              "field": "Generosity",
                              "title": "Generosity",
                              "type": "quantitative"
                            },
                            "y": {
                              "field": "Life Ladder",
                              "title": "Life Ladder",
                              "type": "quantitative"
                            }
                          },
                          "mark": "line",
                          "transform": [
                            {
                              "bandwidth": 1,
                              "groupby": [
                                "Political Stability"
                              ],
                              "loess": "Life Ladder",
                              "on": "Generosity"
                            }
                          ]
                        }
                      ],
                      "resolve": {
                        "scale": {
                          "color": "independent"
                        }
                      },
                      "width": 180
                    },
                    {
                      "height": 180,
                      "layer": [
                        {
                          "data": {
                            "name": "data-c93f45460033434403eb6c99010bc3bb"
                          },
                          "encoding": {
                            "color": {
                              "value": "blue"
                            },
                            "x": {
                              "field": "Corruption",
                              "scale": {
                                "zero": false
                              },
                              "title": "Corruption",
                              "type": "quantitative"
                            },
                            "y": {
                              "field": "Life Ladder",
                              "scale": {
                                "zero": false
                              },
                              "title": "Life Ladder",
                              "type": "quantitative"
                            }
                          },
                          "mark": "circle"
                        },
                        {
                          "data": {
                            "name": "data-25dbe36bf44e97cc83e550d21cd19939"
                          },
                          "encoding": {
                            "color": {
                              "value": "red"
                            },
                            "x": {
                              "field": "Corruption",
                              "scale": {
                                "zero": false
                              },
                              "title": "Corruption",
                              "type": "quantitative"
                            },
                            "y": {
                              "field": "Life Ladder",
                              "scale": {
                                "zero": false
                              },
                              "title": "Life Ladder",
                              "type": "quantitative"
                            }
                          },
                          "mark": "circle"
                        },
                        {
                          "data": {
                            "name": "data-c93f45460033434403eb6c99010bc3bb"
                          },
                          "encoding": {
                            "color": {
                              "value": "blue"
                            },
                            "x": {
                              "field": "Corruption",
                              "title": "Corruption",
                              "type": "quantitative"
                            },
                            "y": {
                              "field": "Life Ladder",
                              "title": "Life Ladder",
                              "type": "quantitative"
                            }
                          },
                          "mark": "line",
                          "transform": [
                            {
                              "bandwidth": 1,
                              "groupby": [
                                "Political Stability"
                              ],
                              "loess": "Life Ladder",
                              "on": "Corruption"
                            }
                          ]
                        },
                        {
                          "data": {
                            "name": "data-25dbe36bf44e97cc83e550d21cd19939"
                          },
                          "encoding": {
                            "color": {
                              "value": "red"
                            },
                            "x": {
                              "field": "Corruption",
                              "title": "Corruption",
                              "type": "quantitative"
                            },
                            "y": {
                              "field": "Life Ladder",
                              "title": "Life Ladder",
                              "type": "quantitative"
                            }
                          },
                          "mark": "line",
                          "transform": [
                            {
                              "bandwidth": 1,
                              "groupby": [
                                "Political Stability"
                              ],
                              "loess": "Life Ladder",
                              "on": "Corruption"
                            }
                          ]
                        }
                      ],
                      "resolve": {
                        "scale": {
                          "color": "independent"
                        }
                      },
                      "width": 180
                    },
                    {
                      "height": 180,
                      "layer": [
                        {
                          "data": {
                            "name": "data-c93f45460033434403eb6c99010bc3bb"
                          },
                          "encoding": {
                            "color": {
                              "value": "blue"
                            },
                            "x": {
                              "field": "Positive Affect",
                              "scale": {
                                "zero": false
                              },
                              "title": "Positive Affect",
                              "type": "quantitative"
                            },
                            "y": {
                              "field": "Life Ladder",
                              "scale": {
                                "zero": false
                              },
                              "title": "Life Ladder",
                              "type": "quantitative"
                            }
                          },
                          "mark": "circle"
                        },
                        {
                          "data": {
                            "name": "data-25dbe36bf44e97cc83e550d21cd19939"
                          },
                          "encoding": {
                            "color": {
                              "value": "red"
                            },
                            "x": {
                              "field": "Positive Affect",
                              "scale": {
                                "zero": false
                              },
                              "title": "Positive Affect",
                              "type": "quantitative"
                            },
                            "y": {
                              "field": "Life Ladder",
                              "scale": {
                                "zero": false
                              },
                              "title": "Life Ladder",
                              "type": "quantitative"
                            }
                          },
                          "mark": "circle"
                        },
                        {
                          "data": {
                            "name": "data-c93f45460033434403eb6c99010bc3bb"
                          },
                          "encoding": {
                            "color": {
                              "value": "blue"
                            },
                            "x": {
                              "field": "Positive Affect",
                              "title": "Positive Affect",
                              "type": "quantitative"
                            },
                            "y": {
                              "field": "Life Ladder",
                              "title": "Life Ladder",
                              "type": "quantitative"
                            }
                          },
                          "mark": "line",
                          "transform": [
                            {
                              "bandwidth": 1,
                              "groupby": [
                                "Political Stability"
                              ],
                              "loess": "Life Ladder",
                              "on": "Positive Affect"
                            }
                          ]
                        },
                        {
                          "data": {
                            "name": "data-25dbe36bf44e97cc83e550d21cd19939"
                          },
                          "encoding": {
                            "color": {
                              "value": "red"
                            },
                            "x": {
                              "field": "Positive Affect",
                              "title": "Positive Affect",
                              "type": "quantitative"
                            },
                            "y": {
                              "field": "Life Ladder",
                              "title": "Life Ladder",
                              "type": "quantitative"
                            }
                          },
                          "mark": "line",
                          "transform": [
                            {
                              "bandwidth": 1,
                              "groupby": [
                                "Political Stability"
                              ],
                              "loess": "Life Ladder",
                              "on": "Positive Affect"
                            }
                          ]
                        }
                      ],
                      "resolve": {
                        "scale": {
                          "color": "independent"
                        }
                      },
                      "width": 180
                    },
                    {
                      "height": 180,
                      "layer": [
                        {
                          "data": {
                            "name": "data-c93f45460033434403eb6c99010bc3bb"
                          },
                          "encoding": {
                            "color": {
                              "value": "blue"
                            },
                            "x": {
                              "field": "Negative Affect",
                              "scale": {
                                "zero": false
                              },
                              "title": "Negative Affect",
                              "type": "quantitative"
                            },
                            "y": {
                              "field": "Life Ladder",
                              "scale": {
                                "zero": false
                              },
                              "title": "Life Ladder",
                              "type": "quantitative"
                            }
                          },
                          "mark": "circle"
                        },
                        {
                          "data": {
                            "name": "data-25dbe36bf44e97cc83e550d21cd19939"
                          },
                          "encoding": {
                            "color": {
                              "value": "red"
                            },
                            "x": {
                              "field": "Negative Affect",
                              "scale": {
                                "zero": false
                              },
                              "title": "Negative Affect",
                              "type": "quantitative"
                            },
                            "y": {
                              "field": "Life Ladder",
                              "scale": {
                                "zero": false
                              },
                              "title": "Life Ladder",
                              "type": "quantitative"
                            }
                          },
                          "mark": "circle"
                        },
                        {
                          "data": {
                            "name": "data-c93f45460033434403eb6c99010bc3bb"
                          },
                          "encoding": {
                            "color": {
                              "value": "blue"
                            },
                            "x": {
                              "field": "Negative Affect",
                              "title": "Negative Affect",
                              "type": "quantitative"
                            },
                            "y": {
                              "field": "Life Ladder",
                              "title": "Life Ladder",
                              "type": "quantitative"
                            }
                          },
                          "mark": "line",
                          "transform": [
                            {
                              "bandwidth": 1,
                              "groupby": [
                                "Political Stability"
                              ],
                              "loess": "Life Ladder",
                              "on": "Negative Affect"
                            }
                          ]
                        },
                        {
                          "data": {
                            "name": "data-25dbe36bf44e97cc83e550d21cd19939"
                          },
                          "encoding": {
                            "color": {
                              "value": "red"
                            },
                            "x": {
                              "field": "Negative Affect",
                              "title": "Negative Affect",
                              "type": "quantitative"
                            },
                            "y": {
                              "field": "Life Ladder",
                              "title": "Life Ladder",
                              "type": "quantitative"
                            }
                          },
                          "mark": "line",
                          "transform": [
                            {
                              "bandwidth": 1,
                              "groupby": [
                                "Political Stability"
                              ],
                              "loess": "Life Ladder",
                              "on": "Negative Affect"
                            }
                          ]
                        }
                      ],
                      "resolve": {
                        "scale": {
                          "color": "independent"
                        }
                      },
                      "width": 180
                    }
                  ]
                }
              ]
            },
            "image/png": "[encoded data removed]",
            "text/plain": [
              "<VegaLite 4 object>\n",
              "\n",
              "If you see this message, it means the renderer has not been properly enabled\n",
              "for the frontend that you are using. For more information, see\n",
              "https://altair-viz.github.io/user_guide/troubleshooting.html\n"
            ]
          },
          "metadata": {}
        }
      ]
    },
    {
      "cell_type": "markdown",
      "source": "**In this visualization, Blue represents Stable Country, and Red Represents Unstable Country.**",
      "metadata": {
        "tags": []
      }
    },
    {
      "cell_type": "markdown",
      "source": "As seen in the scatterplots above, there seems to be a positive trend between **Life Ladder** and the following variables: **Log GDP per capita**, **social support**, **life expectancy** for both colors. This means that these variables affect life ladder levels regardless of political stability. For example, As the amount of Social Support increases, Life Ladder increases in both unstable and stable countries.\n\nWhen comparing **Life Ladder** Levels to **Generosity** both colors have no trends as according to their scattered, non-linear point distribution. This means that **Generosity** doesn't have much of an affect on Life Ladder levels regardless of political stability.\n\nWhen comparing **Life Ladder** Levels to **Corruption**, we don't see any relationship for the Unstable country, which means corruption levels have no effect on Life Ladder levels in Unstable countries. However, we see a big effect on stable countries as we see a decreasing trend of **Life Ladder** levels as **Corruption** increases for Stable countries. The same goes for **Negative Affect**, as there isn't much trends in unstable countries, but for stable countries, a **Negative Affect** increase decreases **Life Ladder** levels. This is the opposite vice versa for **Positive Affect** for stable countries (Higher **Positive Affect** = Higher **Life Ladder**), and again, not much trend for unstable countries.\n\n",
      "metadata": {}
    },
    {
      "cell_type": "markdown",
      "source": "\nNow, let's compare their correlations to see their differences in the heatmap:",
      "metadata": {}
    },
    {
      "cell_type": "code",
      "source": "# heatmap of stable countries factors\n# assessing correlations of numerical variables\ncorr_stable = stable_data.drop(columns = ['Country', 'Political Stability']).corr() # drop categorical variables, take correlation values\n\n# melt\ncorr_stable_long = corr_stable.reset_index().rename(\n    columns = {'index': 'row'}\n).melt(\n    id_vars = 'row',\n    var_name = 'col',\n    value_name = 'Correlation'\n)\n\n# heatmap of unstable countries factors\n# assessing correlations of numerical variables\ncorr_unstable = unstable_data.drop(columns = ['Country', 'Political Stability']).corr() # drop categorical variables, take correlation values\n\n# melt\ncorr_unstable_long = corr_unstable.reset_index().rename(\n    columns = {'index': 'row'}\n).melt(\n    id_vars = 'row',\n    var_name = 'col',\n    value_name = 'Correlation'\n)\n\n# Construct heatmap plot for stable countries\nh1 = alt.Chart(corr_stable_long).mark_rect().encode(\n    x=alt.X('col', title=''),\n    y=alt.Y('row', title=''),\n    color=alt.Color('Correlation',\n                    scale=alt.Scale(scheme='blueorange', domain=(-1, 1), type='sqrt'),\n                    legend=alt.Legend(tickCount=5))\n).properties(\n    title='Stable Countries',  # Add title for h1\n    width=300,\n    height=300\n)\n\n# Construct heatmap plot for unstable countries\nh2 = alt.Chart(corr_unstable_long).mark_rect().encode(\n    x=alt.X('col', title=''),\n    y=alt.Y('row', title=''),\n    color=alt.Color('Correlation',\n                    scale=alt.Scale(scheme='blueorange', domain=(-1, 1), type='sqrt'),\n                    legend=alt.Legend(tickCount=5))\n).properties(\n    title='Unstable Countries',  # Add title for h2\n    width=300,\n    height=300\n)\n\nh1 | h2",
      "metadata": {
        "tags": []
      },
      "execution_count": 22,
      "outputs": [
        {
          "execution_count": 22,
          "output_type": "execute_result",
          "data": {
            "application/vnd.vegalite.v4+json": {
              "$schema": "https://vega.github.io/schema/vega-lite/v4.17.0.json",
              "config": {
                "view": {
                  "continuousHeight": 300,
                  "continuousWidth": 400
                }
              },
              "datasets": {
                "data-69440c6341d1abfb69a2c138668027ce": [
                  {
                    "Correlation": 1,
                    "col": "Life Ladder",
                    "row": "Life Ladder"
                  },
                  {
                    "Correlation": 0.6992226263217821,
                    "col": "Life Ladder",
                    "row": "Log GDP per Capita"
                  },
                  {
                    "Correlation": 0.711247477755283,
                    "col": "Life Ladder",
                    "row": "Social Support"
                  },
                  {
                    "Correlation": 0.6955553330944618,
                    "col": "Life Ladder",
                    "row": "Life Expectancy"
                  },
                  {
                    "Correlation": 0.4122128536249196,
                    "col": "Life Ladder",
                    "row": "Life Choice Freedom"
                  },
                  {
                    "Correlation": -0.14662424633831048,
                    "col": "Life Ladder",
                    "row": "Generosity"
                  },
                  {
                    "Correlation": 0.13558969840165602,
                    "col": "Life Ladder",
                    "row": "Corruption"
                  },
                  {
                    "Correlation": 0.44262958813770725,
                    "col": "Life Ladder",
                    "row": "Positive Affect"
                  },
                  {
                    "Correlation": -0.16779204463482564,
                    "col": "Life Ladder",
                    "row": "Negative Affect"
                  },
                  {
                    "Correlation": 0.6992226263217821,
                    "col": "Log GDP per Capita",
                    "row": "Life Ladder"
                  },
                  {
                    "Correlation": 1,
                    "col": "Log GDP per Capita",
                    "row": "Log GDP per Capita"
                  },
                  {
                    "Correlation": 0.6207250337367982,
                    "col": "Log GDP per Capita",
                    "row": "Social Support"
                  },
                  {
                    "Correlation": 0.8282410022168819,
                    "col": "Log GDP per Capita",
                    "row": "Life Expectancy"
                  },
                  {
                    "Correlation": 0.03432715080360129,
                    "col": "Log GDP per Capita",
                    "row": "Life Choice Freedom"
                  },
                  {
                    "Correlation": -0.24428428850252826,
                    "col": "Log GDP per Capita",
                    "row": "Generosity"
                  },
                  {
                    "Correlation": 0.26753258677289926,
                    "col": "Log GDP per Capita",
                    "row": "Corruption"
                  },
                  {
                    "Correlation": -0.016839202469958365,
                    "col": "Log GDP per Capita",
                    "row": "Positive Affect"
                  },
                  {
                    "Correlation": 0.10338015587222284,
                    "col": "Log GDP per Capita",
                    "row": "Negative Affect"
                  },
                  {
                    "Correlation": 0.711247477755283,
                    "col": "Social Support",
                    "row": "Life Ladder"
                  },
                  {
                    "Correlation": 0.6207250337367982,
                    "col": "Social Support",
                    "row": "Log GDP per Capita"
                  },
                  {
                    "Correlation": 1,
                    "col": "Social Support",
                    "row": "Social Support"
                  },
                  {
                    "Correlation": 0.6061692989340581,
                    "col": "Social Support",
                    "row": "Life Expectancy"
                  },
                  {
                    "Correlation": 0.24002796672514085,
                    "col": "Social Support",
                    "row": "Life Choice Freedom"
                  },
                  {
                    "Correlation": -0.23729374526979127,
                    "col": "Social Support",
                    "row": "Generosity"
                  },
                  {
                    "Correlation": 0.18289296904935798,
                    "col": "Social Support",
                    "row": "Corruption"
                  },
                  {
                    "Correlation": 0.3360206318792157,
                    "col": "Social Support",
                    "row": "Positive Affect"
                  },
                  {
                    "Correlation": -0.29600812969489815,
                    "col": "Social Support",
                    "row": "Negative Affect"
                  },
                  {
                    "Correlation": 0.6955553330944618,
                    "col": "Life Expectancy",
                    "row": "Life Ladder"
                  },
                  {
                    "Correlation": 0.8282410022168819,
                    "col": "Life Expectancy",
                    "row": "Log GDP per Capita"
                  },
                  {
                    "Correlation": 0.6061692989340581,
                    "col": "Life Expectancy",
                    "row": "Social Support"
                  },
                  {
                    "Correlation": 1,
                    "col": "Life Expectancy",
                    "row": "Life Expectancy"
                  },
                  {
                    "Correlation": 0.1296104752687763,
                    "col": "Life Expectancy",
                    "row": "Life Choice Freedom"
                  },
                  {
                    "Correlation": -0.20171707067196026,
                    "col": "Life Expectancy",
                    "row": "Generosity"
                  },
                  {
                    "Correlation": 0.11731168706114493,
                    "col": "Life Expectancy",
                    "row": "Corruption"
                  },
                  {
                    "Correlation": 0.06633243068641216,
                    "col": "Life Expectancy",
                    "row": "Positive Affect"
                  },
                  {
                    "Correlation": 0.06051521547781766,
                    "col": "Life Expectancy",
                    "row": "Negative Affect"
                  },
                  {
                    "Correlation": 0.4122128536249196,
                    "col": "Life Choice Freedom",
                    "row": "Life Ladder"
                  },
                  {
                    "Correlation": 0.03432715080360129,
                    "col": "Life Choice Freedom",
                    "row": "Log GDP per Capita"
                  },
                  {
                    "Correlation": 0.24002796672514085,
                    "col": "Life Choice Freedom",
                    "row": "Social Support"
                  },
                  {
                    "Correlation": 0.1296104752687763,
                    "col": "Life Choice Freedom",
                    "row": "Life Expectancy"
                  },
                  {
                    "Correlation": 1,
                    "col": "Life Choice Freedom",
                    "row": "Life Choice Freedom"
                  },
                  {
                    "Correlation": 0.2015917150070816,
                    "col": "Life Choice Freedom",
                    "row": "Generosity"
                  },
                  {
                    "Correlation": -0.3485589879489565,
                    "col": "Life Choice Freedom",
                    "row": "Corruption"
                  },
                  {
                    "Correlation": 0.6883436122145665,
                    "col": "Life Choice Freedom",
                    "row": "Positive Affect"
                  },
                  {
                    "Correlation": -0.24811641918295302,
                    "col": "Life Choice Freedom",
                    "row": "Negative Affect"
                  },
                  {
                    "Correlation": -0.14662424633831048,
                    "col": "Generosity",
                    "row": "Life Ladder"
                  },
                  {
                    "Correlation": -0.24428428850252826,
                    "col": "Generosity",
                    "row": "Log GDP per Capita"
                  },
                  {
                    "Correlation": -0.23729374526979127,
                    "col": "Generosity",
                    "row": "Social Support"
                  },
                  {
                    "Correlation": -0.20171707067196026,
                    "col": "Generosity",
                    "row": "Life Expectancy"
                  },
                  {
                    "Correlation": 0.2015917150070816,
                    "col": "Generosity",
                    "row": "Life Choice Freedom"
                  },
                  {
                    "Correlation": 1,
                    "col": "Generosity",
                    "row": "Generosity"
                  },
                  {
                    "Correlation": -0.19615991022015747,
                    "col": "Generosity",
                    "row": "Corruption"
                  },
                  {
                    "Correlation": 0.07966661842603612,
                    "col": "Generosity",
                    "row": "Positive Affect"
                  },
                  {
                    "Correlation": 0.07796284821295339,
                    "col": "Generosity",
                    "row": "Negative Affect"
                  },
                  {
                    "Correlation": 0.13558969840165602,
                    "col": "Corruption",
                    "row": "Life Ladder"
                  },
                  {
                    "Correlation": 0.26753258677289926,
                    "col": "Corruption",
                    "row": "Log GDP per Capita"
                  },
                  {
                    "Correlation": 0.18289296904935798,
                    "col": "Corruption",
                    "row": "Social Support"
                  },
                  {
                    "Correlation": 0.11731168706114493,
                    "col": "Corruption",
                    "row": "Life Expectancy"
                  },
                  {
                    "Correlation": -0.3485589879489565,
                    "col": "Corruption",
                    "row": "Life Choice Freedom"
                  },
                  {
                    "Correlation": -0.19615991022015747,
                    "col": "Corruption",
                    "row": "Generosity"
                  },
                  {
                    "Correlation": 1,
                    "col": "Corruption",
                    "row": "Corruption"
                  },
                  {
                    "Correlation": -0.1534414872642431,
                    "col": "Corruption",
                    "row": "Positive Affect"
                  },
                  {
                    "Correlation": 0.2603120494445681,
                    "col": "Corruption",
                    "row": "Negative Affect"
                  },
                  {
                    "Correlation": 0.44262958813770725,
                    "col": "Positive Affect",
                    "row": "Life Ladder"
                  },
                  {
                    "Correlation": -0.016839202469958365,
                    "col": "Positive Affect",
                    "row": "Log GDP per Capita"
                  },
                  {
                    "Correlation": 0.3360206318792157,
                    "col": "Positive Affect",
                    "row": "Social Support"
                  },
                  {
                    "Correlation": 0.06633243068641216,
                    "col": "Positive Affect",
                    "row": "Life Expectancy"
                  },
                  {
                    "Correlation": 0.6883436122145665,
                    "col": "Positive Affect",
                    "row": "Life Choice Freedom"
                  },
                  {
                    "Correlation": 0.07966661842603612,
                    "col": "Positive Affect",
                    "row": "Generosity"
                  },
                  {
                    "Correlation": -0.1534414872642431,
                    "col": "Positive Affect",
                    "row": "Corruption"
                  },
                  {
                    "Correlation": 1,
                    "col": "Positive Affect",
                    "row": "Positive Affect"
                  },
                  {
                    "Correlation": -0.3381679813497659,
                    "col": "Positive Affect",
                    "row": "Negative Affect"
                  },
                  {
                    "Correlation": -0.16779204463482564,
                    "col": "Negative Affect",
                    "row": "Life Ladder"
                  },
                  {
                    "Correlation": 0.10338015587222284,
                    "col": "Negative Affect",
                    "row": "Log GDP per Capita"
                  },
                  {
                    "Correlation": -0.29600812969489815,
                    "col": "Negative Affect",
                    "row": "Social Support"
                  },
                  {
                    "Correlation": 0.06051521547781766,
                    "col": "Negative Affect",
                    "row": "Life Expectancy"
                  },
                  {
                    "Correlation": -0.24811641918295302,
                    "col": "Negative Affect",
                    "row": "Life Choice Freedom"
                  },
                  {
                    "Correlation": 0.07796284821295339,
                    "col": "Negative Affect",
                    "row": "Generosity"
                  },
                  {
                    "Correlation": 0.2603120494445681,
                    "col": "Negative Affect",
                    "row": "Corruption"
                  },
                  {
                    "Correlation": -0.3381679813497659,
                    "col": "Negative Affect",
                    "row": "Positive Affect"
                  },
                  {
                    "Correlation": 1,
                    "col": "Negative Affect",
                    "row": "Negative Affect"
                  }
                ],
                "data-c867fcad3866034130e668a9a87db26a": [
                  {
                    "Correlation": 1,
                    "col": "Life Ladder",
                    "row": "Life Ladder"
                  },
                  {
                    "Correlation": 0.8379883685678828,
                    "col": "Life Ladder",
                    "row": "Log GDP per Capita"
                  },
                  {
                    "Correlation": 0.7638933377221544,
                    "col": "Life Ladder",
                    "row": "Social Support"
                  },
                  {
                    "Correlation": 0.8054218291101541,
                    "col": "Life Ladder",
                    "row": "Life Expectancy"
                  },
                  {
                    "Correlation": 0.5910432101970899,
                    "col": "Life Ladder",
                    "row": "Life Choice Freedom"
                  },
                  {
                    "Correlation": 0.2883080873909072,
                    "col": "Life Ladder",
                    "row": "Generosity"
                  },
                  {
                    "Correlation": -0.5875403860341902,
                    "col": "Life Ladder",
                    "row": "Corruption"
                  },
                  {
                    "Correlation": 0.5014191022820729,
                    "col": "Life Ladder",
                    "row": "Positive Affect"
                  },
                  {
                    "Correlation": -0.40674064744153765,
                    "col": "Life Ladder",
                    "row": "Negative Affect"
                  },
                  {
                    "Correlation": 0.8379883685678828,
                    "col": "Log GDP per Capita",
                    "row": "Life Ladder"
                  },
                  {
                    "Correlation": 1,
                    "col": "Log GDP per Capita",
                    "row": "Log GDP per Capita"
                  },
                  {
                    "Correlation": 0.7763221583480729,
                    "col": "Log GDP per Capita",
                    "row": "Social Support"
                  },
                  {
                    "Correlation": 0.8293444907969745,
                    "col": "Log GDP per Capita",
                    "row": "Life Expectancy"
                  },
                  {
                    "Correlation": 0.3842779351628318,
                    "col": "Log GDP per Capita",
                    "row": "Life Choice Freedom"
                  },
                  {
                    "Correlation": 0.043345811622322816,
                    "col": "Log GDP per Capita",
                    "row": "Generosity"
                  },
                  {
                    "Correlation": -0.4820725355670429,
                    "col": "Log GDP per Capita",
                    "row": "Corruption"
                  },
                  {
                    "Correlation": 0.24768851990546148,
                    "col": "Log GDP per Capita",
                    "row": "Positive Affect"
                  },
                  {
                    "Correlation": -0.3996745046073953,
                    "col": "Log GDP per Capita",
                    "row": "Negative Affect"
                  },
                  {
                    "Correlation": 0.7638933377221544,
                    "col": "Social Support",
                    "row": "Life Ladder"
                  },
                  {
                    "Correlation": 0.7763221583480729,
                    "col": "Social Support",
                    "row": "Log GDP per Capita"
                  },
                  {
                    "Correlation": 1,
                    "col": "Social Support",
                    "row": "Social Support"
                  },
                  {
                    "Correlation": 0.6644233507924144,
                    "col": "Social Support",
                    "row": "Life Expectancy"
                  },
                  {
                    "Correlation": 0.39891981393542947,
                    "col": "Social Support",
                    "row": "Life Choice Freedom"
                  },
                  {
                    "Correlation": 0.19844770403869524,
                    "col": "Social Support",
                    "row": "Generosity"
                  },
                  {
                    "Correlation": -0.31213996069270267,
                    "col": "Social Support",
                    "row": "Corruption"
                  },
                  {
                    "Correlation": 0.42490206683794574,
                    "col": "Social Support",
                    "row": "Positive Affect"
                  },
                  {
                    "Correlation": -0.4685954198471259,
                    "col": "Social Support",
                    "row": "Negative Affect"
                  },
                  {
                    "Correlation": 0.8054218291101541,
                    "col": "Life Expectancy",
                    "row": "Life Ladder"
                  },
                  {
                    "Correlation": 0.8293444907969745,
                    "col": "Life Expectancy",
                    "row": "Log GDP per Capita"
                  },
                  {
                    "Correlation": 0.6644233507924144,
                    "col": "Life Expectancy",
                    "row": "Social Support"
                  },
                  {
                    "Correlation": 1,
                    "col": "Life Expectancy",
                    "row": "Life Expectancy"
                  },
                  {
                    "Correlation": 0.3832543267407369,
                    "col": "Life Expectancy",
                    "row": "Life Choice Freedom"
                  },
                  {
                    "Correlation": 0.12465466844497688,
                    "col": "Life Expectancy",
                    "row": "Generosity"
                  },
                  {
                    "Correlation": -0.38861749839688225,
                    "col": "Life Expectancy",
                    "row": "Corruption"
                  },
                  {
                    "Correlation": 0.19206027908127873,
                    "col": "Life Expectancy",
                    "row": "Positive Affect"
                  },
                  {
                    "Correlation": -0.3218715708089463,
                    "col": "Life Expectancy",
                    "row": "Negative Affect"
                  },
                  {
                    "Correlation": 0.5910432101970899,
                    "col": "Life Choice Freedom",
                    "row": "Life Ladder"
                  },
                  {
                    "Correlation": 0.3842779351628318,
                    "col": "Life Choice Freedom",
                    "row": "Log GDP per Capita"
                  },
                  {
                    "Correlation": 0.39891981393542947,
                    "col": "Life Choice Freedom",
                    "row": "Social Support"
                  },
                  {
                    "Correlation": 0.3832543267407369,
                    "col": "Life Choice Freedom",
                    "row": "Life Expectancy"
                  },
                  {
                    "Correlation": 1,
                    "col": "Life Choice Freedom",
                    "row": "Life Choice Freedom"
                  },
                  {
                    "Correlation": 0.5160013959025714,
                    "col": "Life Choice Freedom",
                    "row": "Generosity"
                  },
                  {
                    "Correlation": -0.576883505242295,
                    "col": "Life Choice Freedom",
                    "row": "Corruption"
                  },
                  {
                    "Correlation": 0.5545359722719239,
                    "col": "Life Choice Freedom",
                    "row": "Positive Affect"
                  },
                  {
                    "Correlation": -0.2751460172937968,
                    "col": "Life Choice Freedom",
                    "row": "Negative Affect"
                  },
                  {
                    "Correlation": 0.2883080873909072,
                    "col": "Generosity",
                    "row": "Life Ladder"
                  },
                  {
                    "Correlation": 0.043345811622322816,
                    "col": "Generosity",
                    "row": "Log GDP per Capita"
                  },
                  {
                    "Correlation": 0.19844770403869524,
                    "col": "Generosity",
                    "row": "Social Support"
                  },
                  {
                    "Correlation": 0.12465466844497688,
                    "col": "Generosity",
                    "row": "Life Expectancy"
                  },
                  {
                    "Correlation": 0.5160013959025714,
                    "col": "Generosity",
                    "row": "Life Choice Freedom"
                  },
                  {
                    "Correlation": 1,
                    "col": "Generosity",
                    "row": "Generosity"
                  },
                  {
                    "Correlation": -0.34420021409914375,
                    "col": "Generosity",
                    "row": "Corruption"
                  },
                  {
                    "Correlation": 0.4816602857980651,
                    "col": "Generosity",
                    "row": "Positive Affect"
                  },
                  {
                    "Correlation": -0.173910712323132,
                    "col": "Generosity",
                    "row": "Negative Affect"
                  },
                  {
                    "Correlation": -0.5875403860341902,
                    "col": "Corruption",
                    "row": "Life Ladder"
                  },
                  {
                    "Correlation": -0.4820725355670429,
                    "col": "Corruption",
                    "row": "Log GDP per Capita"
                  },
                  {
                    "Correlation": -0.31213996069270267,
                    "col": "Corruption",
                    "row": "Social Support"
                  },
                  {
                    "Correlation": -0.38861749839688225,
                    "col": "Corruption",
                    "row": "Life Expectancy"
                  },
                  {
                    "Correlation": -0.576883505242295,
                    "col": "Corruption",
                    "row": "Life Choice Freedom"
                  },
                  {
                    "Correlation": -0.34420021409914375,
                    "col": "Corruption",
                    "row": "Generosity"
                  },
                  {
                    "Correlation": 1,
                    "col": "Corruption",
                    "row": "Corruption"
                  },
                  {
                    "Correlation": -0.3451670893666518,
                    "col": "Corruption",
                    "row": "Positive Affect"
                  },
                  {
                    "Correlation": 0.35252674101192333,
                    "col": "Corruption",
                    "row": "Negative Affect"
                  },
                  {
                    "Correlation": 0.5014191022820729,
                    "col": "Positive Affect",
                    "row": "Life Ladder"
                  },
                  {
                    "Correlation": 0.24768851990546148,
                    "col": "Positive Affect",
                    "row": "Log GDP per Capita"
                  },
                  {
                    "Correlation": 0.42490206683794574,
                    "col": "Positive Affect",
                    "row": "Social Support"
                  },
                  {
                    "Correlation": 0.19206027908127873,
                    "col": "Positive Affect",
                    "row": "Life Expectancy"
                  },
                  {
                    "Correlation": 0.5545359722719239,
                    "col": "Positive Affect",
                    "row": "Life Choice Freedom"
                  },
                  {
                    "Correlation": 0.4816602857980651,
                    "col": "Positive Affect",
                    "row": "Generosity"
                  },
                  {
                    "Correlation": -0.3451670893666518,
                    "col": "Positive Affect",
                    "row": "Corruption"
                  },
                  {
                    "Correlation": 1,
                    "col": "Positive Affect",
                    "row": "Positive Affect"
                  },
                  {
                    "Correlation": -0.34117383877332697,
                    "col": "Positive Affect",
                    "row": "Negative Affect"
                  },
                  {
                    "Correlation": -0.40674064744153765,
                    "col": "Negative Affect",
                    "row": "Life Ladder"
                  },
                  {
                    "Correlation": -0.3996745046073953,
                    "col": "Negative Affect",
                    "row": "Log GDP per Capita"
                  },
                  {
                    "Correlation": -0.4685954198471259,
                    "col": "Negative Affect",
                    "row": "Social Support"
                  },
                  {
                    "Correlation": -0.3218715708089463,
                    "col": "Negative Affect",
                    "row": "Life Expectancy"
                  },
                  {
                    "Correlation": -0.2751460172937968,
                    "col": "Negative Affect",
                    "row": "Life Choice Freedom"
                  },
                  {
                    "Correlation": -0.173910712323132,
                    "col": "Negative Affect",
                    "row": "Generosity"
                  },
                  {
                    "Correlation": 0.35252674101192333,
                    "col": "Negative Affect",
                    "row": "Corruption"
                  },
                  {
                    "Correlation": -0.34117383877332697,
                    "col": "Negative Affect",
                    "row": "Positive Affect"
                  },
                  {
                    "Correlation": 1,
                    "col": "Negative Affect",
                    "row": "Negative Affect"
                  }
                ]
              },
              "hconcat": [
                {
                  "data": {
                    "name": "data-c867fcad3866034130e668a9a87db26a"
                  },
                  "encoding": {
                    "color": {
                      "field": "Correlation",
                      "legend": {
                        "tickCount": 5
                      },
                      "scale": {
                        "domain": [
                          -1,
                          1
                        ],
                        "scheme": "blueorange",
                        "type": "sqrt"
                      },
                      "type": "quantitative"
                    },
                    "x": {
                      "field": "col",
                      "title": "",
                      "type": "nominal"
                    },
                    "y": {
                      "field": "row",
                      "title": "",
                      "type": "nominal"
                    }
                  },
                  "height": 300,
                  "mark": "rect",
                  "title": "Stable Countries",
                  "width": 300
                },
                {
                  "data": {
                    "name": "data-69440c6341d1abfb69a2c138668027ce"
                  },
                  "encoding": {
                    "color": {
                      "field": "Correlation",
                      "legend": {
                        "tickCount": 5
                      },
                      "scale": {
                        "domain": [
                          -1,
                          1
                        ],
                        "scheme": "blueorange",
                        "type": "sqrt"
                      },
                      "type": "quantitative"
                    },
                    "x": {
                      "field": "col",
                      "title": "",
                      "type": "nominal"
                    },
                    "y": {
                      "field": "row",
                      "title": "",
                      "type": "nominal"
                    }
                  },
                  "height": 300,
                  "mark": "rect",
                  "title": "Unstable Countries",
                  "width": 300
                }
              ]
            },
            "image/png": "[encoded data removed]",
            "text/plain": [
              "<VegaLite 4 object>\n",
              "\n",
              "If you see this message, it means the renderer has not been properly enabled\n",
              "for the frontend that you are using. For more information, see\n",
              "https://altair-viz.github.io/user_guide/troubleshooting.html\n"
            ]
          },
          "metadata": {}
        }
      ]
    },
    {
      "cell_type": "markdown",
      "source": "The correlation heatmaps for both groups look significantly different in colors, so let's focus mainly on the Life Ladder correlations for both countries. We can see that Life Expectancy to **Corruption**, **Generosity** are opposite in correlations between Stable and Unstable. This supports our above plot, where we see opposite trends or no correlations in the unstable countries. The other variables have the same correlation sign for both stable and unstable.",
      "metadata": {
        "tags": []
      }
    },
    {
      "cell_type": "markdown",
      "source": "# Regression",
      "metadata": {}
    },
    {
      "cell_type": "markdown",
      "source": "The goal of performing regression analysis in our context of our question of interest is to gain insights into the relationship between the factors that contribute to the well-being of individuals for both politically stable and unstable countries. By performing a multiple linear regression analysis, it allows us to quantify the impact of the independent variables on the dependent variable 'Life Ladder'. By examining the coefficients and statistical significance of these variables, we can assess their contributions to both stable and unstable countries.\n\nIn this analysis, we are specifically interested in understanding how factors such as Log GDP per Capita, Social Support, Life Expectancy, Life Choice Freedom, Generosity, perceptions of Corruption, and positive/negative affect may influence an individual's subjective well-being. By exploring the relationships between these variables and the \"Life Ladder\" measure, we aim to identify significant coefficient estimates and seek any differences between stable and unstable countries.",
      "metadata": {}
    },
    {
      "cell_type": "code",
      "source": "# mlr - stable countries\nX1 = stable_data[['Log GDP per Capita', 'Social Support', 'Life Expectancy', 'Life Choice Freedom', 'Generosity', 'Corruption', 'Positive Affect', 'Negative Affect']]\n\n# add constants to the design matrix\nX1 = sm.add_constant(X1)\ny1 = stable_data['Life Ladder']\n\n# fit multiple linear regression model for stable countries\nmlr_stable = sm.OLS(y1, X1)\nrslt_stable = mlr_stable.fit()\n\n# Create dataframe of coefficients and std error\ncoef_stable = pd.DataFrame({\n    'estimate': rslt_stable.params,\n    'std. error': np.sqrt(rslt_stable.cov_params().values.diagonal())\n}, index = X1.columns.values\n)\n\n# Estimated Error variance\ncoef_stable.loc['Stable error variance', 'estimate'] = rslt_stable.scale\n\n\n\n# mlr - unstable countries\nX2 = unstable_data[['Log GDP per Capita', 'Social Support', 'Life Expectancy', 'Life Choice Freedom', 'Generosity', 'Corruption', 'Positive Affect', 'Negative Affect']]\n\n# add constants to the design matrix\nX2 = sm.add_constant(X2)\ny2 = unstable_data['Life Ladder']\n\n# fit multiple linear regression model for stable countries\nmlr_unstable = sm.OLS(y2, X2)\nrslt_unstable = mlr_unstable.fit()\n\n# Create dataframe of coefficients and std error\ncoef_unstable = pd.DataFrame({\n    'estimate2': rslt_unstable.params,\n    'std. error2': np.sqrt(rslt_unstable.cov_params().values.diagonal())\n}, index = X2.columns.values\n)\n\n# Estimated Error variance\ncoef_unstable.loc['Unstable error variance', 'estimate2'] = rslt_unstable.scale\nboth_tables = pd.concat([coef_stable, coef_unstable], axis = 1)\n\n# Change column names for better look\nnew_column_names = {'estimate': 'Stable Coefficients', 'std. error': 'Stable std. error', 'estimate2': 'Unstable Coefficients', 'std. error2': 'Unstable std. error'}\n\n# Rename columns based on the column index and reorder columns\nboth_tables = both_tables.rename(columns=new_column_names).loc[:,['Stable Coefficients', 'Unstable Coefficients', 'Stable std. error', 'Unstable std. error']]\nboth_tables",
      "metadata": {
        "tags": []
      },
      "execution_count": 23,
      "outputs": [
        {
          "execution_count": 23,
          "output_type": "execute_result",
          "data": {
            "text/html": [
              "<div>\n",
              "<style scoped>\n",
              "    .dataframe tbody tr th:only-of-type {\n",
              "        vertical-align: middle;\n",
              "    }\n",
              "\n",
              "    .dataframe tbody tr th {\n",
              "        vertical-align: top;\n",
              "    }\n",
              "\n",
              "    .dataframe thead th {\n",
              "        text-align: right;\n",
              "    }\n",
              "</style>\n",
              "<table border=\"1\" class=\"dataframe\">\n",
              "  <thead>\n",
              "    <tr style=\"text-align: right;\">\n",
              "      <th></th>\n",
              "      <th>Stable Coefficients</th>\n",
              "      <th>Unstable Coefficients</th>\n",
              "      <th>Stable std. error</th>\n",
              "      <th>Unstable std. error</th>\n",
              "    </tr>\n",
              "  </thead>\n",
              "  <tbody>\n",
              "    <tr>\n",
              "      <th>const</th>\n",
              "      <td>-4.298304</td>\n",
              "      <td>-2.919448</td>\n",
              "      <td>0.882475</td>\n",
              "      <td>0.748194</td>\n",
              "    </tr>\n",
              "    <tr>\n",
              "      <th>Log GDP per Capita</th>\n",
              "      <td>0.297812</td>\n",
              "      <td>0.324973</td>\n",
              "      <td>0.101232</td>\n",
              "      <td>0.111064</td>\n",
              "    </tr>\n",
              "    <tr>\n",
              "      <th>Social Support</th>\n",
              "      <td>1.635917</td>\n",
              "      <td>1.379009</td>\n",
              "      <td>0.750224</td>\n",
              "      <td>0.836703</td>\n",
              "    </tr>\n",
              "    <tr>\n",
              "      <th>Life Expectancy</th>\n",
              "      <td>0.057539</td>\n",
              "      <td>0.028183</td>\n",
              "      <td>0.013031</td>\n",
              "      <td>0.015605</td>\n",
              "    </tr>\n",
              "    <tr>\n",
              "      <th>Life Choice Freedom</th>\n",
              "      <td>0.965367</td>\n",
              "      <td>1.113285</td>\n",
              "      <td>0.648428</td>\n",
              "      <td>0.657778</td>\n",
              "    </tr>\n",
              "    <tr>\n",
              "      <th>Generosity</th>\n",
              "      <td>0.083930</td>\n",
              "      <td>0.022160</td>\n",
              "      <td>0.364381</td>\n",
              "      <td>0.490370</td>\n",
              "    </tr>\n",
              "    <tr>\n",
              "      <th>Corruption</th>\n",
              "      <td>-0.844688</td>\n",
              "      <td>0.609323</td>\n",
              "      <td>0.310539</td>\n",
              "      <td>0.543247</td>\n",
              "    </tr>\n",
              "    <tr>\n",
              "      <th>Positive Affect</th>\n",
              "      <td>2.514196</td>\n",
              "      <td>2.047044</td>\n",
              "      <td>0.692054</td>\n",
              "      <td>0.816914</td>\n",
              "    </tr>\n",
              "    <tr>\n",
              "      <th>Negative Affect</th>\n",
              "      <td>0.754697</td>\n",
              "      <td>-0.741602</td>\n",
              "      <td>0.815180</td>\n",
              "      <td>0.895572</td>\n",
              "    </tr>\n",
              "    <tr>\n",
              "      <th>Stable error variance</th>\n",
              "      <td>0.169946</td>\n",
              "      <td>NaN</td>\n",
              "      <td>NaN</td>\n",
              "      <td>NaN</td>\n",
              "    </tr>\n",
              "    <tr>\n",
              "      <th>Unstable error variance</th>\n",
              "      <td>NaN</td>\n",
              "      <td>0.203406</td>\n",
              "      <td>NaN</td>\n",
              "      <td>NaN</td>\n",
              "    </tr>\n",
              "  </tbody>\n",
              "</table>\n",
              "</div>"
            ],
            "text/plain": [
              "                         Stable Coefficients  Unstable Coefficients   \n",
              "const                              -4.298304              -2.919448  \\\n",
              "Log GDP per Capita                  0.297812               0.324973   \n",
              "Social Support                      1.635917               1.379009   \n",
              "Life Expectancy                     0.057539               0.028183   \n",
              "Life Choice Freedom                 0.965367               1.113285   \n",
              "Generosity                          0.083930               0.022160   \n",
              "Corruption                         -0.844688               0.609323   \n",
              "Positive Affect                     2.514196               2.047044   \n",
              "Negative Affect                     0.754697              -0.741602   \n",
              "Stable error variance               0.169946                    NaN   \n",
              "Unstable error variance                  NaN               0.203406   \n",
              "\n",
              "                         Stable std. error  Unstable std. error  \n",
              "const                             0.882475             0.748194  \n",
              "Log GDP per Capita                0.101232             0.111064  \n",
              "Social Support                    0.750224             0.836703  \n",
              "Life Expectancy                   0.013031             0.015605  \n",
              "Life Choice Freedom               0.648428             0.657778  \n",
              "Generosity                        0.364381             0.490370  \n",
              "Corruption                        0.310539             0.543247  \n",
              "Positive Affect                   0.692054             0.816914  \n",
              "Negative Affect                   0.815180             0.895572  \n",
              "Stable error variance                  NaN                  NaN  \n",
              "Unstable error variance                NaN                  NaN  "
            ]
          },
          "metadata": {}
        }
      ]
    },
    {
      "cell_type": "markdown",
      "source": "Comparing the results of the multiple linear regression analysis between stable and unstable countries, we can observe notable similarities and differences in the coefficient estimates for the independent variables. In terms of the most significant factors to **Life Ladder**, the variable **Positive Effect** was the most contributional towards the well being of individuals for both politically stable and unstable countries, and stable countries had a greater coefficient estimate. In similar fashion, the next two most significant factors for both stable and unstable countries are **Social Support** and **Life Choice Freedom**, meaning individuals who have positive perceptions of their country, receive support from friends and family, and believe to have freedoms to make their independent choices in life have impacts on higher well-being regardless of the political stability of the country. This makes sense, as these are highly colinear factors that can affect happiness regardless of anything else. \n\nThere are some opposites in coeffecients between Stable and Unstable countries: **Corruption** and **Negative Affect**, \n* For **Corruption** in a Stable Country, the a higher average positive perception of their countries' corruption levels decreases the **Life Ladder**. However, surprisingly, in an Unstable Country, a higher average positive perception of their countries' corruption levels actually increases their **Ladder Level.** \n* For **Negative Affect**, a higher average negative perception of their whole country increases the **Life Ladder** of a stable country, but for unstable countries, decreases the **Life Ladder**. This could be due to the fact that individuals in stable countries have higher expectations of their country, and individuals in unstable countries have lower expectations of their country.\n \nWe can see that variables with small coefficients don't have much impact in shaping **Life Ladder** of a country. These following variables are: **Generosity**, **Life Expectancy**, and **Log GDP per Capita**. This applies for both politically stable and unstable countries. This is quite surprising, since GDP, Life Expectancy are key indicators in determining the economic status of a country.",
      "metadata": {}
    },
    {
      "cell_type": "markdown",
      "source": "# Summary of Findings",
      "metadata": {}
    },
    {
      "cell_type": "markdown",
      "source": "**Summary of Findings:** \n\n- The analysis examined the factors contributing to the Life Ladder (subjective well-being of the average individual) in politically stable and unstable countries from 2010 to 2020.\n- Overall, there were notable similarities and differences in the factors that influenced Life Ladder between the two groups.\n- Factors that positively impacted Life Ladder regardless of political stability were Social Support, Life Choice Freedom, and other positive perceptions.\n- Positive Effect was the most influential factor in both stable and unstable countries, indicating that individuals' positive perceptions of their country significantly contribute to their well-being.\n- Corruption showed contrasting effects: in stable countries, a higher positive perception of corruption decreased the Life Ladder, while in unstable countries, a higher positive perception of corruption increased the Life Ladder. This suggests that individuals in unstable countries may have lower expectations or different perspectives on corruption.\n- Negative Affect had opposite effects as well: in stable countries, a higher negative perception of the country increased the Life Ladder, whereas in unstable countries, it decreased the Life Ladder. This could be attributed to varying expectations individuals have based on the stability of their country.\n- Variables with smaller coefficients, such as Generosity, Life Expectancy, and Log GDP per Capita, had less impact on shaping the Life Ladder in both stable and unstable countries. This finding is surprising, considering the significance of these factors in determining a country's economic status.\n- Overall, the regression analysis revealed distinct differences in the factors influencing Life Ladder between politically stable and unstable countries, emphasizing the complexity of subjective well-being and its relationship with various socio-economic factors.\n\n\n**Conclusion:** \n\nThese findings emphasize the well-being and the need to consider the specific political context of each country when analyzing and promoting happiness and overall quality of life globally. Political stability appears to play a significant role in shaping individuals' well-being, with the average individuals' opinions on their countries' positive perception, social support, and freedoms shaping their happiness levels. Understanding these distinctions can guide policymakers and organizations in developing targeted interventions and policies that address the unique challenges faced by politically unstable countries, aiming to improve well-being and promote stability. By recognizing the importance of political stability alongside other key factors, governments can work towards fostering happier, healthier, and more prosperous societies worldwide.",
      "metadata": {}
    }
  ]
}